{
 "cells": [
  {
   "cell_type": "markdown",
   "metadata": {},
   "source": [
    "# Pneumonia Detection from Chest X-Rays\n",
    "\n",
    "## Exploratory Data Analysis (EDA)"
   ]
  },
  {
   "cell_type": "code",
   "execution_count": 1,
   "metadata": {},
   "outputs": [],
   "source": [
    "import numpy as np # linear algebra\n",
    "import pandas as pd # data processing, CSV file I/O (e.g. pd.read_csv)\n",
    "import os\n",
    "from glob import glob\n",
    "%matplotlib inline\n",
    "import matplotlib.pyplot as plt\n",
    "import seaborn as sns\n",
    "\n",
    "##Import any other packages you may need here\n",
    "from collections import Counter\n",
    "from PIL import Image, ImageOps"
   ]
  },
  {
   "cell_type": "code",
   "execution_count": 2,
   "metadata": {},
   "outputs": [
    {
     "data": {
      "text/html": [
       "<div>\n",
       "<style scoped>\n",
       "    .dataframe tbody tr th:only-of-type {\n",
       "        vertical-align: middle;\n",
       "    }\n",
       "\n",
       "    .dataframe tbody tr th {\n",
       "        vertical-align: top;\n",
       "    }\n",
       "\n",
       "    .dataframe thead th {\n",
       "        text-align: right;\n",
       "    }\n",
       "</style>\n",
       "<table border=\"1\" class=\"dataframe\">\n",
       "  <thead>\n",
       "    <tr style=\"text-align: right;\">\n",
       "      <th></th>\n",
       "      <th>Image Index</th>\n",
       "      <th>Finding Labels</th>\n",
       "      <th>Follow-up #</th>\n",
       "      <th>Patient ID</th>\n",
       "      <th>Patient Age</th>\n",
       "      <th>Patient Gender</th>\n",
       "      <th>View Position</th>\n",
       "      <th>OriginalImage[Width</th>\n",
       "      <th>Height]</th>\n",
       "      <th>OriginalImagePixelSpacing[x</th>\n",
       "      <th>y]</th>\n",
       "      <th>Unnamed: 11</th>\n",
       "    </tr>\n",
       "  </thead>\n",
       "  <tbody>\n",
       "    <tr>\n",
       "      <th>7053</th>\n",
       "      <td>00001861_001.png</td>\n",
       "      <td>No Finding</td>\n",
       "      <td>1</td>\n",
       "      <td>1861</td>\n",
       "      <td>37</td>\n",
       "      <td>M</td>\n",
       "      <td>PA</td>\n",
       "      <td>2992</td>\n",
       "      <td>2733</td>\n",
       "      <td>0.143</td>\n",
       "      <td>0.143</td>\n",
       "      <td>NaN</td>\n",
       "    </tr>\n",
       "    <tr>\n",
       "      <th>105529</th>\n",
       "      <td>00028366_001.png</td>\n",
       "      <td>No Finding</td>\n",
       "      <td>1</td>\n",
       "      <td>28366</td>\n",
       "      <td>47</td>\n",
       "      <td>M</td>\n",
       "      <td>PA</td>\n",
       "      <td>3056</td>\n",
       "      <td>2544</td>\n",
       "      <td>0.139</td>\n",
       "      <td>0.139</td>\n",
       "      <td>NaN</td>\n",
       "    </tr>\n",
       "    <tr>\n",
       "      <th>83047</th>\n",
       "      <td>00020408_020.png</td>\n",
       "      <td>No Finding</td>\n",
       "      <td>20</td>\n",
       "      <td>20408</td>\n",
       "      <td>45</td>\n",
       "      <td>M</td>\n",
       "      <td>AP</td>\n",
       "      <td>3056</td>\n",
       "      <td>2544</td>\n",
       "      <td>0.139</td>\n",
       "      <td>0.139</td>\n",
       "      <td>NaN</td>\n",
       "    </tr>\n",
       "  </tbody>\n",
       "</table>\n",
       "</div>"
      ],
      "text/plain": [
       "             Image Index Finding Labels  Follow-up #  Patient ID  Patient Age  \\\n",
       "7053    00001861_001.png     No Finding            1        1861           37   \n",
       "105529  00028366_001.png     No Finding            1       28366           47   \n",
       "83047   00020408_020.png     No Finding           20       20408           45   \n",
       "\n",
       "       Patient Gender View Position  OriginalImage[Width  Height]  \\\n",
       "7053                M            PA                 2992     2733   \n",
       "105529              M            PA                 3056     2544   \n",
       "83047               M            AP                 3056     2544   \n",
       "\n",
       "        OriginalImagePixelSpacing[x     y]  Unnamed: 11  \n",
       "7053                          0.143  0.143          NaN  \n",
       "105529                        0.139  0.139          NaN  \n",
       "83047                         0.139  0.139          NaN  "
      ]
     },
     "execution_count": 2,
     "metadata": {},
     "output_type": "execute_result"
    }
   ],
   "source": [
    "## Load NIH data\n",
    "all_xray_df = pd.read_csv('/data/Data_Entry_2017.csv')\n",
    "all_xray_df.sample(3)"
   ]
  },
  {
   "cell_type": "code",
   "execution_count": 3,
   "metadata": {},
   "outputs": [
    {
     "data": {
      "text/html": [
       "<div>\n",
       "<style scoped>\n",
       "    .dataframe tbody tr th:only-of-type {\n",
       "        vertical-align: middle;\n",
       "    }\n",
       "\n",
       "    .dataframe tbody tr th {\n",
       "        vertical-align: top;\n",
       "    }\n",
       "\n",
       "    .dataframe thead th {\n",
       "        text-align: right;\n",
       "    }\n",
       "</style>\n",
       "<table border=\"1\" class=\"dataframe\">\n",
       "  <thead>\n",
       "    <tr style=\"text-align: right;\">\n",
       "      <th></th>\n",
       "      <th>Image Index</th>\n",
       "      <th>Finding Labels</th>\n",
       "      <th>Follow-up #</th>\n",
       "      <th>Patient ID</th>\n",
       "      <th>Patient Age</th>\n",
       "      <th>Patient Gender</th>\n",
       "      <th>View Position</th>\n",
       "      <th>OriginalImageWidth</th>\n",
       "      <th>OriginalImageHeight</th>\n",
       "      <th>OriginalImagePixelSpacing_x</th>\n",
       "      <th>OriginalImagePixelSpacing_y</th>\n",
       "    </tr>\n",
       "  </thead>\n",
       "  <tbody>\n",
       "    <tr>\n",
       "      <th>3292</th>\n",
       "      <td>00016246_000.png</td>\n",
       "      <td>No Finding</td>\n",
       "      <td>0</td>\n",
       "      <td>16246</td>\n",
       "      <td>059Y</td>\n",
       "      <td>M</td>\n",
       "      <td>PA</td>\n",
       "      <td>2530</td>\n",
       "      <td>2762</td>\n",
       "      <td>0.143</td>\n",
       "      <td>0.143</td>\n",
       "    </tr>\n",
       "    <tr>\n",
       "      <th>5189</th>\n",
       "      <td>00027725_073.png</td>\n",
       "      <td>Emphysema|Pneumonia|Pneumothorax</td>\n",
       "      <td>73</td>\n",
       "      <td>27725</td>\n",
       "      <td>021Y</td>\n",
       "      <td>M</td>\n",
       "      <td>AP</td>\n",
       "      <td>3056</td>\n",
       "      <td>2544</td>\n",
       "      <td>0.139</td>\n",
       "      <td>0.139</td>\n",
       "    </tr>\n",
       "    <tr>\n",
       "      <th>2195</th>\n",
       "      <td>00011365_002.png</td>\n",
       "      <td>No Finding</td>\n",
       "      <td>2</td>\n",
       "      <td>11365</td>\n",
       "      <td>057Y</td>\n",
       "      <td>M</td>\n",
       "      <td>AP</td>\n",
       "      <td>2500</td>\n",
       "      <td>2048</td>\n",
       "      <td>0.168</td>\n",
       "      <td>0.168</td>\n",
       "    </tr>\n",
       "  </tbody>\n",
       "</table>\n",
       "</div>"
      ],
      "text/plain": [
       "           Image Index                    Finding Labels  Follow-up #  \\\n",
       "3292  00016246_000.png                        No Finding            0   \n",
       "5189  00027725_073.png  Emphysema|Pneumonia|Pneumothorax           73   \n",
       "2195  00011365_002.png                        No Finding            2   \n",
       "\n",
       "      Patient ID Patient Age Patient Gender View Position  OriginalImageWidth  \\\n",
       "3292       16246        059Y              M            PA                2530   \n",
       "5189       27725        021Y              M            AP                3056   \n",
       "2195       11365        057Y              M            AP                2500   \n",
       "\n",
       "      OriginalImageHeight  OriginalImagePixelSpacing_x  \\\n",
       "3292                 2762                        0.143   \n",
       "5189                 2544                        0.139   \n",
       "2195                 2048                        0.168   \n",
       "\n",
       "      OriginalImagePixelSpacing_y  \n",
       "3292                        0.143  \n",
       "5189                        0.139  \n",
       "2195                        0.168  "
      ]
     },
     "execution_count": 3,
     "metadata": {},
     "output_type": "execute_result"
    }
   ],
   "source": [
    "## Load 'sample_labels.csv' data for pixel level assessments\n",
    "sample_df = pd.read_csv('sample_labels.csv')\n",
    "sample_df.sample(3)"
   ]
  },
  {
   "cell_type": "markdown",
   "metadata": {},
   "source": [
    "## Exploratory Data Analysis\n",
    "\n",
    "We first check if all rows in `all_xray_df` can be matched to all rows in `sample_df`. It shows that they don't have the same number of rows."
   ]
  },
  {
   "cell_type": "code",
   "execution_count": 4,
   "metadata": {},
   "outputs": [
    {
     "name": "stdout",
     "output_type": "stream",
     "text": [
      "Number of rows in all_xray_df: 112120\n",
      "Number of rows in sample_df: 5606\n"
     ]
    },
    {
     "data": {
      "text/plain": [
       "False"
      ]
     },
     "execution_count": 4,
     "metadata": {},
     "output_type": "execute_result"
    }
   ],
   "source": [
    "print(\"Number of rows in all_xray_df: {}\".format(all_xray_df.shape[0]))\n",
    "print(\"Number of rows in sample_df: {}\".format(sample_df.shape[0]))\n",
    "all_xray_df.shape[0] == sample_df.shape[0]"
   ]
  },
  {
   "cell_type": "markdown",
   "metadata": {},
   "source": [
    "### About data (full NIH data)\n",
    "\n",
    "We use the full NIH data (all_xray_df) to perform our EDA. The data contains 112,120 rows and 12 columns.\n",
    "\n",
    "Images are collected from 30,805 unique patients (indexing from 1 to 30,805)."
   ]
  },
  {
   "cell_type": "code",
   "execution_count": 5,
   "metadata": {},
   "outputs": [
    {
     "name": "stdout",
     "output_type": "stream",
     "text": [
      "Shape of all_xray_df: (112120, 12)\n",
      "\n",
      "Unique Image Index: 112120\n",
      "\n",
      "Unique patient IDs: 30805\n",
      "Min patient ID: 1\n",
      "Max patient ID: 30805\n",
      "\n"
     ]
    }
   ],
   "source": [
    "# number of rows and columns in data\n",
    "print(\"Shape of all_xray_df: {}\\n\".format(all_xray_df.shape))\n",
    "\n",
    "# number of unique image\n",
    "print(\"Unique Image Index: {}\\n\".format(all_xray_df['Image Index'].nunique()))\n",
    "\n",
    "# number of unique patient IDs and their min/max\n",
    "print(\"Unique patient IDs: {}\".format(len(all_xray_df['Patient ID'].unique())))\n",
    "print(\"Min patient ID: {}\".format(all_xray_df['Patient ID'].min()))\n",
    "print(\"Max patient ID: {}\\n\".format(all_xray_df['Patient ID'].max()))"
   ]
  },
  {
   "cell_type": "markdown",
   "metadata": {},
   "source": [
    "Patients can have multiple images. I used `collections.Counter` to see the distribution of the number of images taken from each patients.\n",
    "\n",
    "Among all 30,805 patients:\n",
    "- 17,503 patients have only 1 image taken\n",
    "- 4,113 patients have 2 images taken\n",
    "- 2,100 patients have 3 images taken\n",
    "- 1,330 patients have 4 images taken\n",
    "- 87,074 patients have more than 5 images taken\n",
    "\n",
    "There are some (n=157) patients that have taken more than 50 images. The maximum number of images taken is 184, taken from Patient #10007"
   ]
  },
  {
   "cell_type": "code",
   "execution_count": 6,
   "metadata": {},
   "outputs": [
    {
     "data": {
      "text/plain": [
       "Patient ID\n",
       "1    3\n",
       "2    1\n",
       "3    8\n",
       "4    1\n",
       "5    8\n",
       "dtype: int64"
      ]
     },
     "execution_count": 6,
     "metadata": {},
     "output_type": "execute_result"
    }
   ],
   "source": [
    "groupby_patientID_counts = all_xray_df.groupby('Patient ID').size()\n",
    "groupby_patientID_counts.head()"
   ]
  },
  {
   "cell_type": "code",
   "execution_count": 7,
   "metadata": {},
   "outputs": [
    {
     "name": "stdout",
     "output_type": "stream",
     "text": [
      "[(1, 17503), (2, 4113), (3, 2100), (4, 1330), (5, 938), (6, 787), (7, 608), (8, 494), (9, 387), (10, 320), (11, 281), (12, 235), (14, 181), (13, 165), (15, 121), (16, 120), (17, 91), (18, 77), (19, 77), (20, 74), (21, 68), (24, 51), (23, 50), (25, 45), (22, 39), (27, 38), (26, 35), (30, 28), (28, 27), (29, 25), (35, 24), (34, 23), (32, 22), (33, 20), (31, 17), (38, 16), (41, 14), (40, 12), (39, 11), (51, 11), (37, 11), (42, 11), (55, 10), (46, 10), (49, 9), (61, 8), (44, 8), (36, 8), (56, 7), (54, 7), (62, 7), (52, 7), (48, 7), (66, 6), (69, 6), (50, 6), (45, 6), (43, 6), (47, 5), (53, 5), (68, 4), (58, 4), (59, 3), (67, 3), (81, 3), (86, 3), (108, 3), (65, 3), (60, 3), (64, 3), (63, 3), (70, 2), (116, 2), (77, 2), (80, 2), (73, 2), (71, 2), (57, 2), (76, 2), (84, 2), (90, 2), (137, 1), (87, 1), (102, 1), (89, 1), (83, 1), (184, 1), (75, 1), (88, 1), (79, 1), (157, 1), (173, 1), (143, 1), (158, 1), (99, 1), (117, 1), (111, 1), (91, 1), (130, 1), (119, 1), (109, 1), (114, 1), (74, 1)]\n"
     ]
    }
   ],
   "source": [
    "# convert counts to a dictionary, (key, value) = (number of images taken, number of patients)\n",
    "num_image_each_patient_dict = Counter(groupby_patientID_counts.to_numpy())\n",
    "print(sorted(num_image_each_patient_dict.items(), key=lambda x: x[1], reverse=True))"
   ]
  },
  {
   "cell_type": "code",
   "execution_count": 8,
   "metadata": {},
   "outputs": [
    {
     "data": {
      "image/png": "[encoded data removed]",
      "text/plain": [
       "<Figure size 432x288 with 1 Axes>"
      ]
     },
     "metadata": {
      "needs_background": "light"
     },
     "output_type": "display_data"
    }
   ],
   "source": [
    "groupby_patientID_counts = all_xray_df.groupby('Patient ID').size()\n",
    "\n",
    "# box plot of number of images from each patient\n",
    "ax = sns.boxplot(groupby_patientID_counts)\n",
    "ax.set_xlabel(\"Number of x-rays\")\n",
    "plt.show()"
   ]
  },
  {
   "cell_type": "code",
   "execution_count": 9,
   "metadata": {},
   "outputs": [
    {
     "name": "stdout",
     "output_type": "stream",
     "text": [
      "157 patients have more than 50 images\n",
      "\n",
      "Max number of images taken is 184, from the patient(s): [10007]\n"
     ]
    }
   ],
   "source": [
    "# number of unique patients that have taken more than 50 images\n",
    "print(\"{} patients have more than 50 images\\n\".format(sum(groupby_patientID_counts>=50)))\n",
    "# the patient have have taken the most images\n",
    "max_num_images_taken = groupby_patientID_counts.max()\n",
    "max_num_images_taken_pid = groupby_patientID_counts[groupby_patientID_counts == max_num_images_taken].index.values\n",
    "print(\"Max number of images taken is {}, from the patient(s): {}\".format(max_num_images_taken, max_num_images_taken_pid))"
   ]
  },
  {
   "cell_type": "markdown",
   "metadata": {},
   "source": [
    "**About View Position**\n",
    "\n",
    "We see that the `View Position` can take 2 values: `PA` and `AP`. Differences between PA and AP images are discussed in this webpage https://www.radiologymasterclass.co.uk/tutorials/chest/chest_quality/chest_xray_quality_projection."
   ]
  },
  {
   "cell_type": "code",
   "execution_count": 10,
   "metadata": {},
   "outputs": [
    {
     "data": {
      "text/plain": [
       "array(['PA', 'AP'], dtype=object)"
      ]
     },
     "execution_count": 10,
     "metadata": {},
     "output_type": "execute_result"
    }
   ],
   "source": [
    "all_xray_df['View Position'].unique()"
   ]
  },
  {
   "cell_type": "markdown",
   "metadata": {},
   "source": [
    "We see if for each patient there can be more than 1 view position. From below it shows that for the same patient, both view positions might be found (for example, for the patient with ID = 5)"
   ]
  },
  {
   "cell_type": "code",
   "execution_count": 11,
   "metadata": {},
   "outputs": [
    {
     "data": {
      "text/html": [
       "<div>\n",
       "<style scoped>\n",
       "    .dataframe tbody tr th:only-of-type {\n",
       "        vertical-align: middle;\n",
       "    }\n",
       "\n",
       "    .dataframe tbody tr th {\n",
       "        vertical-align: top;\n",
       "    }\n",
       "\n",
       "    .dataframe thead th {\n",
       "        text-align: right;\n",
       "    }\n",
       "</style>\n",
       "<table border=\"1\" class=\"dataframe\">\n",
       "  <thead>\n",
       "    <tr style=\"text-align: right;\">\n",
       "      <th></th>\n",
       "      <th>View Position</th>\n",
       "    </tr>\n",
       "    <tr>\n",
       "      <th>Patient ID</th>\n",
       "      <th></th>\n",
       "    </tr>\n",
       "  </thead>\n",
       "  <tbody>\n",
       "    <tr>\n",
       "      <th>1</th>\n",
       "      <td>1</td>\n",
       "    </tr>\n",
       "    <tr>\n",
       "      <th>2</th>\n",
       "      <td>1</td>\n",
       "    </tr>\n",
       "    <tr>\n",
       "      <th>3</th>\n",
       "      <td>1</td>\n",
       "    </tr>\n",
       "    <tr>\n",
       "      <th>4</th>\n",
       "      <td>1</td>\n",
       "    </tr>\n",
       "    <tr>\n",
       "      <th>5</th>\n",
       "      <td>2</td>\n",
       "    </tr>\n",
       "  </tbody>\n",
       "</table>\n",
       "</div>"
      ],
      "text/plain": [
       "            View Position\n",
       "Patient ID               \n",
       "1                       1\n",
       "2                       1\n",
       "3                       1\n",
       "4                       1\n",
       "5                       2"
      ]
     },
     "execution_count": 11,
     "metadata": {},
     "output_type": "execute_result"
    }
   ],
   "source": [
    "groupby_patientID_df = all_xray_df.groupby('Patient ID')\n",
    "groupby_patientID_df = groupby_patientID_df.agg({'View Position': \"nunique\"})\n",
    "groupby_patientID_df.head()"
   ]
  },
  {
   "cell_type": "markdown",
   "metadata": {},
   "source": [
    "### Patient demography\n",
    "\n",
    "The EDA in this section analyzed the patient demographic data such as gender and age. We first create a DataFrame with columns we're interested in. We also only select the first encounter for each patient (by only taking `Follow-up # = 0`)."
   ]
  },
  {
   "cell_type": "code",
   "execution_count": 12,
   "metadata": {},
   "outputs": [
    {
     "name": "stdout",
     "output_type": "stream",
     "text": [
      "We can always find a row of the initial visit for every patient\n"
     ]
    }
   ],
   "source": [
    "# check if every patient has a row with `Follow-up #` = 0\n",
    "if np.empty(np.setdiff1d(all_xray_df['Patient ID'].unique(),\n",
    "                         all_xray_df[all_xray_df['Follow-up #']==0]['Patient ID'].unique())):\n",
    "    print(\"We can always find a row of the initial visit for every patient\")"
   ]
  },
  {
   "cell_type": "code",
   "execution_count": 13,
   "metadata": {},
   "outputs": [
    {
     "data": {
      "text/plain": [
       "Index(['Image Index', 'Finding Labels', 'Follow-up #', 'Patient ID',\n",
       "       'Patient Age', 'Patient Gender', 'View Position', 'OriginalImage[Width',\n",
       "       'Height]', 'OriginalImagePixelSpacing[x', 'y]', 'Unnamed: 11'],\n",
       "      dtype='object')"
      ]
     },
     "execution_count": 13,
     "metadata": {},
     "output_type": "execute_result"
    }
   ],
   "source": [
    "all_xray_df.columns"
   ]
  },
  {
   "cell_type": "code",
   "execution_count": 14,
   "metadata": {},
   "outputs": [
    {
     "name": "stdout",
     "output_type": "stream",
     "text": [
      "Number of patients: 30805\n"
     ]
    },
    {
     "data": {
      "text/html": [
       "<div>\n",
       "<style scoped>\n",
       "    .dataframe tbody tr th:only-of-type {\n",
       "        vertical-align: middle;\n",
       "    }\n",
       "\n",
       "    .dataframe tbody tr th {\n",
       "        vertical-align: top;\n",
       "    }\n",
       "\n",
       "    .dataframe thead th {\n",
       "        text-align: right;\n",
       "    }\n",
       "</style>\n",
       "<table border=\"1\" class=\"dataframe\">\n",
       "  <thead>\n",
       "    <tr style=\"text-align: right;\">\n",
       "      <th></th>\n",
       "      <th>Patient ID</th>\n",
       "      <th>Patient Age</th>\n",
       "      <th>Patient Gender</th>\n",
       "    </tr>\n",
       "  </thead>\n",
       "  <tbody>\n",
       "    <tr>\n",
       "      <th>0</th>\n",
       "      <td>1</td>\n",
       "      <td>58</td>\n",
       "      <td>M</td>\n",
       "    </tr>\n",
       "    <tr>\n",
       "      <th>3</th>\n",
       "      <td>2</td>\n",
       "      <td>81</td>\n",
       "      <td>M</td>\n",
       "    </tr>\n",
       "    <tr>\n",
       "      <th>4</th>\n",
       "      <td>3</td>\n",
       "      <td>81</td>\n",
       "      <td>F</td>\n",
       "    </tr>\n",
       "    <tr>\n",
       "      <th>12</th>\n",
       "      <td>4</td>\n",
       "      <td>82</td>\n",
       "      <td>M</td>\n",
       "    </tr>\n",
       "    <tr>\n",
       "      <th>13</th>\n",
       "      <td>5</td>\n",
       "      <td>69</td>\n",
       "      <td>F</td>\n",
       "    </tr>\n",
       "  </tbody>\n",
       "</table>\n",
       "</div>"
      ],
      "text/plain": [
       "    Patient ID  Patient Age Patient Gender\n",
       "0            1           58              M\n",
       "3            2           81              M\n",
       "4            3           81              F\n",
       "12           4           82              M\n",
       "13           5           69              F"
      ]
     },
     "execution_count": 14,
     "metadata": {},
     "output_type": "execute_result"
    }
   ],
   "source": [
    "demography_df = all_xray_df[all_xray_df['Follow-up #']==0][['Patient ID','Patient Age', 'Patient Gender']]\n",
    "print(\"Number of patients: {}\".format(demography_df.shape[0]))\n",
    "demography_df.head()"
   ]
  },
  {
   "cell_type": "markdown",
   "metadata": {},
   "source": [
    "### Patient demography: Age"
   ]
  },
  {
   "cell_type": "markdown",
   "metadata": {},
   "source": [
    "We see that there is an data with age 412 in the dataset. This data might have some problems."
   ]
  },
  {
   "cell_type": "code",
   "execution_count": 15,
   "metadata": {},
   "outputs": [
    {
     "name": "stdout",
     "output_type": "stream",
     "text": [
      "Max of age: 412\n",
      "Min of age: 1\n"
     ]
    }
   ],
   "source": [
    "print(\"Max of age: {}\".format(demography_df['Patient Age'].max()))\n",
    "print(\"Min of age: {}\".format(demography_df['Patient Age'].min()))"
   ]
  },
  {
   "cell_type": "code",
   "execution_count": 16,
   "metadata": {},
   "outputs": [
    {
     "name": "stdout",
     "output_type": "stream",
     "text": [
      "Number of patients older than 100 years old: 8\n"
     ]
    },
    {
     "data": {
      "text/html": [
       "<div>\n",
       "<style scoped>\n",
       "    .dataframe tbody tr th:only-of-type {\n",
       "        vertical-align: middle;\n",
       "    }\n",
       "\n",
       "    .dataframe tbody tr th {\n",
       "        vertical-align: top;\n",
       "    }\n",
       "\n",
       "    .dataframe thead th {\n",
       "        text-align: right;\n",
       "    }\n",
       "</style>\n",
       "<table border=\"1\" class=\"dataframe\">\n",
       "  <thead>\n",
       "    <tr style=\"text-align: right;\">\n",
       "      <th></th>\n",
       "      <th>Patient ID</th>\n",
       "      <th>Patient Age</th>\n",
       "      <th>Patient Gender</th>\n",
       "    </tr>\n",
       "  </thead>\n",
       "  <tbody>\n",
       "    <tr>\n",
       "      <th>20852</th>\n",
       "      <td>5567</td>\n",
       "      <td>412</td>\n",
       "      <td>M</td>\n",
       "    </tr>\n",
       "    <tr>\n",
       "      <th>55742</th>\n",
       "      <td>13950</td>\n",
       "      <td>148</td>\n",
       "      <td>M</td>\n",
       "    </tr>\n",
       "    <tr>\n",
       "      <th>62929</th>\n",
       "      <td>15558</td>\n",
       "      <td>149</td>\n",
       "      <td>M</td>\n",
       "    </tr>\n",
       "    <tr>\n",
       "      <th>78795</th>\n",
       "      <td>19346</td>\n",
       "      <td>151</td>\n",
       "      <td>F</td>\n",
       "    </tr>\n",
       "    <tr>\n",
       "      <th>91369</th>\n",
       "      <td>22811</td>\n",
       "      <td>412</td>\n",
       "      <td>M</td>\n",
       "    </tr>\n",
       "    <tr>\n",
       "      <th>95794</th>\n",
       "      <td>25206</td>\n",
       "      <td>153</td>\n",
       "      <td>M</td>\n",
       "    </tr>\n",
       "    <tr>\n",
       "      <th>101194</th>\n",
       "      <td>26871</td>\n",
       "      <td>155</td>\n",
       "      <td>F</td>\n",
       "    </tr>\n",
       "    <tr>\n",
       "      <th>104590</th>\n",
       "      <td>27989</td>\n",
       "      <td>155</td>\n",
       "      <td>M</td>\n",
       "    </tr>\n",
       "  </tbody>\n",
       "</table>\n",
       "</div>"
      ],
      "text/plain": [
       "        Patient ID  Patient Age Patient Gender\n",
       "20852         5567          412              M\n",
       "55742        13950          148              M\n",
       "62929        15558          149              M\n",
       "78795        19346          151              F\n",
       "91369        22811          412              M\n",
       "95794        25206          153              M\n",
       "101194       26871          155              F\n",
       "104590       27989          155              M"
      ]
     },
     "execution_count": 16,
     "metadata": {},
     "output_type": "execute_result"
    }
   ],
   "source": [
    "over_100yo_df = demography_df[demography_df['Patient Age']>100]\n",
    "print(\"Number of patients older than 100 years old: {}\".format(over_100yo_df.shape[0]))\n",
    "over_100yo_df"
   ]
  },
  {
   "cell_type": "markdown",
   "metadata": {},
   "source": [
    "These data look suspicious. I therefore decided to remove these 8 patients from the dataset (and all the following EDA and training)."
   ]
  },
  {
   "cell_type": "code",
   "execution_count": 17,
   "metadata": {},
   "outputs": [
    {
     "name": "stdout",
     "output_type": "stream",
     "text": [
      "Number of valid patients: 30797\n"
     ]
    }
   ],
   "source": [
    "valid_patient_ids = np.setdiff1d(demography_df['Patient ID'].unique(), over_100yo_df['Patient ID'].unique())\n",
    "print(\"Number of valid patients: {}\".format(len(valid_patient_ids)))"
   ]
  },
  {
   "cell_type": "code",
   "execution_count": 18,
   "metadata": {},
   "outputs": [
    {
     "name": "stdout",
     "output_type": "stream",
     "text": [
      "30797\n"
     ]
    }
   ],
   "source": [
    "demography_df = demography_df[demography_df['Patient ID'].isin(valid_patient_ids)]\n",
    "print(demography_df['Patient ID'].nunique())"
   ]
  },
  {
   "cell_type": "markdown",
   "metadata": {},
   "source": [
    "After removing patients older than 100 years old, we plot the histogram of the age."
   ]
  },
  {
   "cell_type": "code",
   "execution_count": 19,
   "metadata": {},
   "outputs": [
    {
     "data": {
      "image/png": "[encoded data removed]",
      "text/plain": [
       "<Figure size 432x288 with 1 Axes>"
      ]
     },
     "metadata": {
      "needs_background": "light"
     },
     "output_type": "display_data"
    }
   ],
   "source": [
    "age_bins = list(range(0, 110, 10))\n",
    "\n",
    "ax = plt.subplot()\n",
    "age_hist_counts = plt.hist(x=\"Patient Age\", bins=age_bins, data=demography_df, rwidth=0.8)\n",
    "for i in range(len(age_bins)-1):\n",
    "    plt.text(age_hist_counts[1][i], age_hist_counts[0][i]+100, str(int(age_hist_counts[0][i])))\n",
    "ax.set_title(\"Age distribution\")\n",
    "plt.show()"
   ]
  },
  {
   "cell_type": "markdown",
   "metadata": {},
   "source": [
    "### Patient demography: Gender"
   ]
  },
  {
   "cell_type": "markdown",
   "metadata": {},
   "source": [
    "Out of 30,797 patients, 16,624 are male and 14,173 are female."
   ]
  },
  {
   "cell_type": "code",
   "execution_count": 20,
   "metadata": {},
   "outputs": [
    {
     "name": "stdout",
     "output_type": "stream",
     "text": [
      "Number of male patients: 16624\n",
      "Number of female patients: 14173\n"
     ]
    },
    {
     "data": {
      "image/png": "[encoded data removed]",
      "text/plain": [
       "<Figure size 432x288 with 1 Axes>"
      ]
     },
     "metadata": {
      "needs_background": "light"
     },
     "output_type": "display_data"
    }
   ],
   "source": [
    "print(\"Number of male patients: {}\".format(sum(demography_df['Patient Gender']=='M')))\n",
    "print(\"Number of female patients: {}\".format(sum(demography_df['Patient Gender']=='F')))\n",
    "\n",
    "# plot\n",
    "ax = sns.countplot(x=\"Patient Gender\", data=demography_df)\n",
    "ax.set_title(\"Gender\")\n",
    "plt.show()"
   ]
  },
  {
   "cell_type": "markdown",
   "metadata": {},
   "source": [
    "### View position"
   ]
  },
  {
   "cell_type": "markdown",
   "metadata": {},
   "source": [
    "Among all 112,068 images (we removed images from patients older than 100 years old), there are 44,792 AP chest X-rays and 67,276 chest X-rays."
   ]
  },
  {
   "cell_type": "code",
   "execution_count": 21,
   "metadata": {},
   "outputs": [],
   "source": [
    "all_xray_df = all_xray_df[all_xray_df['Patient ID'].isin(valid_patient_ids)]"
   ]
  },
  {
   "cell_type": "code",
   "execution_count": 22,
   "metadata": {},
   "outputs": [
    {
     "name": "stdout",
     "output_type": "stream",
     "text": [
      "Number of all X-rays: 112068\n",
      "Number of AP X-rays: 44792\n",
      "Number of PA X-rays: 67276\n"
     ]
    },
    {
     "data": {
      "image/png": "[encoded data removed]",
      "text/plain": [
       "<Figure size 432x288 with 1 Axes>"
      ]
     },
     "metadata": {
      "needs_background": "light"
     },
     "output_type": "display_data"
    }
   ],
   "source": [
    "print(\"Number of all X-rays: {}\".format(all_xray_df.shape[0]))\n",
    "print(\"Number of AP X-rays: {}\".format(sum(all_xray_df['View Position']=='AP')))\n",
    "print(\"Number of PA X-rays: {}\".format(sum(all_xray_df['View Position']=='PA')))\n",
    "\n",
    "# plot\n",
    "ax = sns.countplot(x=\"View Position\", data=all_xray_df)\n",
    "ax.set_title(\"View Position\")\n",
    "plt.show()"
   ]
  },
  {
   "cell_type": "markdown",
   "metadata": {},
   "source": [
    "### Number of pneumonia cases"
   ]
  },
  {
   "cell_type": "markdown",
   "metadata": {},
   "source": [
    "The `Finding Labels` column can contain multiple diagnoses separated by the `|` character. I created a column called `pneumonia_class`, with `positive` indicating the pneumonia is detected, and `negative` indicating pneumonia is not found."
   ]
  },
  {
   "cell_type": "code",
   "execution_count": 23,
   "metadata": {},
   "outputs": [
    {
     "data": {
      "text/plain": [
       "array(['Cardiomegaly', 'Cardiomegaly|Emphysema', 'Cardiomegaly|Effusion',\n",
       "       'No Finding', 'Hernia', 'Hernia|Infiltration', 'Mass|Nodule',\n",
       "       'Infiltration', 'Effusion|Infiltration', 'Nodule', 'Emphysema',\n",
       "       'Effusion', 'Atelectasis', 'Effusion|Mass',\n",
       "       'Emphysema|Pneumothorax', 'Pleural_Thickening',\n",
       "       'Effusion|Emphysema|Infiltration|Pneumothorax',\n",
       "       'Emphysema|Infiltration|Pleural_Thickening|Pneumothorax',\n",
       "       'Effusion|Pneumonia|Pneumothorax', 'Pneumothorax',\n",
       "       'Effusion|Infiltration|Pneumothorax', 'Infiltration|Mass',\n",
       "       'Infiltration|Mass|Pneumothorax', 'Mass',\n",
       "       'Cardiomegaly|Infiltration|Mass|Nodule',\n",
       "       'Cardiomegaly|Effusion|Emphysema|Mass',\n",
       "       'Atelectasis|Cardiomegaly|Emphysema|Mass|Pneumothorax',\n",
       "       'Emphysema|Mass', 'Emphysema|Mass|Pneumothorax',\n",
       "       'Atelectasis|Pneumothorax', 'Cardiomegaly|Emphysema|Pneumothorax',\n",
       "       'Mass|Pleural_Thickening', 'Cardiomegaly|Mass|Pleural_Thickening',\n",
       "       'Effusion|Infiltration|Nodule',\n",
       "       'Atelectasis|Effusion|Pleural_Thickening', 'Fibrosis|Infiltration',\n",
       "       'Fibrosis|Infiltration|Pleural_Thickening', 'Fibrosis',\n",
       "       'Infiltration|Mass|Nodule', 'Cardiomegaly|Edema|Effusion',\n",
       "       'Atelectasis|Effusion|Infiltration',\n",
       "       'Atelectasis|Consolidation|Edema|Pneumonia', 'Consolidation',\n",
       "       'Edema|Infiltration', 'Edema', 'Cardiomegaly|Consolidation',\n",
       "       'Cardiomegaly|Infiltration',\n",
       "       'Cardiomegaly|Edema|Effusion|Infiltration',\n",
       "       'Atelectasis|Edema|Effusion|Infiltration',\n",
       "       'Cardiomegaly|Edema|Infiltration', 'Consolidation|Infiltration',\n",
       "       'Consolidation|Edema', 'Cardiomegaly|Edema',\n",
       "       'Edema|Effusion|Infiltration|Nodule',\n",
       "       'Atelectasis|Edema|Infiltration', 'Edema|Effusion|Infiltration',\n",
       "       'Atelectasis|Cardiomegaly|Fibrosis', 'Atelectasis|Infiltration',\n",
       "       'Consolidation|Mass', 'Emphysema|Infiltration',\n",
       "       'Consolidation|Effusion|Infiltration',\n",
       "       'Infiltration|Pleural_Thickening', 'Atelectasis|Effusion',\n",
       "       'Fibrosis|Infiltration|Nodule', 'Nodule|Pneumonia',\n",
       "       'Infiltration|Nodule', 'Effusion|Pleural_Thickening',\n",
       "       'Edema|Effusion|Infiltration|Pleural_Thickening|Pneumonia',\n",
       "       'Effusion|Fibrosis', 'Pneumonia', 'Edema|Effusion',\n",
       "       'Consolidation|Effusion|Infiltration|Mass',\n",
       "       'Consolidation|Effusion|Infiltration|Nodule',\n",
       "       'Effusion|Emphysema|Infiltration',\n",
       "       'Atelectasis|Cardiomegaly|Consolidation|Effusion',\n",
       "       'Consolidation|Effusion', 'Atelectasis|Consolidation',\n",
       "       'Mass|Pneumothorax', 'Atelectasis|Mass',\n",
       "       'Atelectasis|Effusion|Mass', 'Atelectasis|Cardiomegaly|Effusion',\n",
       "       'Effusion|Pneumothorax',\n",
       "       'Cardiomegaly|Effusion|Pleural_Thickening',\n",
       "       'Atelectasis|Emphysema', 'Atelectasis|Emphysema|Pneumothorax',\n",
       "       'Cardiomegaly|Nodule', 'Consolidation|Pleural_Thickening',\n",
       "       'Effusion|Fibrosis|Nodule|Pleural_Thickening',\n",
       "       'Effusion|Fibrosis|Mass|Nodule|Pleural_Thickening',\n",
       "       'Effusion|Nodule', 'Atelectasis|Fibrosis',\n",
       "       'Effusion|Nodule|Pleural_Thickening',\n",
       "       'Atelectasis|Infiltration|Pneumonia',\n",
       "       'Atelectasis|Infiltration|Pleural_Thickening',\n",
       "       'Consolidation|Infiltration|Mass', 'Fibrosis|Nodule',\n",
       "       'Nodule|Pleural_Thickening',\n",
       "       'Cardiomegaly|Edema|Effusion|Fibrosis|Infiltration',\n",
       "       'Cardiomegaly|Consolidation|Edema|Effusion',\n",
       "       'Atelectasis|Cardiomegaly|Effusion|Infiltration',\n",
       "       'Cardiomegaly|Edema|Effusion|Infiltration|Pneumonia',\n",
       "       'Cardiomegaly|Effusion|Pneumonia',\n",
       "       'Atelectasis|Cardiomegaly|Infiltration|Pneumothorax',\n",
       "       'Fibrosis|Pleural_Thickening', 'Cardiomegaly|Effusion|Mass',\n",
       "       'Cardiomegaly|Effusion|Infiltration', 'Infiltration|Pneumonia',\n",
       "       'Infiltration|Pneumothorax',\n",
       "       'Infiltration|Nodule|Pleural_Thickening',\n",
       "       'Effusion|Fibrosis|Infiltration',\n",
       "       'Fibrosis|Nodule|Pleural_Thickening', 'Consolidation|Pneumothorax',\n",
       "       'Atelectasis|Infiltration|Mass',\n",
       "       'Atelectasis|Infiltration|Mass|Pleural_Thickening',\n",
       "       'Effusion|Infiltration|Mass', 'Atelectasis|Nodule',\n",
       "       'Consolidation|Infiltration|Nodule', 'Fibrosis|Mass',\n",
       "       'Cardiomegaly|Hernia', 'Cardiomegaly|Effusion|Hernia',\n",
       "       'Atelectasis|Effusion|Pneumothorax',\n",
       "       'Infiltration|Pleural_Thickening|Pneumothorax',\n",
       "       'Consolidation|Infiltration|Mass|Pleural_Thickening',\n",
       "       'Atelectasis|Effusion|Emphysema|Pleural_Thickening',\n",
       "       'Atelectasis|Edema|Mass', 'Cardiomegaly|Fibrosis',\n",
       "       'Consolidation|Fibrosis|Infiltration|Nodule',\n",
       "       'Effusion|Emphysema|Pleural_Thickening',\n",
       "       'Atelectasis|Consolidation|Effusion|Mass|Pleural_Thickening',\n",
       "       'Fibrosis|Infiltration|Nodule|Pneumonia',\n",
       "       'Cardiomegaly|Edema|Infiltration|Nodule',\n",
       "       'Atelectasis|Cardiomegaly', 'Edema|Infiltration|Pneumonia',\n",
       "       'Edema|Infiltration|Nodule',\n",
       "       'Cardiomegaly|Infiltration|Nodule|Pneumonia',\n",
       "       'Infiltration|Pneumonia|Pneumothorax',\n",
       "       'Atelectasis|Pleural_Thickening',\n",
       "       'Consolidation|Edema|Effusion|Pneumothorax',\n",
       "       'Atelectasis|Effusion|Infiltration|Nodule',\n",
       "       'Edema|Effusion|Pneumonia',\n",
       "       'Edema|Effusion|Infiltration|Pneumonia',\n",
       "       'Edema|Infiltration|Pleural_Thickening', 'Consolidation|Fibrosis',\n",
       "       'Effusion|Infiltration|Pleural_Thickening',\n",
       "       'Fibrosis|Infiltration|Pneumonia',\n",
       "       'Consolidation|Mass|Nodule|Pneumothorax',\n",
       "       'Cardiomegaly|Pleural_Thickening', 'Hernia|Mass',\n",
       "       'Effusion|Infiltration|Pleural_Thickening|Pneumonia',\n",
       "       'Atelectasis|Nodule|Pleural_Thickening',\n",
       "       'Atelectasis|Effusion|Infiltration|Pleural_Thickening',\n",
       "       'Atelectasis|Infiltration|Pneumothorax', 'Nodule|Pneumothorax',\n",
       "       'Atelectasis|Consolidation|Infiltration', 'Atelectasis|Pneumonia',\n",
       "       'Atelectasis|Infiltration|Nodule', 'Emphysema|Infiltration|Nodule',\n",
       "       'Fibrosis|Pneumonia', 'Effusion|Emphysema',\n",
       "       'Atelectasis|Consolidation|Effusion|Infiltration',\n",
       "       'Cardiomegaly|Effusion|Fibrosis|Pleural_Thickening|Pneumothorax',\n",
       "       'Consolidation|Infiltration|Pneumothorax',\n",
       "       'Effusion|Mass|Pneumothorax', 'Pleural_Thickening|Pneumonia',\n",
       "       'Edema|Effusion|Nodule|Pneumonia', 'Effusion|Pneumonia',\n",
       "       'Effusion|Infiltration|Nodule|Pleural_Thickening',\n",
       "       'Consolidation|Fibrosis|Nodule',\n",
       "       'Consolidation|Nodule|Pleural_Thickening',\n",
       "       'Cardiomegaly|Infiltration|Pneumothorax',\n",
       "       'Consolidation|Effusion|Nodule', 'Effusion|Infiltration|Pneumonia',\n",
       "       'Atelectasis|Consolidation|Effusion', 'Emphysema|Fibrosis',\n",
       "       'Effusion|Emphysema|Fibrosis|Mass|Nodule', 'Fibrosis|Hernia',\n",
       "       'Atelectasis|Emphysema|Infiltration|Pneumonia',\n",
       "       'Consolidation|Mass|Nodule',\n",
       "       'Atelectasis|Edema|Pleural_Thickening', 'Atelectasis|Edema',\n",
       "       'Atelectasis|Consolidation|Pneumothorax',\n",
       "       'Consolidation|Effusion|Mass', 'Atelectasis|Effusion|Emphysema',\n",
       "       'Atelectasis|Infiltration|Nodule|Pleural_Thickening',\n",
       "       'Infiltration|Nodule|Pneumothorax',\n",
       "       'Atelectasis|Consolidation|Fibrosis|Nodule',\n",
       "       'Consolidation|Infiltration|Pleural_Thickening',\n",
       "       'Fibrosis|Infiltration|Mass|Pleural_Thickening',\n",
       "       'Cardiomegaly|Mass', 'Edema|Fibrosis',\n",
       "       'Atelectasis|Consolidation|Edema', 'Emphysema|Pleural_Thickening',\n",
       "       'Pleural_Thickening|Pneumothorax',\n",
       "       'Effusion|Pleural_Thickening|Pneumothorax',\n",
       "       'Effusion|Fibrosis|Pneumonia', 'Consolidation|Effusion|Pneumonia',\n",
       "       'Emphysema|Mass|Nodule|Pneumothorax',\n",
       "       'Emphysema|Nodule|Pneumothorax',\n",
       "       'Atelectasis|Effusion|Infiltration|Pneumothorax',\n",
       "       'Edema|Pleural_Thickening',\n",
       "       'Emphysema|Infiltration|Pleural_Thickening',\n",
       "       'Atelectasis|Emphysema|Infiltration',\n",
       "       'Atelectasis|Effusion|Infiltration|Mass',\n",
       "       'Atelectasis|Consolidation|Mass', 'Consolidation|Nodule',\n",
       "       'Consolidation|Effusion|Pleural_Thickening',\n",
       "       'Atelectasis|Cardiomegaly|Edema|Effusion|Infiltration|Pneumothorax',\n",
       "       'Atelectasis|Cardiomegaly|Effusion|Mass',\n",
       "       'Atelectasis|Cardiomegaly|Consolidation|Effusion|Mass',\n",
       "       'Cardiomegaly|Consolidation|Edema', 'Edema|Nodule',\n",
       "       'Emphysema|Pneumonia', 'Consolidation|Fibrosis|Infiltration',\n",
       "       'Fibrosis|Pleural_Thickening|Pneumothorax',\n",
       "       'Consolidation|Effusion|Pneumothorax',\n",
       "       'Consolidation|Effusion|Infiltration|Pneumonia',\n",
       "       'Effusion|Infiltration|Pleural_Thickening|Pneumothorax',\n",
       "       'Emphysema|Infiltration|Pneumothorax',\n",
       "       'Consolidation|Effusion|Fibrosis|Mass',\n",
       "       'Effusion|Infiltration|Mass|Pleural_Thickening',\n",
       "       'Edema|Pleural_Thickening|Pneumonia',\n",
       "       'Emphysema|Infiltration|Mass',\n",
       "       'Infiltration|Mass|Pleural_Thickening',\n",
       "       'Atelectasis|Hernia|Nodule',\n",
       "       'Consolidation|Infiltration|Pneumonia',\n",
       "       'Cardiomegaly|Consolidation|Effusion',\n",
       "       'Consolidation|Edema|Infiltration',\n",
       "       'Edema|Emphysema|Mass|Pneumothorax',\n",
       "       'Cardiomegaly|Effusion|Emphysema|Infiltration|Pneumothorax',\n",
       "       'Infiltration|Mass|Pneumonia',\n",
       "       'Atelectasis|Cardiomegaly|Effusion|Pneumonia',\n",
       "       'Atelectasis|Consolidation|Effusion|Nodule',\n",
       "       'Consolidation|Fibrosis|Pleural_Thickening',\n",
       "       'Edema|Nodule|Pneumothorax', 'Atelectasis|Emphysema|Mass',\n",
       "       'Atelectasis|Hernia', 'Consolidation|Infiltration|Mass|Nodule',\n",
       "       'Atelectasis|Consolidation|Nodule',\n",
       "       'Atelectasis|Consolidation|Effusion|Pneumonia',\n",
       "       'Effusion|Emphysema|Pneumothorax',\n",
       "       'Consolidation|Fibrosis|Nodule|Pneumonia',\n",
       "       'Atelectasis|Fibrosis|Infiltration',\n",
       "       'Atelectasis|Consolidation|Infiltration|Mass',\n",
       "       'Cardiomegaly|Fibrosis|Infiltration', 'Atelectasis|Nodule|Mass',\n",
       "       'Fibrosis|Infiltration|Mass', 'Mass|Pneumonia',\n",
       "       'Fibrosis|Infiltration|Mass|Nodule', 'Edema|Pneumonia',\n",
       "       'Edema|Infiltration|Mass',\n",
       "       'Effusion|Hernia|Mass|Pleural_Thickening',\n",
       "       'Effusion|Mass|Pleural_Thickening', 'Consolidation|Pneumonia',\n",
       "       'Infiltration|Pleural_Thickening|Pneumonia',\n",
       "       'Consolidation|Mass|Pneumothorax',\n",
       "       'Atelectasis|Consolidation|Edema|Effusion|Infiltration',\n",
       "       'Infiltration|Nodule|Pneumonia',\n",
       "       'Atelectasis|Cardiomegaly|Infiltration',\n",
       "       'Nodule|Pleural_Thickening|Pneumonia',\n",
       "       'Cardiomegaly|Infiltration|Nodule',\n",
       "       'Atelectasis|Effusion|Fibrosis',\n",
       "       'Mass|Pleural_Thickening|Pneumothorax',\n",
       "       'Emphysema|Nodule|Pleural_Thickening',\n",
       "       'Atelectasis|Consolidation|Effusion|Mass|Nodule',\n",
       "       'Edema|Effusion|Infiltration|Mass',\n",
       "       'Atelectasis|Emphysema|Infiltration|Pneumothorax',\n",
       "       'Atelectasis|Effusion|Infiltration|Pleural_Thickening|Pneumothorax',\n",
       "       'Atelectasis|Consolidation|Effusion|Mass',\n",
       "       'Emphysema|Infiltration|Pneumonia',\n",
       "       'Emphysema|Infiltration|Pleural_Thickening|Pneumonia',\n",
       "       'Atelectasis|Consolidation|Effusion|Infiltration|Pneumothorax',\n",
       "       'Effusion|Mass|Nodule', 'Consolidation|Nodule|Pneumothorax',\n",
       "       'Consolidation|Infiltration|Mass|Pleural_Thickening|Pneumothorax',\n",
       "       'Consolidation|Effusion|Infiltration|Pneumothorax',\n",
       "       'Atelectasis|Cardiomegaly|Consolidation',\n",
       "       'Cardiomegaly|Infiltration|Pleural_Thickening',\n",
       "       'Cardiomegaly|Pneumonia', 'Nodule|Pleural_Thickening|Pneumothorax',\n",
       "       'Atelectasis|Edema|Effusion|Infiltration|Pneumonia',\n",
       "       'Atelectasis|Edema|Effusion',\n",
       "       'Atelectasis|Consolidation|Edema|Effusion|Pleural_Thickening',\n",
       "       'Atelectasis|Nodule|Pneumonia',\n",
       "       'Effusion|Infiltration|Mass|Nodule',\n",
       "       'Mass|Nodule|Pleural_Thickening', 'Atelectasis|Effusion|Pneumonia',\n",
       "       'Consolidation|Emphysema|Infiltration',\n",
       "       'Atelectasis|Consolidation|Effusion|Emphysema',\n",
       "       'Cardiomegaly|Effusion|Infiltration|Nodule',\n",
       "       'Consolidation|Edema|Effusion', 'Fibrosis|Pneumothorax',\n",
       "       'Atelectasis|Consolidation|Effusion|Infiltration|Mass',\n",
       "       'Atelectasis|Consolidation|Effusion|Infiltration|Mass|Nodule',\n",
       "       'Atelectasis|Consolidation|Edema|Effusion',\n",
       "       'Atelectasis|Infiltration|Nodule|Pneumothorax',\n",
       "       'Infiltration|Mass|Nodule|Pneumothorax',\n",
       "       'Edema|Effusion|Infiltration|Pleural_Thickening',\n",
       "       'Edema|Infiltration|Pneumothorax', 'Hernia|Nodule',\n",
       "       'Effusion|Hernia|Pleural_Thickening',\n",
       "       'Atelectasis|Consolidation|Emphysema|Pneumothorax',\n",
       "       'Effusion|Fibrosis|Pneumothorax',\n",
       "       'Effusion|Emphysema|Nodule|Pneumothorax',\n",
       "       'Effusion|Emphysema|Fibrosis|Nodule|Pneumothorax',\n",
       "       'Fibrosis|Mass|Pneumothorax',\n",
       "       'Atelectasis|Mass|Pleural_Thickening',\n",
       "       'Atelectasis|Consolidation|Emphysema',\n",
       "       'Atelectasis|Infiltration|Mass|Pneumothorax',\n",
       "       'Atelectasis|Effusion|Nodule|Pleural_Thickening',\n",
       "       'Atelectasis|Consolidation|Infiltration|Mass|Nodule',\n",
       "       'Effusion|Nodule|Pleural_Thickening|Pneumothorax',\n",
       "       'Cardiomegaly|Pneumothorax',\n",
       "       'Effusion|Emphysema|Infiltration|Nodule|Pneumothorax',\n",
       "       'Atelectasis|Emphysema|Nodule|Pleural_Thickening',\n",
       "       'Mass|Atelectasis', 'Effusion|Fibrosis|Pleural_Thickening',\n",
       "       'Consolidation|Effusion|Mass|Pneumothorax',\n",
       "       'Consolidation|Emphysema',\n",
       "       'Atelectasis|Consolidation|Emphysema|Infiltration',\n",
       "       'Hernia|Pleural_Thickening',\n",
       "       'Atelectasis|Consolidation|Effusion|Fibrosis|Mass',\n",
       "       'Emphysema|Nodule',\n",
       "       'Atelectasis|Consolidation|Fibrosis|Infiltration',\n",
       "       'Atelectasis|Mass|Nodule',\n",
       "       'Atelectasis|Effusion|Pleural_Thickening|Pneumothorax',\n",
       "       'Edema|Effusion|Mass',\n",
       "       'Atelectasis|Pleural_Thickening|Pneumothorax',\n",
       "       'Atelectasis|Emphysema|Pleural_Thickening|Pneumothorax',\n",
       "       'Emphysema|Pleural_Thickening|Pneumothorax',\n",
       "       'Cardiomegaly|Consolidation|Infiltration',\n",
       "       'Atelectasis|Cardiomegaly|Effusion|Infiltration|Nodule',\n",
       "       'Cardiomegaly|Edema|Pleural_Thickening',\n",
       "       'Cardiomegaly|Effusion|Fibrosis|Nodule',\n",
       "       'Atelectasis|Effusion|Emphysema|Pneumothorax',\n",
       "       'Effusion|Mass|Nodule|Pleural_Thickening',\n",
       "       'Atelectasis|Effusion|Nodule',\n",
       "       'Atelectasis|Cardiomegaly|Consolidation|Infiltration',\n",
       "       'Atelectasis|Cardiomegaly|Effusion|Fibrosis',\n",
       "       'Consolidation|Mass|Pleural_Thickening',\n",
       "       'Atelectasis|Edema|Effusion|Pneumonia|Pneumothorax',\n",
       "       'Atelectasis|Effusion|Infiltration|Pneumonia',\n",
       "       'Mass|Nodule|Pneumonia',\n",
       "       'Consolidation|Effusion|Infiltration|Mass|Nodule',\n",
       "       'Atelectasis|Fibrosis|Nodule',\n",
       "       'Cardiomegaly|Edema|Effusion|Pneumonia',\n",
       "       'Cardiomegaly|Edema|Infiltration|Pneumonia',\n",
       "       'Atelectasis|Cardiomegaly|Edema|Infiltration',\n",
       "       'Consolidation|Emphysema|Pleural_Thickening',\n",
       "       'Cardiomegaly|Effusion|Fibrosis',\n",
       "       'Atelectasis|Cardiomegaly|Effusion|Fibrosis|Infiltration',\n",
       "       'Cardiomegaly|Effusion|Fibrosis|Infiltration|Pleural_Thickening',\n",
       "       'Atelectasis|Consolidation|Edema|Infiltration|Pneumonia',\n",
       "       'Atelectasis|Consolidation|Infiltration|Pneumonia',\n",
       "       'Atelectasis|Consolidation|Effusion|Infiltration|Nodule',\n",
       "       'Atelectasis|Consolidation|Mass|Nodule',\n",
       "       'Atelectasis|Emphysema|Infiltration|Pleural_Thickening',\n",
       "       'Atelectasis|Effusion|Infiltration|Mass|Pneumothorax',\n",
       "       'Atelectasis|Emphysema|Mass|Pneumothorax',\n",
       "       'Consolidation|Infiltration|Pleural_Thickening|Pneumothorax',\n",
       "       'Effusion|Pleural_Thickening|Pneumonia', 'Edema|Mass',\n",
       "       'Emphysema|Fibrosis|Hernia|Infiltration|Pleural_Thickening',\n",
       "       'Atelectasis|Cardiomegaly|Effusion|Pleural_Thickening',\n",
       "       'Effusion|Fibrosis|Infiltration|Pleural_Thickening',\n",
       "       'Consolidation|Pneumonia|Pneumothorax',\n",
       "       'Consolidation|Edema|Pneumothorax',\n",
       "       'Consolidation|Infiltration|Pleural_Thickening|Pneumonia',\n",
       "       'Atelectasis|Consolidation|Effusion|Fibrosis',\n",
       "       'Atelectasis|Consolidation|Effusion|Pleural_Thickening',\n",
       "       'Cardiomegaly|Effusion|Infiltration|Pneumothorax',\n",
       "       'Cardiomegaly|Fibrosis|Nodule',\n",
       "       'Atelectasis|Edema|Infiltration|Nodule',\n",
       "       'Atelectasis|Cardiomegaly|Pneumonia',\n",
       "       'Atelectasis|Cardiomegaly|Edema',\n",
       "       'Atelectasis|Emphysema|Infiltration|Mass',\n",
       "       'Consolidation|Effusion|Infiltration|Pleural_Thickening',\n",
       "       'Cardiomegaly|Effusion|Emphysema',\n",
       "       'Edema|Infiltration|Mass|Nodule|Pleural_Thickening',\n",
       "       'Atelectasis|Edema|Infiltration|Pleural_Thickening',\n",
       "       'Edema|Mass|Pneumonia', 'Effusion|Fibrosis|Mass',\n",
       "       'Effusion|Emphysema|Nodule', 'Atelectasis|Fibrosis|Mass',\n",
       "       'Atelectasis|Nodule|Pneumothorax', 'Mass|Nodule|Pneumothorax',\n",
       "       'Cardiomegaly|Infiltration|Nodule|Mass',\n",
       "       'Consolidation|Effusion|Emphysema|Pneumothorax',\n",
       "       'Atelectasis|Emphysema|Nodule|Pneumothorax',\n",
       "       'Consolidation|Infiltration|Nodule|Pneumothorax',\n",
       "       'Cardiomegaly|Consolidation|Emphysema|Pneumothorax',\n",
       "       'Atelectasis|Effusion|Mass|Nodule',\n",
       "       'Edema|Infiltration|Mass|Pneumonia',\n",
       "       'Cardiomegaly|Consolidation|Effusion|Mass|Nodule',\n",
       "       'Atelectasis|Cardiomegaly|Effusion|Fibrosis|Nodule',\n",
       "       'Atelectasis|Effusion|Emphysema|Infiltration',\n",
       "       'Atelectasis|Edema|Emphysema|Nodule',\n",
       "       'Atelectasis|Effusion|Mass|Pneumothorax', 'Pneumothorax|Pneumonia',\n",
       "       'Atelectasis|Infiltration|Mass|Nodule',\n",
       "       'Atelectasis|Emphysema|Pleural_Thickening',\n",
       "       'Fibrosis|Infiltration|Pneumothorax', 'Edema|Effusion|Nodule',\n",
       "       'Cardiomegaly|Consolidation|Edema|Infiltration',\n",
       "       'Cardiomegaly|Effusion|Nodule', 'Fibrosis|Mass|Pleural_Thickening',\n",
       "       'Edema|Emphysema|Pneumothorax',\n",
       "       'Atelectasis|Consolidation|Emphysema|Infiltration|Pneumothorax',\n",
       "       'Cardiomegaly|Effusion|Infiltration|Pleural_Thickening',\n",
       "       'Effusion|Emphysema|Mass',\n",
       "       'Atelectasis|Cardiomegaly|Pleural_Thickening',\n",
       "       'Emphysema|Infiltration|Nodule|Pneumothorax',\n",
       "       'Atelectasis|Hernia|Infiltration', 'Hernia|Infiltration|Mass',\n",
       "       'Atelectasis|Emphysema|Infiltration|Nodule|Pneumothorax',\n",
       "       'Cardiomegaly|Mass|Nodule', 'Emphysema|Fibrosis|Infiltration',\n",
       "       'Atelectasis|Consolidation|Pleural_Thickening',\n",
       "       'Fibrosis|Mass|Nodule',\n",
       "       'Edema|Effusion|Fibrosis|Infiltration|Mass',\n",
       "       'Consolidation|Fibrosis|Mass|Pleural_Thickening',\n",
       "       'Cardiomegaly|Effusion|Fibrosis|Infiltration',\n",
       "       'Emphysema|Mass|Nodule',\n",
       "       'Emphysema|Infiltration|Mass|Pneumothorax',\n",
       "       'Effusion|Mass|Pleural_Thickening|Pneumothorax',\n",
       "       'Atelectasis|Consolidation|Pneumonia',\n",
       "       'Cardiomegaly|Edema|Effusion|Infiltration|Nodule',\n",
       "       'Atelectasis|Effusion|Infiltration|Mass|Nodule|Pleural_Thickening',\n",
       "       'Atelectasis|Hernia|Mass', 'Atelectasis|Edema|Nodule',\n",
       "       'Atelectasis|Consolidation|Effusion|Fibrosis|Nodule',\n",
       "       'Edema|Infiltration|Pleural_Thickening|Pneumonia',\n",
       "       'Effusion|Infiltration|Mass|Pneumothorax',\n",
       "       'Effusion|Fibrosis|Infiltration|Pleural_Thickening|Pneumonia',\n",
       "       'Emphysema|Fibrosis|Pneumothorax',\n",
       "       'Consolidation|Fibrosis|Pneumothorax',\n",
       "       'Atelectasis|Consolidation|Effusion|Infiltration|Pleural_Thickening|Pneumothorax',\n",
       "       'Effusion|Mass|Nodule|Pneumothorax',\n",
       "       'Atelectasis|Effusion|Mass|Pleural_Thickening',\n",
       "       'Effusion|Fibrosis|Infiltration|Mass',\n",
       "       'Atelectasis|Emphysema|Fibrosis|Mass|Pneumothorax',\n",
       "       'Cardiomegaly|Infiltration|Mass', 'Edema|Emphysema',\n",
       "       'Fibrosis|Hernia|Mass', 'Consolidation|Edema|Infiltration|Nodule',\n",
       "       'Atelectasis|Consolidation|Mass|Pneumonia',\n",
       "       'Atelectasis|Mass|Pneumonia',\n",
       "       'Atelectasis|Consolidation|Mass|Pneumothorax',\n",
       "       'Emphysema|Hernia|Pleural_Thickening', 'Emphysema|Hernia',\n",
       "       'Atelectasis|Effusion|Infiltration|Mass|Nodule',\n",
       "       'Atelectasis|Consolidation|Edema|Pneumonia|Pneumothorax',\n",
       "       'Atelectasis|Cardiomegaly|Effusion|Infiltration|Mass',\n",
       "       'Consolidation|Hernia',\n",
       "       'Atelectasis|Effusion|Fibrosis|Infiltration',\n",
       "       'Atelectasis|Infiltration|Pleural_Thickening|Pneumothorax',\n",
       "       'Atelectasis|Effusion|Nodule|Pneumothorax',\n",
       "       'Fibrosis|Mass|Nodule|Pleural_Thickening',\n",
       "       'Atelectasis|Fibrosis|Hernia',\n",
       "       'Edema|Effusion|Emphysema|Infiltration',\n",
       "       'Cardiomegaly|Consolidation|Nodule',\n",
       "       'Infiltration|Mass|Nodule|Pleural_Thickening',\n",
       "       'Atelectasis|Consolidation|Effusion|Emphysema|Infiltration',\n",
       "       'Edema|Effusion|Emphysema|Infiltration|Mass',\n",
       "       'Atelectasis|Emphysema|Infiltration|Mass|Pneumothorax',\n",
       "       'Atelectasis|Consolidation|Infiltration|Pneumothorax',\n",
       "       'Consolidation|Hernia|Mass', 'Atelectasis|Hernia|Pneumothorax',\n",
       "       'Atelectasis|Fibrosis|Infiltration|Mass|Nodule',\n",
       "       'Consolidation|Hernia|Infiltration|Pneumonia',\n",
       "       'Effusion|Hernia|Pneumonia', 'Effusion|Hernia',\n",
       "       'Hernia|Infiltration|Pneumonia',\n",
       "       'Edema|Effusion|Hernia|Infiltration',\n",
       "       'Atelectasis|Effusion|Infiltration|Mass|Nodule|Pleural_Thickening|Pneumothorax',\n",
       "       'Atelectasis|Fibrosis|Infiltration|Nodule',\n",
       "       'Atelectasis|Infiltration|Pleural_Thickening|Pneumonia',\n",
       "       'Emphysema|Fibrosis|Mass',\n",
       "       'Atelectasis|Fibrosis|Pleural_Thickening',\n",
       "       'Emphysema|Mass|Pleural_Thickening',\n",
       "       'Atelectasis|Cardiomegaly|Edema|Effusion',\n",
       "       'Consolidation|Edema|Effusion|Infiltration',\n",
       "       'Atelectasis|Effusion|Hernia', 'Effusion|Hernia|Infiltration',\n",
       "       'Consolidation|Effusion|Infiltration|Mass|Nodule|Pleural_Thickening|Pneumonia',\n",
       "       'Edema|Mass|Nodule',\n",
       "       'Edema|Infiltration|Mass|Pneumonia|Pneumothorax',\n",
       "       'Consolidation|Fibrosis|Mass',\n",
       "       'Consolidation|Edema|Effusion|Mass|Nodule',\n",
       "       'Cardiomegaly|Consolidation|Pleural_Thickening',\n",
       "       'Consolidation|Emphysema|Pneumothorax',\n",
       "       'Atelectasis|Emphysema|Pneumonia|Pneumothorax',\n",
       "       'Atelectasis|Cardiomegaly|Fibrosis|Pleural_Thickening',\n",
       "       'Infiltration|Mass|Nodule|Pleural_Thickening|Effusion|Pneumonia',\n",
       "       'Consolidation|Edema|Infiltration|Mass',\n",
       "       'Atelectasis|Effusion|Fibrosis|Infiltration|Mass',\n",
       "       'Consolidation|Emphysema|Infiltration|Pneumothorax',\n",
       "       'Cardiomegaly|Consolidation|Pneumonia',\n",
       "       'Consolidation|Infiltration|Mass|Pneumothorax',\n",
       "       'Consolidation|Effusion|Mass|Nodule',\n",
       "       'Atelectasis|Effusion|Infiltration|Nodule|Pleural_Thickening',\n",
       "       'Consolidation|Effusion|Infiltration|Pleural_Thickening|Pneumothorax',\n",
       "       'Atelectasis|Fibrosis|Infiltration|Mass',\n",
       "       'Atelectasis|Emphysema|Nodule',\n",
       "       'Effusion|Emphysema|Infiltration|Pleural_Thickening',\n",
       "       'Consolidation|Edema|Effusion|Infiltration|Mass',\n",
       "       'Atelectasis|Infiltration|Mass|Pneumonia',\n",
       "       'Atelectasis|Edema|Effusion|Mass|Nodule',\n",
       "       'Cardiomegaly|Consolidation|Edema|Effusion|Infiltration',\n",
       "       'Fibrosis|Infiltration|Pleural_Thickening|Pneumothorax',\n",
       "       'Atelectasis|Cardiomegaly|Infiltration|Mass',\n",
       "       'Consolidation|Effusion|Pleural_Thickening|Pneumothorax',\n",
       "       'Atelectasis|Mass|Pleural_Thickening|Pneumothorax',\n",
       "       'Atelectasis|Mass|Pneumothorax',\n",
       "       'Effusion|Infiltration|Nodule|Pneumothorax',\n",
       "       'Cardiomegaly|Consolidation|Mass', 'Edema|Pneumonia|Infiltration',\n",
       "       'Cardiomegaly|Effusion|Infiltration|Mass',\n",
       "       'Atelectasis|Cardiomegaly|Consolidation|Effusion|Infiltration|Pneumonia',\n",
       "       'Pneumonia|Pneumothorax', 'Atelectasis|Emphysema|Pneumonia',\n",
       "       'Effusion|Infiltration|Mass|Nodule|Pneumonia',\n",
       "       'Consolidation|Emphysema|Infiltration|Nodule|Pleural_Thickening',\n",
       "       'Effusion|Emphysema|Pleural_Thickening|Pneumothorax',\n",
       "       'Atelectasis|Cardiomegaly|Consolidation|Edema|Effusion|Pleural_Thickening',\n",
       "       'Atelectasis|Consolidation|Effusion|Emphysema|Pneumothorax',\n",
       "       'Atelectasis|Consolidation|Effusion|Pneumothorax',\n",
       "       'Atelectasis|Cardiomegaly|Consolidation|Effusion|Infiltration',\n",
       "       'Emphysema|Pneumothorax|Pneumonia',\n",
       "       'Edema|Emphysema|Infiltration|Mass|Pneumonia',\n",
       "       'Atelectasis|Consolidation|Infiltration|Nodule',\n",
       "       'Effusion|Hernia|Mass', 'Atelectasis|Consolidation|Fibrosis',\n",
       "       'Edema|Effusion|Pneumothorax', 'Effusion|Nodule|Pneumothorax',\n",
       "       'Atelectasis|Edema|Infiltration|Pneumonia',\n",
       "       'Effusion|Infiltration|Mass|Nodule|Pleural_Thickening',\n",
       "       'Edema|Effusion|Pleural_Thickening|Pneumonia',\n",
       "       'Effusion|Mass|Pneumonia',\n",
       "       'Atelectasis|Cardiomegaly|Consolidation|Edema',\n",
       "       'Consolidation|Effusion|Emphysema|Mass',\n",
       "       'Effusion|Infiltration|Nodule|Mass|Pneumothorax',\n",
       "       'Nodule|Pleural_Thickening|Mass',\n",
       "       'Effusion|Pneumothorax|Pneumonia',\n",
       "       'Atelectasis|Consolidation|Effusion|Fibrosis|Pleural_Thickening',\n",
       "       'Atelectasis|Consolidation|Effusion|Fibrosis|Infiltration|Pleural_Thickening',\n",
       "       'Edema|Effusion|Emphysema',\n",
       "       'Atelectasis|Edema|Effusion|Infiltration|Nodule|Pleural_Thickening',\n",
       "       'Consolidation|Edema|Effusion|Pneumonia',\n",
       "       'Consolidation|Edema|Infiltration|Pleural_Thickening|Pneumonia',\n",
       "       'Edema|Effusion|Pleural_Thickening',\n",
       "       'Atelectasis|Edema|Infiltration|Mass',\n",
       "       'Edema|Effusion|Mass|Nodule', 'Consolidation|Emphysema|Mass',\n",
       "       'Atelectasis|Consolidation|Nodule|Pneumonia',\n",
       "       'Pneumothorax|Infiltration', 'Hernia|Pneumothorax',\n",
       "       'Atelectasis|Consolidation|Infiltration|Pleural_Thickening|Pneumothorax',\n",
       "       'Atelectasis|Consolidation|Effusion|Infiltration|Mass|Pneumothorax',\n",
       "       'Atelectasis|Fibrosis|Infiltration|Nodule|Pneumothorax',\n",
       "       'Atelectasis|Cardiomegaly|Effusion|Pneumothorax',\n",
       "       'Atelectasis|Effusion|Fibrosis|Pneumothorax',\n",
       "       'Atelectasis|Edema|Effusion|Nodule',\n",
       "       'Cardiomegaly|Consolidation|Effusion|Infiltration',\n",
       "       'Consolidation|Mass|Pneumonia|Pneumothorax',\n",
       "       'Consolidation|Emphysema|Mass|Pneumothorax',\n",
       "       'Atelectasis|Cardiomegaly|Effusion|Nodule',\n",
       "       'Edema|Infiltration|Mass|Nodule|Pneumonia',\n",
       "       'Atelectasis|Effusion|Emphysema|Mass|Pneumothorax',\n",
       "       'Consolidation|Effusion|Infiltration|Mass|Pneumothorax',\n",
       "       'Atelectasis|Consolidation|Effusion|Nodule|Pneumothorax',\n",
       "       'Atelectasis|Consolidation|Effusion|Infiltration|Pneumonia',\n",
       "       'Nodule|Mass',\n",
       "       'Atelectasis|Consolidation|Effusion|Emphysema|Infiltration|Mass',\n",
       "       'Edema|Pneumothorax',\n",
       "       'Atelectasis|Effusion|Pneumonia|Pneumothorax',\n",
       "       'Cardiomegaly|Consolidation|Effusion|Mass',\n",
       "       'Cardiomegaly|Edema|Mass', 'Cardiomegaly|Fibrosis|Pneumothorax',\n",
       "       'Consolidation|Edema|Effusion|Mass', 'Effusion|Pneumothorax|Mass',\n",
       "       'Atelectasis|Cardiomegaly|Effusion|Infiltration|Pleural_Thickening',\n",
       "       'Cardiomegaly|Effusion|Emphysema|Pneumothorax',\n",
       "       'Effusion|Infiltration|Pneumonia|Pneumothorax',\n",
       "       'Atelectasis|Consolidation|Infiltration|Pleural_Thickening',\n",
       "       'Cardiomegaly|Effusion|Pneumothorax',\n",
       "       'Cardiomegaly|Effusion|Infiltration|Pneumonia',\n",
       "       'Emphysema|Mass|Pneumonia|Pneumothorax',\n",
       "       'Atelectasis|Consolidation|Effusion|Infiltration|Mass|Nodule|Pneumothorax',\n",
       "       'Atelectasis|Effusion|Fibrosis|Pleural_Thickening',\n",
       "       'Edema|Infiltration|Mass|Nodule',\n",
       "       'Atelectasis|Effusion|Infiltration|Mass|Pleural_Thickening',\n",
       "       'Effusion|Emphysema|Infiltration|Mass',\n",
       "       'Infiltration|Pneumothorax|Pneumonia',\n",
       "       'Atelectasis|Emphysema|Fibrosis|Infiltration',\n",
       "       'Atelectasis|Cardiomegaly|Consolidation|Edema|Effusion|Infiltration',\n",
       "       'Consolidation|Effusion|Mass|Pneumonia',\n",
       "       'Atelectasis|Mass|Nodule|Pneumonia',\n",
       "       'Cardiomegaly|Consolidation|Effusion|Infiltration|Mass|Pleural_Thickening',\n",
       "       'Effusion|Fibrosis|Infiltration|Nodule',\n",
       "       'Effusion|Fibrosis|Mass|Pleural_Thickening',\n",
       "       'Atelectasis|Effusion|Fibrosis|Infiltration|Nodule',\n",
       "       'Atelectasis|Consolidation|Effusion|Emphysema|Mass',\n",
       "       'Cardiomegaly|Effusion|Pleural_Thickening|Pneumothorax',\n",
       "       'Atelectasis|Consolidation|Effusion|Emphysema|Mass|Pneumothorax',\n",
       "       'Atelectasis|Consolidation|Edema|Effusion|Infiltration|Pneumonia',\n",
       "       'Edema|Nodule|Pneumonia', 'Effusion|Mass|Pneumonia|Pneumothorax',\n",
       "       'Fibrosis|Nodule|Pneumothorax',\n",
       "       'Consolidation|Effusion|Mass|Nodule|Pleural_Thickening|Atelectasis',\n",
       "       'Atelectasis|Effusion|Emphysema|Infiltration|Pneumothorax',\n",
       "       'Atelectasis|Consolidation|Effusion|Infiltration|Nodule|Pleural_Thickening',\n",
       "       'Consolidation|Effusion|Emphysema|Infiltration',\n",
       "       'Consolidation|Effusion|Emphysema|Nodule|Pneumothorax',\n",
       "       'Cardiomegaly|Edema|Effusion|Fibrosis|Hernia',\n",
       "       'Cardiomegaly|Effusion|Fibrosis|Mass',\n",
       "       'Atelectasis|Consolidation|Edema|Effusion|Pneumonia',\n",
       "       'Atelectasis|Cardiomegaly|Consolidation|Effusion|Infiltration|Nodule|Pleural_Thickening',\n",
       "       'Atelectasis|Cardiomegaly|Consolidation|Effusion|Pleural_Thickening',\n",
       "       'Atelectasis|Consolidation|Infiltration|Mass|Pneumonia',\n",
       "       'Atelectasis|Consolidation|Effusion|Infiltration|Pleural_Thickening',\n",
       "       'Atelectasis|Consolidation|Nodule|Pleural_Thickening',\n",
       "       'Consolidation|Edema|Infiltration|Pneumonia',\n",
       "       'Atelectasis|Emphysema|Infiltration|Pleural_Thickening|Pneumothorax',\n",
       "       'Consolidation|Effusion|Mass|Pleural_Thickening',\n",
       "       'Atelectasis|Consolidation|Effusion|Emphysema|Fibrosis|Mass|Nodule',\n",
       "       'Effusion|Nodule|Pneumonia', 'Consolidation|Emphysema|Pneumonia',\n",
       "       'Atelectasis|Consolidation|Mass|Nodule|Pneumothorax',\n",
       "       'Effusion|Mass|Nodule|Pneumonia',\n",
       "       'Effusion|Infiltration|Mass|Pleural_Thickening|Pneumonia',\n",
       "       'Atelectasis|Effusion|Infiltration|Nodule|Pneumothorax',\n",
       "       'Effusion|Mass|Nodule|Pleural_Thickening|Pneumothorax',\n",
       "       'Edema|Fibrosis|Infiltration|Mass|Nodule',\n",
       "       'Cardiomegaly|Edema|Effusion|Pleural_Thickening',\n",
       "       'Atelectasis|Effusion|Hernia|Infiltration',\n",
       "       'Atelectasis|Emphysema|Fibrosis|Mass',\n",
       "       'Consolidation|Effusion|Mass|Nodule|Pleural_Thickening',\n",
       "       'Consolidation|Emphysema|Infiltration|Mass|Nodule',\n",
       "       'Cardiomegaly|Effusion|Infiltration|Mass|Pneumonia',\n",
       "       'Atelectasis|Consolidation|Edema|Infiltration',\n",
       "       'Effusion|Fibrosis|Mass|Nodule',\n",
       "       'Edema|Effusion|Infiltration|Mass|Pneumonia',\n",
       "       'Cardiomegaly|Effusion|Nodule|Pleural_Thickening',\n",
       "       'Atelectasis|Consolidation|Emphysema|Mass|Pleural_Thickening',\n",
       "       'Atelectasis|Edema|Effusion|Infiltration|Mass',\n",
       "       'Edema|Infiltration|Nodule|Pneumonia',\n",
       "       'Cardiomegaly|Effusion|Mass|Nodule',\n",
       "       'Effusion|Infiltration|Mass|Pneumonia',\n",
       "       'Effusion|Emphysema|Infiltration|Mass|Nodule',\n",
       "       'Atelectasis|Cardiomegaly|Consolidation|Edema|Effusion|Infiltration|Mass',\n",
       "       'Infiltration|Effusion', 'Edema|Emphysema|Infiltration|Pneumonia',\n",
       "       'Atelectasis|Consolidation|Mass|Pleural_Thickening',\n",
       "       'Edema|Effusion|Infiltration|Pneumothorax',\n",
       "       'Emphysema|Pneumothorax|Mass',\n",
       "       'Emphysema|Fibrosis|Mass|Pleural_Thickening|Pneumothorax',\n",
       "       'Cardiomegaly|Edema|Effusion|Infiltration|Mass|Pleural_Thickening|Pneumonia',\n",
       "       'Cardiomegaly|Effusion|Emphysema|Fibrosis',\n",
       "       'Effusion|Emphysema|Fibrosis|Mass|Pneumothorax',\n",
       "       'Nodule|Pneumonia|Mass',\n",
       "       'Cardiomegaly|Consolidation|Effusion|Mass|Pneumothorax',\n",
       "       'Edema|Effusion|Mass|Pneumothorax',\n",
       "       'Atelectasis|Consolidation|Mass|Nodule|Pleural_Thickening',\n",
       "       'Atelectasis|Cardiomegaly|Effusion|Mass|Pleural_Thickening',\n",
       "       'Cardiomegaly|Effusion|Mass|Pneumothorax',\n",
       "       'Consolidation|Emphysema|Infiltration|Nodule|Pleural_Thickening|Pneumothorax',\n",
       "       'Consolidation|Edema|Nodule', 'Cardiomegaly|Edema|Nodule',\n",
       "       'Edema|Infiltration|Pneumonia|Pneumothorax',\n",
       "       'Cardiomegaly|Hernia|Infiltration', 'Mass|Infiltration|Pneumonia',\n",
       "       'Atelectasis|Mass|Nodule|Pleural_Thickening',\n",
       "       'Atelectasis|Cardiomegaly|Consolidation|Effusion|Mass|Nodule',\n",
       "       'Atelectasis|Consolidation|Effusion|Mass|Nodule|Pleural_Thickening',\n",
       "       'Edema|Pneumonia|Pneumothorax',\n",
       "       'Cardiomegaly|Infiltration|Nodule|Pneumothorax',\n",
       "       'Cardiomegaly|Consolidation|Effusion|Mass|Nodule|Pleural_Thickening',\n",
       "       'Cardiomegaly|Consolidation|Edema|Effusion|Mass|Nodule|Pleural_Thickening',\n",
       "       'Cardiomegaly|Consolidation|Effusion|Infiltration|Pleural_Thickening',\n",
       "       'Cardiomegaly|Consolidation|Effusion|Pleural_Thickening',\n",
       "       'Emphysema|Fibrosis|Hernia|Mass',\n",
       "       'Cardiomegaly|Effusion|Nodule|Infiltration',\n",
       "       'Cardiomegaly|Consolidation|Effusion|Infiltration|Nodule',\n",
       "       'Hernia|Infiltration|Pneumothorax',\n",
       "       'Atelectasis|Consolidation|Infiltration|Mass|Pleural_Thickening',\n",
       "       'Cardiomegaly|Effusion|Infiltration|Mass|Nodule|Pleural_Thickening',\n",
       "       'Atelectasis|Consolidation|Effusion|Infiltration|Mass|Pleural_Thickening',\n",
       "       'Atelectasis|Mass|Nodule|Pneumothorax',\n",
       "       'Infiltration|Mass|Nodule|Pleural_Thickening|Pneumothorax',\n",
       "       'Atelectasis|Cardiomegaly|Effusion|Nodule|Pleural_Thickening',\n",
       "       'Consolidation|Fibrosis|Infiltration|Pleural_Thickening|Mass',\n",
       "       'Atelectasis|Cardiomegaly|Fibrosis|Mass|Pneumothorax',\n",
       "       'Atelectasis|Emphysema|Infiltration|Mass|Pleural_Thickening|Pneumothorax',\n",
       "       'Atelectasis|Emphysema|Mass|Pleural_Thickening|Pneumothorax',\n",
       "       'Atelectasis|Consolidation|Emphysema|Mass|Nodule|Pleural_Thickening|Pneumothorax',\n",
       "       'Effusion|Emphysema|Mass|Nodule',\n",
       "       'Cardiomegaly|Effusion|Mass|Pleural_Thickening',\n",
       "       'Atelectasis|Consolidation|Effusion|Fibrosis|Infiltration|Mass|Pleural_Thickening',\n",
       "       'Atelectasis|Consolidation|Effusion|Fibrosis|Infiltration|Mass',\n",
       "       'Atelectasis|Cardiomegaly|Consolidation|Edema|Effusion|Mass',\n",
       "       'Atelectasis|Edema|Emphysema',\n",
       "       'Atelectasis|Edema|Emphysema|Pneumothorax',\n",
       "       'Atelectasis|Effusion|Emphysema|Mass|Pleural_Thickening',\n",
       "       'Effusion|Fibrosis|Nodule',\n",
       "       'Consolidation|Mass|Nodule|Pleural_Thickening',\n",
       "       'Atelectasis|Cardiomegaly|Effusion|Mass|Nodule',\n",
       "       'Atelectasis|Cardiomegaly|Effusion|Fibrosis|Pleural_Thickening',\n",
       "       'Atelectasis|Effusion|Infiltration|Pneumothorax|Cardiomegaly',\n",
       "       'Atelectasis|Consolidation|Effusion|Mass|Nodule|Pneumothorax',\n",
       "       'Atelectasis|Consolidation|Infiltration|Nodule|Pleural_Thickening',\n",
       "       'Cardiomegaly|Edema|Effusion|Mass|Nodule',\n",
       "       'Atelectasis|Cardiomegaly|Consolidation|Edema|Effusion|Infiltration|Mass|Nodule',\n",
       "       'Effusion|Emphysema|Mass|Pneumothorax',\n",
       "       'Atelectasis|Cardiomegaly|Consolidation|Effusion|Mass|Pleural_Thickening',\n",
       "       'Effusion|Fibrosis|Pleural_Thickening|Pneumothorax',\n",
       "       'Atelectasis|Emphysema|Fibrosis|Nodule',\n",
       "       'Effusion|Emphysema|Nodule|Pleural_Thickening',\n",
       "       'Effusion|Infiltration|Mass|Pleural_Thickening|Pneumothorax',\n",
       "       'Effusion|Fibrosis|Infiltration|Nodule|Pleural_Thickening|Pneumothorax',\n",
       "       'Mass|Nodule|Atelectasis', 'Atelectasis|Cardiomegaly|Pneumothorax',\n",
       "       'Atelectasis|Cardiomegaly|Effusion|Infiltration|Mass|Pneumothorax',\n",
       "       'Atelectasis|Cardiomegaly|Consolidation|Effusion|Infiltration|Mass|Pleural_Thickening',\n",
       "       'Infiltration|Mass|Pleural_Thickening|Pneumothorax',\n",
       "       'Effusion|Nodule|Pneumothorax|Mass',\n",
       "       'Atelectasis|Edema|Infiltration|Nodule|Pleural_Thickening',\n",
       "       'Infiltration|Mass|Nodule|Pneumonia',\n",
       "       'Cardiomegaly|Consolidation|Effusion|Infiltration|Mass|Nodule',\n",
       "       'Edema|Fibrosis|Infiltration|Mass',\n",
       "       'Atelectasis|Cardiomegaly|Edema|Effusion|Infiltration',\n",
       "       'Consolidation|Mass|Pleural_Thickening|Pneumothorax',\n",
       "       'Atelectasis|Consolidation|Effusion|Fibrosis|Infiltration|Mass|Nodule|Pleural_Thickening|Pneumothorax',\n",
       "       'Consolidation|Infiltration|Mass|Nodule|Pleural_Thickening',\n",
       "       'Edema|Mass|Pleural_Thickening',\n",
       "       'Atelectasis|Consolidation|Effusion|Infiltration|Mass|Nodule|Pleural_Thickening',\n",
       "       'Atelectasis|Consolidation|Nodule|Pleural_Thickening|Pneumothorax',\n",
       "       'Atelectasis|Consolidation|Mass|Nodule|Pleural_Thickening|Pneumothorax',\n",
       "       'Consolidation|Effusion|Infiltration|Mass|Nodule|Pleural_Thickening|Pneumothorax',\n",
       "       'Atelectasis|Emphysema|Fibrosis|Pleural_Thickening',\n",
       "       'Atelectasis|Fibrosis|Pneumothorax',\n",
       "       'Emphysema|Infiltration|Atelectasis',\n",
       "       'Fibrosis|Infiltration|Nodule|Pleural_Thickening',\n",
       "       'Edema|Infiltration|Nodule|Pleural_Thickening',\n",
       "       'Atelectasis|Emphysema|Fibrosis|Nodule|Pleural_Thickening|Pneumothorax',\n",
       "       'Atelectasis|Cardiomegaly|Effusion|Infiltration|Mass|Pleural_Thickening',\n",
       "       'Atelectasis|Edema|Effusion|Pneumonia',\n",
       "       'Cardiomegaly|Edema|Effusion|Nodule',\n",
       "       'Consolidation|Effusion|Mass|Nodule|Pneumothorax',\n",
       "       'Consolidation|Mass|Nodule|Pneumonia', 'Pneumothorax|Atelectasis',\n",
       "       'Effusion|Emphysema|Infiltration|Nodule',\n",
       "       'Effusion|Infiltration|Nodule|Pleural_Thickening|Pneumothorax',\n",
       "       'Edema|Effusion|Nodule|Mass',\n",
       "       'Edema|Infiltration|Mass|Pneumothorax',\n",
       "       'Cardiomegaly|Nodule|Pneumonia',\n",
       "       'Hernia|Infiltration|Pleural_Thickening',\n",
       "       'Atelectasis|Edema|Effusion|Hernia|Infiltration',\n",
       "       'Effusion|Emphysema|Infiltration|Nodule|Pleural_Thickening',\n",
       "       'Atelectasis|Consolidation|Effusion|Emphysema|Nodule|Pneumothorax',\n",
       "       'Atelectasis|Consolidation|Effusion|Emphysema|Infiltration|Nodule',\n",
       "       'Effusion|Infiltration|Atelectasis',\n",
       "       'Consolidation|Edema|Pleural_Thickening', 'Effusion|Atelectasis',\n",
       "       'Atelectasis|Cardiomegaly|Edema|Effusion|Infiltration|Pleural_Thickening',\n",
       "       'Nodule|Atelectasis', 'Edema|Fibrosis|Infiltration',\n",
       "       'Fibrosis|Hernia|Infiltration',\n",
       "       'Consolidation|Infiltration|Nodule|Pleural_Thickening',\n",
       "       'Atelectasis|Consolidation|Pleural_Thickening|Pneumothorax',\n",
       "       'Infiltration|Pneumothorax|Atelectasis',\n",
       "       'Atelectasis|Cardiomegaly|Effusion|Infiltration|Pneumonia',\n",
       "       'Atelectasis|Edema|Mass|Pleural_Thickening',\n",
       "       'Atelectasis|Hernia|Pleural_Thickening',\n",
       "       'Consolidation|Infiltration|Nodule|Pneumonia', 'Nodule|Effusion',\n",
       "       'Cardiomegaly|Consolidation|Edema|Effusion|Pleural_Thickening',\n",
       "       'Atelectasis|Cardiomegaly|Edema|Effusion|Infiltration|Nodule|Pneumonia',\n",
       "       'Consolidation|Pleural_Thickening|Infiltration',\n",
       "       'Atelectasis|Edema|Effusion|Mass|Pneumothorax',\n",
       "       'Infiltration|Nodule|Pleural_Thickening|Pneumothorax',\n",
       "       'Atelectasis|Cardiomegaly|Effusion|Infiltration|Pneumothorax',\n",
       "       'Infiltration|Mass|Pleural_Thickening|Pneumonia',\n",
       "       'Emphysema|Fibrosis|Infiltration|Pneumothorax',\n",
       "       'Emphysema|Nodule|Pleural_Thickening|Pneumothorax',\n",
       "       'Atelectasis|Fibrosis|Infiltration|Pleural_Thickening',\n",
       "       'Edema|Infiltration|Pleural_Thickening|Pneumonia|Pneumothorax',\n",
       "       'Atelectasis|Consolidation|Edema|Effusion|Infiltration|Mass|Nodule|Pleural_Thickening|Pneumonia',\n",
       "       'Atelectasis|Effusion|Emphysema|Mass',\n",
       "       'Atelectasis|Edema|Effusion|Emphysema|Infiltration|Mass',\n",
       "       'Cardiomegaly|Consolidation|Effusion|Infiltration|Mass',\n",
       "       'Edema|Emphysema|Infiltration|Pneumothorax',\n",
       "       'Consolidation|Pleural_Thickening|Pneumothorax',\n",
       "       'Effusion|Emphysema|Infiltration|Pneumonia',\n",
       "       'Cardiomegaly|Infiltration|Pneumonia',\n",
       "       'Atelectasis|Consolidation|Edema|Mass|Pleural_Thickening',\n",
       "       'Pleural_Thickening|Nodule',\n",
       "       'Effusion|Emphysema|Infiltration|Pleural_Thickening|Pneumothorax',\n",
       "       'Edema|Effusion|Pleural_Thickening|Pneumonia|Pneumothorax',\n",
       "       'Effusion|Infiltration|Nodule|Pneumonia',\n",
       "       'Emphysema|Mass|Nodule|Pleural_Thickening|Pneumothorax',\n",
       "       'Effusion|Emphysema|Mass|Pleural_Thickening',\n",
       "       'Cardiomegaly|Effusion|Emphysema|Infiltration',\n",
       "       'Atelectasis|Emphysema|Infiltration|Pneumothorax|Pneumonia',\n",
       "       'Effusion|Fibrosis|Mass|Cardiomegaly',\n",
       "       'Atelectasis|Consolidation|Emphysema|Mass|Pneumothorax',\n",
       "       'Consolidation|Effusion|Fibrosis|Mass|Nodule|Pleural_Thickening',\n",
       "       'Atelectasis|Edema|Pneumonia',\n",
       "       'Atelectasis|Edema|Effusion|Infiltration|Pleural_Thickening',\n",
       "       'Consolidation|Effusion|Infiltration|Mass|Pleural_Thickening',\n",
       "       'Emphysema|Infiltration|Mass|Pleural_Thickening',\n",
       "       'Emphysema|Pneumonia|Pneumothorax',\n",
       "       'Atelectasis|Effusion|Emphysema|Infiltration|Pleural_Thickening',\n",
       "       'Atelectasis|Effusion|Emphysema|Infiltration|Pleural_Thickening|Pneumothorax',\n",
       "       'Mass|Nodule|Pneumonia|Pneumothorax',\n",
       "       'Emphysema|Infiltration|Mass|Nodule|Pleural_Thickening',\n",
       "       'Atelectasis|Cardiomegaly|Consolidation|Effusion|Pneumothorax',\n",
       "       'Atelectasis|Emphysema|Fibrosis', 'Pneumothorax|Mass',\n",
       "       'Atelectasis|Emphysema|Fibrosis|Infiltration|Nodule|Pneumothorax',\n",
       "       'Emphysema|Mass|Nodule|Pleural_Thickening',\n",
       "       'Atelectasis|Cardiomegaly|Consolidation|Effusion|Infiltration|Mass',\n",
       "       'Atelectasis|Effusion|Infiltration|Pneumonia|Pneumothorax',\n",
       "       'Cardiomegaly|Hernia|Mass', 'Hernia|Infiltration|Nodule',\n",
       "       'Consolidation|Emphysema|Infiltration|Nodule',\n",
       "       'Effusion|Nodule|Pleural_Thickening|Mass',\n",
       "       'Infiltration|Cardiomegaly',\n",
       "       'Cardiomegaly|Consolidation|Effusion|Pneumonia',\n",
       "       'Emphysema|Infiltration|Nodule|Pleural_Thickening|Pneumothorax',\n",
       "       'Atelectasis|Nodule|Pleural_Thickening|Pneumothorax',\n",
       "       'Consolidation|Nodule|Pneumonia',\n",
       "       'Atelectasis|Effusion|Emphysema|Pleural_Thickening|Pneumothorax',\n",
       "       'Consolidation|Pneumonia|Mass', 'Consolidation|Effusion|Emphysema',\n",
       "       'Atelectasis|Hernia|Infiltration|Mass|Nodule|Pneumothorax',\n",
       "       'Atelectasis|Consolidation|Mass|Pleural_Thickening|Pneumothorax'],\n",
       "      dtype=object)"
      ]
     },
     "execution_count": 23,
     "metadata": {},
     "output_type": "execute_result"
    }
   ],
   "source": [
    "all_xray_df[\"Finding Labels\"].unique()"
   ]
  },
  {
   "cell_type": "code",
   "execution_count": 24,
   "metadata": {},
   "outputs": [
    {
     "name": "stdout",
     "output_type": "stream",
     "text": [
      "Number of images with pneumonia: 1426\n",
      "Number of images without pneumonia: 110642\n"
     ]
    },
    {
     "data": {
      "image/png": "[encoded data removed]",
      "text/plain": [
       "<Figure size 432x288 with 1 Axes>"
      ]
     },
     "metadata": {
      "needs_background": "light"
     },
     "output_type": "display_data"
    }
   ],
   "source": [
    "# create a 'pneumonia_class' column where 1: with pneumonia and 0: without pneumonia\n",
    "all_xray_df['pneumonia_class'] = all_xray_df['Finding Labels'].str.contains(\"Pneumonia\")\n",
    "\n",
    "# convert True/False into 1/0\n",
    "all_xray_df['pneumonia_class'] = all_xray_df['pneumonia_class'].replace({True: \"Positive\", False: \"Negative\"})\n",
    "\n",
    "# number of image that has/doesn't have pneumonia\n",
    "print(\"Number of images with pneumonia: {}\".format(sum(all_xray_df['pneumonia_class'] == \"Positive\")))\n",
    "print(\"Number of images without pneumonia: {}\".format(sum(all_xray_df['pneumonia_class'] == \"Negative\")))\n",
    "\n",
    "# plot\n",
    "ax = sns.countplot(x=\"pneumonia_class\", data=all_xray_df)\n",
    "ax.set_title(\"pneumonia_class\")\n",
    "plt.show()"
   ]
  },
  {
   "cell_type": "markdown",
   "metadata": {},
   "source": [
    "We see that the dataset is unbalanced. We only have 1,426 pneumonia-positive images, which is 1% of the whole dataset."
   ]
  },
  {
   "cell_type": "markdown",
   "metadata": {},
   "source": [
    "### Diseases comorbid with pneumonia\n",
    "\n",
    "There are 15 distinct diseases/diagnoses in the `Finding Labels` column.\n",
    "\n",
    "- No Finding\n",
    "- Edema\n",
    "- Mass\n",
    "- Cardiomegaly\n",
    "- Infiltration\n",
    "- Pneumothorax\n",
    "- Consolidation\n",
    "- Hernia\n",
    "- Atelectasis\n",
    "- Fibrosis\n",
    "- Emphysema\n",
    "- Effusion\n",
    "- Nodule\n",
    "- Pleural_Thickening\n",
    "- Pneumonia"
   ]
  },
  {
   "cell_type": "code",
   "execution_count": 25,
   "metadata": {},
   "outputs": [
    {
     "name": "stdout",
     "output_type": "stream",
     "text": [
      "{'Mass', 'Infiltration', 'Consolidation', 'Edema', 'Pneumothorax', 'Hernia', 'Atelectasis', 'Pleural_Thickening', 'Pneumonia', 'Fibrosis', 'Cardiomegaly', 'No Finding', 'Effusion', 'Nodule', 'Emphysema'}\n"
     ]
    }
   ],
   "source": [
    "disease_set = set()\n",
    "\n",
    "for diagnosis in all_xray_df['Finding Labels'].unique():\n",
    "    for disease in diagnosis.split(\"|\"):\n",
    "        disease = disease.strip()\n",
    "        disease_set.add(disease)\n",
    "\n",
    "print(disease_set)"
   ]
  },
  {
   "cell_type": "markdown",
   "metadata": {},
   "source": [
    "We go through every pneumonia-positive rows and see what other diseases are comorbid with pneumonia."
   ]
  },
  {
   "cell_type": "code",
   "execution_count": 26,
   "metadata": {},
   "outputs": [
    {
     "name": "stdout",
     "output_type": "stream",
     "text": [
      "{'Mass': 71, 'Infiltration': 605, 'Consolidation': 123, 'Edema': 340, 'Pneumothorax': 41, 'Hernia': 3, 'Atelectasis': 261, 'Pleural_Thickening': 48, 'Fibrosis': 11, 'Cardiomegaly': 41, 'Effusion': 267, 'Nodule': 70, 'Emphysema': 22}\n"
     ]
    }
   ],
   "source": [
    "# create a dict to count comorbid\n",
    "comorbid_diseases = dict()\n",
    "for dis in disease_set:\n",
    "    if dis not in [\"No Finding\", \"Pneumonia\"]:\n",
    "        comorbid_diseases[dis] = 0\n",
    "\n",
    "# iterate the rows\n",
    "for i in range(all_xray_df.shape[0]):\n",
    "    if all_xray_df.iloc[i]['pneumonia_class'] == \"Positive\":\n",
    "        diseases = all_xray_df.iloc[i]['Finding Labels']\n",
    "        for dis in diseases.split(\"|\"):\n",
    "            dis = dis.strip()\n",
    "            if dis not in [\"No Finding\", \"Pneumonia\"]:\n",
    "                comorbid_diseases[dis] += 1\n",
    "\n",
    "print(comorbid_diseases)"
   ]
  },
  {
   "cell_type": "code",
   "execution_count": 27,
   "metadata": {},
   "outputs": [
    {
     "data": {
      "image/png": "[encoded data removed]",
      "text/plain": [
       "<Figure size 1080x720 with 1 Axes>"
      ]
     },
     "metadata": {},
     "output_type": "display_data"
    }
   ],
   "source": [
    "# plot\n",
    "comorbid_dis = list(comorbid_diseases.keys())\n",
    "comorbid_counts = list(comorbid_diseases[x] for x in comorbid_diseases.keys())\n",
    "comorbid_freq = [100*x/1426 for x in comorbid_counts]\n",
    "\n",
    "sns.set(rc={'figure.figsize':(15, 10)})\n",
    "ax = sns.barplot(x=comorbid_dis, y=comorbid_counts)\n",
    "ax.set_title(\"Comorbid Diseases\")\n",
    "ax.set_xticklabels(ax.get_xticklabels(), rotation=30)\n",
    "\n",
    "for i, p in enumerate(ax.patches):\n",
    "    ax.annotate(\"{:.1f}%\".format(comorbid_freq[i]), (p.get_x()+p.get_width()/2, p.get_height()), \n",
    "                xytext=(-18, 10), textcoords='offset pixels')\n",
    "    \n",
    "plt.show()"
   ]
  },
  {
   "cell_type": "markdown",
   "metadata": {},
   "source": [
    "The top 5 common diseases that accompany the diagnosis of pneumonia are:\n",
    "\n",
    "- Infiltration (42.4%)\n",
    "- Edema (23.8%)\n",
    "- Effusion (18.7%)\n",
    "- Atelectasis (18.3%)\n",
    "- Consolidation (8.6%)"
   ]
  },
  {
   "cell_type": "markdown",
   "metadata": {},
   "source": [
    "### Number of diseases comorbid with pneumonia\n",
    "\n",
    "The barplot below shows the distribution of the number of comorbid diseases with pneumonia."
   ]
  },
  {
   "cell_type": "code",
   "execution_count": 28,
   "metadata": {},
   "outputs": [
    {
     "data": {
      "image/png": "[encoded data removed]",
      "text/plain": [
       "<Figure size 720x360 with 1 Axes>"
      ]
     },
     "metadata": {},
     "output_type": "display_data"
    }
   ],
   "source": [
    "n_comorbid_dict = dict()\n",
    "\n",
    "# iterate the rows\n",
    "for i in range(all_xray_df.shape[0]):\n",
    "    # only select the image where pneumonia is detected\n",
    "    if all_xray_df.iloc[i]['pneumonia_class'] == \"Positive\":\n",
    "        # the diagnoses\n",
    "        diseases = all_xray_df.iloc[i]['Finding Labels']\n",
    "        # split the diseases and (len-1) is the number of comorbid diseases\n",
    "        n_comorbid = len(diseases.split(\"|\"))-1\n",
    "        n_comorbid_dict[n_comorbid] = n_comorbid_dict.get(n_comorbid, 0) + 1\n",
    "\n",
    "# plot\n",
    "sns.set(rc={'figure.figsize':(10, 5)})\n",
    "ax = sns.barplot(x=list(n_comorbid_dict.keys()), y=list(n_comorbid_dict[x] for x in n_comorbid_dict.keys()))\n",
    "ax.set_title(\"Number of Comorbid Diseases with Pneumonia\")\n",
    "ax.set_xticklabels(ax.get_xticklabels())\n",
    "    \n",
    "plt.show()"
   ]
  },
  {
   "cell_type": "markdown",
   "metadata": {},
   "source": [
    "### Number of diseases per patient\n",
    "\n",
    "Below shows the distribution of number of diseases per patient (images with `No Finding` are excluded)"
   ]
  },
  {
   "cell_type": "code",
   "execution_count": 29,
   "metadata": {},
   "outputs": [
    {
     "data": {
      "image/png": "[encoded data removed]",
      "text/plain": [
       "<Figure size 720x360 with 1 Axes>"
      ]
     },
     "metadata": {},
     "output_type": "display_data"
    }
   ],
   "source": [
    "pid_to_num_diseases = dict()\n",
    "\n",
    "# iterate the rows\n",
    "for i in range(all_xray_df.shape[0]):\n",
    "    if all_xray_df.iloc[i]['Finding Labels'] != \"No Finding\":\n",
    "        pid = all_xray_df.iloc[i]['Patient ID']\n",
    "        diseases = all_xray_df.iloc[i]['Finding Labels'].split(\"|\")\n",
    "        for d in diseases:\n",
    "            d = d.strip()\n",
    "            pid_to_num_diseases[pid] = pid_to_num_diseases.get(pid, []) + [d]\n",
    "\n",
    "num_diseases_dict = dict()\n",
    "\n",
    "for pid in pid_to_num_diseases:\n",
    "    n_diseases = len(set(pid_to_num_diseases[pid]))\n",
    "    num_diseases_dict[n_diseases] = num_diseases_dict.get(n_diseases, 0) + 1\n",
    "\n",
    "# plot\n",
    "n_diseases = list(num_diseases_dict.keys())\n",
    "n_diseases_counts = list(num_diseases_dict[x] for x in num_diseases_dict.keys())\n",
    "\n",
    "sns.set(rc={'figure.figsize':(10, 5)})\n",
    "ax = sns.barplot(x=n_diseases, y=n_diseases_counts)\n",
    "ax.set_title(\"Number of Diseases per Patient\")\n",
    "ax.set_xticklabels(ax.get_xticklabels())\n",
    "    \n",
    "plt.show()"
   ]
  },
  {
   "cell_type": "markdown",
   "metadata": {},
   "source": [
    "### Number of patients detected with pneumonia"
   ]
  },
  {
   "cell_type": "markdown",
   "metadata": {},
   "source": [
    "There are 30,797 unique patients. Among them, 1,007 patients are detected with pneumonia."
   ]
  },
  {
   "cell_type": "code",
   "execution_count": 30,
   "metadata": {},
   "outputs": [
    {
     "name": "stdout",
     "output_type": "stream",
     "text": [
      "Total number of patients: 30797\n",
      "Number of patients with pneumonia: 1007\n"
     ]
    }
   ],
   "source": [
    "print(\"Total number of patients: {}\".format(all_xray_df['Patient ID'].nunique()))\n",
    "print(\"Number of patients with pneumonia: {}\".format(all_xray_df[all_xray_df['pneumonia_class']==\"Positive\"]['Patient ID'].nunique()))"
   ]
  },
  {
   "cell_type": "markdown",
   "metadata": {},
   "source": [
    "### Pixel-level assessments\n",
    "\n",
    "We use `sample_labels.csv` for pixel-level assessments. We should be careful that different images may have different shapes."
   ]
  },
  {
   "cell_type": "code",
   "execution_count": 31,
   "metadata": {},
   "outputs": [
    {
     "name": "stdout",
     "output_type": "stream",
     "text": [
      "(5606, 11)\n"
     ]
    },
    {
     "data": {
      "text/html": [
       "<div>\n",
       "<style scoped>\n",
       "    .dataframe tbody tr th:only-of-type {\n",
       "        vertical-align: middle;\n",
       "    }\n",
       "\n",
       "    .dataframe tbody tr th {\n",
       "        vertical-align: top;\n",
       "    }\n",
       "\n",
       "    .dataframe thead th {\n",
       "        text-align: right;\n",
       "    }\n",
       "</style>\n",
       "<table border=\"1\" class=\"dataframe\">\n",
       "  <thead>\n",
       "    <tr style=\"text-align: right;\">\n",
       "      <th></th>\n",
       "      <th>Image Index</th>\n",
       "      <th>Finding Labels</th>\n",
       "      <th>Follow-up #</th>\n",
       "      <th>Patient ID</th>\n",
       "      <th>Patient Age</th>\n",
       "      <th>Patient Gender</th>\n",
       "      <th>View Position</th>\n",
       "      <th>OriginalImageWidth</th>\n",
       "      <th>OriginalImageHeight</th>\n",
       "      <th>OriginalImagePixelSpacing_x</th>\n",
       "      <th>OriginalImagePixelSpacing_y</th>\n",
       "    </tr>\n",
       "  </thead>\n",
       "  <tbody>\n",
       "    <tr>\n",
       "      <th>0</th>\n",
       "      <td>00000013_005.png</td>\n",
       "      <td>Emphysema|Infiltration|Pleural_Thickening|Pneu...</td>\n",
       "      <td>5</td>\n",
       "      <td>13</td>\n",
       "      <td>060Y</td>\n",
       "      <td>M</td>\n",
       "      <td>AP</td>\n",
       "      <td>3056</td>\n",
       "      <td>2544</td>\n",
       "      <td>0.139</td>\n",
       "      <td>0.139</td>\n",
       "    </tr>\n",
       "    <tr>\n",
       "      <th>1</th>\n",
       "      <td>00000013_026.png</td>\n",
       "      <td>Cardiomegaly|Emphysema</td>\n",
       "      <td>26</td>\n",
       "      <td>13</td>\n",
       "      <td>057Y</td>\n",
       "      <td>M</td>\n",
       "      <td>AP</td>\n",
       "      <td>2500</td>\n",
       "      <td>2048</td>\n",
       "      <td>0.168</td>\n",
       "      <td>0.168</td>\n",
       "    </tr>\n",
       "    <tr>\n",
       "      <th>2</th>\n",
       "      <td>00000017_001.png</td>\n",
       "      <td>No Finding</td>\n",
       "      <td>1</td>\n",
       "      <td>17</td>\n",
       "      <td>077Y</td>\n",
       "      <td>M</td>\n",
       "      <td>AP</td>\n",
       "      <td>2500</td>\n",
       "      <td>2048</td>\n",
       "      <td>0.168</td>\n",
       "      <td>0.168</td>\n",
       "    </tr>\n",
       "    <tr>\n",
       "      <th>3</th>\n",
       "      <td>00000030_001.png</td>\n",
       "      <td>Atelectasis</td>\n",
       "      <td>1</td>\n",
       "      <td>30</td>\n",
       "      <td>079Y</td>\n",
       "      <td>M</td>\n",
       "      <td>PA</td>\n",
       "      <td>2992</td>\n",
       "      <td>2991</td>\n",
       "      <td>0.143</td>\n",
       "      <td>0.143</td>\n",
       "    </tr>\n",
       "    <tr>\n",
       "      <th>4</th>\n",
       "      <td>00000032_001.png</td>\n",
       "      <td>Cardiomegaly|Edema|Effusion</td>\n",
       "      <td>1</td>\n",
       "      <td>32</td>\n",
       "      <td>055Y</td>\n",
       "      <td>F</td>\n",
       "      <td>AP</td>\n",
       "      <td>2500</td>\n",
       "      <td>2048</td>\n",
       "      <td>0.168</td>\n",
       "      <td>0.168</td>\n",
       "    </tr>\n",
       "  </tbody>\n",
       "</table>\n",
       "</div>"
      ],
      "text/plain": [
       "        Image Index                                     Finding Labels  \\\n",
       "0  00000013_005.png  Emphysema|Infiltration|Pleural_Thickening|Pneu...   \n",
       "1  00000013_026.png                             Cardiomegaly|Emphysema   \n",
       "2  00000017_001.png                                         No Finding   \n",
       "3  00000030_001.png                                        Atelectasis   \n",
       "4  00000032_001.png                        Cardiomegaly|Edema|Effusion   \n",
       "\n",
       "   Follow-up #  Patient ID Patient Age Patient Gender View Position  \\\n",
       "0            5          13        060Y              M            AP   \n",
       "1           26          13        057Y              M            AP   \n",
       "2            1          17        077Y              M            AP   \n",
       "3            1          30        079Y              M            PA   \n",
       "4            1          32        055Y              F            AP   \n",
       "\n",
       "   OriginalImageWidth  OriginalImageHeight  OriginalImagePixelSpacing_x  \\\n",
       "0                3056                 2544                        0.139   \n",
       "1                2500                 2048                        0.168   \n",
       "2                2500                 2048                        0.168   \n",
       "3                2992                 2991                        0.143   \n",
       "4                2500                 2048                        0.168   \n",
       "\n",
       "   OriginalImagePixelSpacing_y  \n",
       "0                        0.139  \n",
       "1                        0.168  \n",
       "2                        0.168  \n",
       "3                        0.143  \n",
       "4                        0.168  "
      ]
     },
     "execution_count": 31,
     "metadata": {},
     "output_type": "execute_result"
    }
   ],
   "source": [
    "print(sample_df.shape)\n",
    "sample_df.head()"
   ]
  },
  {
   "cell_type": "markdown",
   "metadata": {},
   "source": [
    "We saw that there are also some 411 years-old data in this dataframe. We remove patient data older than 100 years-old."
   ]
  },
  {
   "cell_type": "code",
   "execution_count": 32,
   "metadata": {},
   "outputs": [
    {
     "data": {
      "text/plain": [
       "array(['060Y', '057Y', '077Y', '079Y', '055Y', '068Y', '071Y', '063Y',\n",
       "       '067Y', '056Y', '058Y', '075Y', '073Y', '054Y', '078Y', '047Y',\n",
       "       '050Y', '045Y', '084Y', '030Y', '049Y', '061Y', '069Y', '051Y',\n",
       "       '044Y', '087Y', '059Y', '031Y', '064Y', '053Y', '082Y', '072Y',\n",
       "       '046Y', '080Y', '048Y', '021Y', '038Y', '062Y', '052Y', '023Y',\n",
       "       '037Y', '022Y', '032Y', '070Y', '065Y', '040Y', '042Y', '041Y',\n",
       "       '028Y', '035Y', '034Y', '066Y', '019Y', '039Y', '074Y', '026Y',\n",
       "       '024Y', '085Y', '016Y', '029Y', '033Y', '013Y', '017Y', '020Y',\n",
       "       '014Y', '043Y', '012Y', '009Y', '011Y', '027Y', '036Y', '081Y',\n",
       "       '025Y', '018Y', '076Y', '083Y', '008Y', '006Y', '015Y', '002Y',\n",
       "       '005Y', '010Y', '003Y', '089Y', '007Y', '086Y', '004Y', '094Y',\n",
       "       '013M', '411Y', '001D', '088Y'], dtype=object)"
      ]
     },
     "execution_count": 32,
     "metadata": {},
     "output_type": "execute_result"
    }
   ],
   "source": [
    "sample_df['Patient Age'].unique()"
   ]
  },
  {
   "cell_type": "code",
   "execution_count": 33,
   "metadata": {},
   "outputs": [
    {
     "data": {
      "text/plain": [
       "array(['060Y', '057Y', '077Y', '079Y', '055Y', '068Y', '071Y', '063Y',\n",
       "       '067Y', '056Y', '058Y', '075Y', '073Y', '054Y', '078Y', '047Y',\n",
       "       '050Y', '045Y', '084Y', '030Y', '049Y', '061Y', '069Y', '051Y',\n",
       "       '044Y', '087Y', '059Y', '031Y', '064Y', '053Y', '082Y', '072Y',\n",
       "       '046Y', '080Y', '048Y', '021Y', '038Y', '062Y', '052Y', '023Y',\n",
       "       '037Y', '022Y', '032Y', '070Y', '065Y', '040Y', '042Y', '041Y',\n",
       "       '028Y', '035Y', '034Y', '066Y', '019Y', '039Y', '074Y', '026Y',\n",
       "       '024Y', '085Y', '016Y', '029Y', '033Y', '013Y', '017Y', '020Y',\n",
       "       '014Y', '043Y', '012Y', '009Y', '011Y', '027Y', '036Y', '081Y',\n",
       "       '025Y', '018Y', '076Y', '083Y', '008Y', '006Y', '015Y', '002Y',\n",
       "       '005Y', '010Y', '003Y', '089Y', '007Y', '086Y', '004Y', '094Y',\n",
       "       '013M', '001D', '088Y'], dtype=object)"
      ]
     },
     "execution_count": 33,
     "metadata": {},
     "output_type": "execute_result"
    }
   ],
   "source": [
    "sample_df = sample_df[sample_df['Patient Age'].str[:-1].astype(int) <= 100]\n",
    "sample_df['Patient Age'].unique()"
   ]
  },
  {
   "cell_type": "markdown",
   "metadata": {},
   "source": [
    "### Pixel-value distributions\n",
    "\n",
    "We plot the histograms of all **15 classes** of diagnosis/finding labels."
   ]
  },
  {
   "cell_type": "code",
   "execution_count": 34,
   "metadata": {},
   "outputs": [],
   "source": [
    "# help function to calculate pixel distribution from a single image\n",
    "def pv_single_image(image_np, pv_bins):\n",
    "    \"\"\"\n",
    "    Calculate the pixel value distribution from a single image\n",
    "    Args:\n",
    "        image_np: numpy array of the image\n",
    "        pv_bins: bins to group pixel values\n",
    "    \"\"\"\n",
    "    # return the indices of bins each pixel location belongs to\n",
    "    # bins[i-1] < pix.val <= bins[i]\n",
    "    image_digitized = np.digitize(image_np, pv_bins, right=False)\n",
    "    \n",
    "    # pixel-value distributions\n",
    "    pvd = [0 for _ in range(len(pv_bins)-1)]\n",
    "    \n",
    "    h, w = image_np.shape\n",
    "    for i in range(h):\n",
    "        for j in range(w):\n",
    "            pvd[image_digitized[i][j]-1] += 1\n",
    "            \n",
    "    # normalize\n",
    "    pvd /= np.sum(pvd)\n",
    "    \n",
    "    return pvd"
   ]
  },
  {
   "cell_type": "code",
   "execution_count": 35,
   "metadata": {},
   "outputs": [
    {
     "data": {
      "text/html": [
       "<div>\n",
       "<style scoped>\n",
       "    .dataframe tbody tr th:only-of-type {\n",
       "        vertical-align: middle;\n",
       "    }\n",
       "\n",
       "    .dataframe tbody tr th {\n",
       "        vertical-align: top;\n",
       "    }\n",
       "\n",
       "    .dataframe thead th {\n",
       "        text-align: right;\n",
       "    }\n",
       "</style>\n",
       "<table border=\"1\" class=\"dataframe\">\n",
       "  <thead>\n",
       "    <tr style=\"text-align: right;\">\n",
       "      <th></th>\n",
       "      <th>Image Index</th>\n",
       "      <th>Finding Labels</th>\n",
       "      <th>Follow-up #</th>\n",
       "      <th>Patient ID</th>\n",
       "      <th>Patient Age</th>\n",
       "      <th>Patient Gender</th>\n",
       "      <th>View Position</th>\n",
       "      <th>OriginalImageWidth</th>\n",
       "      <th>OriginalImageHeight</th>\n",
       "      <th>OriginalImagePixelSpacing_x</th>\n",
       "      <th>OriginalImagePixelSpacing_y</th>\n",
       "      <th>image_path</th>\n",
       "    </tr>\n",
       "  </thead>\n",
       "  <tbody>\n",
       "    <tr>\n",
       "      <th>0</th>\n",
       "      <td>00000013_005.png</td>\n",
       "      <td>Emphysema|Infiltration|Pleural_Thickening|Pneu...</td>\n",
       "      <td>5</td>\n",
       "      <td>13</td>\n",
       "      <td>060Y</td>\n",
       "      <td>M</td>\n",
       "      <td>AP</td>\n",
       "      <td>3056</td>\n",
       "      <td>2544</td>\n",
       "      <td>0.139</td>\n",
       "      <td>0.139</td>\n",
       "      <td>/data/images_001/images/00000013_005.png</td>\n",
       "    </tr>\n",
       "    <tr>\n",
       "      <th>1</th>\n",
       "      <td>00000013_026.png</td>\n",
       "      <td>Cardiomegaly|Emphysema</td>\n",
       "      <td>26</td>\n",
       "      <td>13</td>\n",
       "      <td>057Y</td>\n",
       "      <td>M</td>\n",
       "      <td>AP</td>\n",
       "      <td>2500</td>\n",
       "      <td>2048</td>\n",
       "      <td>0.168</td>\n",
       "      <td>0.168</td>\n",
       "      <td>/data/images_001/images/00000013_026.png</td>\n",
       "    </tr>\n",
       "    <tr>\n",
       "      <th>2</th>\n",
       "      <td>00000017_001.png</td>\n",
       "      <td>No Finding</td>\n",
       "      <td>1</td>\n",
       "      <td>17</td>\n",
       "      <td>077Y</td>\n",
       "      <td>M</td>\n",
       "      <td>AP</td>\n",
       "      <td>2500</td>\n",
       "      <td>2048</td>\n",
       "      <td>0.168</td>\n",
       "      <td>0.168</td>\n",
       "      <td>/data/images_001/images/00000017_001.png</td>\n",
       "    </tr>\n",
       "    <tr>\n",
       "      <th>3</th>\n",
       "      <td>00000030_001.png</td>\n",
       "      <td>Atelectasis</td>\n",
       "      <td>1</td>\n",
       "      <td>30</td>\n",
       "      <td>079Y</td>\n",
       "      <td>M</td>\n",
       "      <td>PA</td>\n",
       "      <td>2992</td>\n",
       "      <td>2991</td>\n",
       "      <td>0.143</td>\n",
       "      <td>0.143</td>\n",
       "      <td>/data/images_001/images/00000030_001.png</td>\n",
       "    </tr>\n",
       "    <tr>\n",
       "      <th>4</th>\n",
       "      <td>00000032_001.png</td>\n",
       "      <td>Cardiomegaly|Edema|Effusion</td>\n",
       "      <td>1</td>\n",
       "      <td>32</td>\n",
       "      <td>055Y</td>\n",
       "      <td>F</td>\n",
       "      <td>AP</td>\n",
       "      <td>2500</td>\n",
       "      <td>2048</td>\n",
       "      <td>0.168</td>\n",
       "      <td>0.168</td>\n",
       "      <td>/data/images_001/images/00000032_001.png</td>\n",
       "    </tr>\n",
       "  </tbody>\n",
       "</table>\n",
       "</div>"
      ],
      "text/plain": [
       "        Image Index                                     Finding Labels  \\\n",
       "0  00000013_005.png  Emphysema|Infiltration|Pleural_Thickening|Pneu...   \n",
       "1  00000013_026.png                             Cardiomegaly|Emphysema   \n",
       "2  00000017_001.png                                         No Finding   \n",
       "3  00000030_001.png                                        Atelectasis   \n",
       "4  00000032_001.png                        Cardiomegaly|Edema|Effusion   \n",
       "\n",
       "   Follow-up #  Patient ID Patient Age Patient Gender View Position  \\\n",
       "0            5          13        060Y              M            AP   \n",
       "1           26          13        057Y              M            AP   \n",
       "2            1          17        077Y              M            AP   \n",
       "3            1          30        079Y              M            PA   \n",
       "4            1          32        055Y              F            AP   \n",
       "\n",
       "   OriginalImageWidth  OriginalImageHeight  OriginalImagePixelSpacing_x  \\\n",
       "0                3056                 2544                        0.139   \n",
       "1                2500                 2048                        0.168   \n",
       "2                2500                 2048                        0.168   \n",
       "3                2992                 2991                        0.143   \n",
       "4                2500                 2048                        0.168   \n",
       "\n",
       "   OriginalImagePixelSpacing_y                                image_path  \n",
       "0                        0.139  /data/images_001/images/00000013_005.png  \n",
       "1                        0.168  /data/images_001/images/00000013_026.png  \n",
       "2                        0.168  /data/images_001/images/00000017_001.png  \n",
       "3                        0.143  /data/images_001/images/00000030_001.png  \n",
       "4                        0.168  /data/images_001/images/00000032_001.png  "
      ]
     },
     "execution_count": 35,
     "metadata": {},
     "output_type": "execute_result"
    }
   ],
   "source": [
    "# process the paths of the images\n",
    "img_decoded_paths = {os.path.basename(c): c for c in glob(os.path.join('/data','images*', '*', '*.png'))}\n",
    "\n",
    "# add path to the image to the dataframe\n",
    "sample_df['image_path'] = sample_df['Image Index'].map(img_decoded_paths.get)\n",
    "sample_df.head()"
   ]
  },
  {
   "cell_type": "markdown",
   "metadata": {},
   "source": [
    "### Data processing for pixel value distribution analysis\n",
    "\n",
    "The cells below processes all the images by grouping the pixel values into bins and stored into a dataframe.\n",
    "\n",
    "For each disease, we randomly select 50 images to see the pixel values distributions."
   ]
  },
  {
   "cell_type": "code",
   "execution_count": 102,
   "metadata": {},
   "outputs": [
    {
     "name": "stdout",
     "output_type": "stream",
     "text": [
      "pixel-value bins: [0, 20, 40, 60, 80, 100, 120, 140, 160, 180, 200, 220, 240, 260]\n"
     ]
    }
   ],
   "source": [
    "# pixel value bins\n",
    "pv_bins = list(range(0, 280, 20))\n",
    "n_pv_bins = len(pv_bins)\n",
    "print(\"pixel-value bins: {}\".format(pv_bins))"
   ]
  },
  {
   "cell_type": "code",
   "execution_count": 103,
   "metadata": {},
   "outputs": [
    {
     "name": "stdout",
     "output_type": "stream",
     "text": [
      "['0-20', '20-40', '40-60', '60-80', '80-100', '100-120', '120-140', '140-160', '160-180', '180-200', '200-220', '220-240', '240-260']\n"
     ]
    }
   ],
   "source": [
    "# create a list of categorical column names for the pixel level bins\n",
    "bin_names = []\n",
    "for bin_min, bin_max in zip(pv_bins[:-1], pv_bins[1:]):\n",
    "    bmin = str(bin_min)\n",
    "    bmax = str(bin_max)\n",
    "    bin_names.append(bmin + \"-\" + bmax)\n",
    "print(bin_names)"
   ]
  },
  {
   "cell_type": "code",
   "execution_count": 104,
   "metadata": {},
   "outputs": [
    {
     "name": "stdout",
     "output_type": "stream",
     "text": [
      "{'disease_class': [], '0-20': [], '20-40': [], '40-60': [], '60-80': [], '80-100': [], '100-120': [], '120-140': [], '140-160': [], '160-180': [], '180-200': [], '200-220': [], '220-240': [], '240-260': []}\n"
     ]
    }
   ],
   "source": [
    "# create a dict to store pixel value information for creating a dataframe\n",
    "# pv_df_dict has keys such as: 'disease_class',  '0-20', '20-40', ..., '240-260'\n",
    "pv_df_dict = {'disease_class': []}\n",
    "for x in bin_names:\n",
    "    pv_df_dict[x] = []\n",
    "print(pv_df_dict)"
   ]
  },
  {
   "cell_type": "code",
   "execution_count": 105,
   "metadata": {},
   "outputs": [
    {
     "name": "stdout",
     "output_type": "stream",
     "text": [
      "20 images sampled from class = Mass\n",
      "20 images sampled from class = Infiltration\n",
      "20 images sampled from class = Consolidation\n",
      "20 images sampled from class = Edema\n",
      "20 images sampled from class = Pneumothorax\n",
      "13 images sampled from class = Hernia\n",
      "20 images sampled from class = Atelectasis\n",
      "20 images sampled from class = Pleural_Thickening\n",
      "20 images sampled from class = Pneumonia\n",
      "20 images sampled from class = Fibrosis\n",
      "20 images sampled from class = Cardiomegaly\n",
      "20 images sampled from class = No Finding\n",
      "20 images sampled from class = Effusion\n",
      "20 images sampled from class = Nodule\n",
      "20 images sampled from class = Emphysema\n"
     ]
    }
   ],
   "source": [
    "np.random.seed(2)\n",
    "\n",
    "n_sample = 20\n",
    "\n",
    "# loop over diseases, for each disease, random select n_sample images\n",
    "for disease in disease_set:\n",
    "    # filter the dataframe by the presence of the disease\n",
    "    images_paths = sample_df[sample_df['Finding Labels'].str.contains(disease)]['image_path'].to_numpy()\n",
    "    # random select n_sample images\n",
    "    np.random.shuffle(images_paths)\n",
    "    if len(images_paths) > n_sample:\n",
    "        images_paths = images_paths[:n_sample]\n",
    "    for img_pth in images_paths:\n",
    "        # open image\n",
    "        image = Image.open(img_pth)\n",
    "        # convert to numpy array\n",
    "        image_np = np.array(ImageOps.grayscale(image))\n",
    "        # binning the pixel values\n",
    "        pvd = pv_single_image(image_np, pv_bins).tolist()\n",
    "        # add to dict\n",
    "        pv_df_dict['disease_class'].append(disease)\n",
    "        for bin_name, val in zip(bin_names, pvd):\n",
    "            pv_df_dict[bin_name].append(val)\n",
    "    print(\"{} images sampled from class = {}\".format(len(images_paths), disease))"
   ]
  },
  {
   "cell_type": "code",
   "execution_count": 106,
   "metadata": {},
   "outputs": [
    {
     "data": {
      "text/html": [
       "<div>\n",
       "<style scoped>\n",
       "    .dataframe tbody tr th:only-of-type {\n",
       "        vertical-align: middle;\n",
       "    }\n",
       "\n",
       "    .dataframe tbody tr th {\n",
       "        vertical-align: top;\n",
       "    }\n",
       "\n",
       "    .dataframe thead th {\n",
       "        text-align: right;\n",
       "    }\n",
       "</style>\n",
       "<table border=\"1\" class=\"dataframe\">\n",
       "  <thead>\n",
       "    <tr style=\"text-align: right;\">\n",
       "      <th></th>\n",
       "      <th>disease_class</th>\n",
       "      <th>0-20</th>\n",
       "      <th>20-40</th>\n",
       "      <th>40-60</th>\n",
       "      <th>60-80</th>\n",
       "      <th>80-100</th>\n",
       "      <th>100-120</th>\n",
       "      <th>120-140</th>\n",
       "      <th>140-160</th>\n",
       "      <th>160-180</th>\n",
       "      <th>180-200</th>\n",
       "      <th>200-220</th>\n",
       "      <th>220-240</th>\n",
       "      <th>240-260</th>\n",
       "    </tr>\n",
       "  </thead>\n",
       "  <tbody>\n",
       "    <tr>\n",
       "      <th>0</th>\n",
       "      <td>Mass</td>\n",
       "      <td>0.139098</td>\n",
       "      <td>0.018038</td>\n",
       "      <td>0.043544</td>\n",
       "      <td>0.067974</td>\n",
       "      <td>0.074322</td>\n",
       "      <td>0.096088</td>\n",
       "      <td>0.120270</td>\n",
       "      <td>0.128380</td>\n",
       "      <td>0.081369</td>\n",
       "      <td>0.070438</td>\n",
       "      <td>0.075747</td>\n",
       "      <td>0.077433</td>\n",
       "      <td>0.007298</td>\n",
       "    </tr>\n",
       "    <tr>\n",
       "      <th>1</th>\n",
       "      <td>Mass</td>\n",
       "      <td>0.073778</td>\n",
       "      <td>0.034536</td>\n",
       "      <td>0.064992</td>\n",
       "      <td>0.087893</td>\n",
       "      <td>0.094806</td>\n",
       "      <td>0.074899</td>\n",
       "      <td>0.076587</td>\n",
       "      <td>0.099896</td>\n",
       "      <td>0.104612</td>\n",
       "      <td>0.119841</td>\n",
       "      <td>0.143292</td>\n",
       "      <td>0.019182</td>\n",
       "      <td>0.005686</td>\n",
       "    </tr>\n",
       "    <tr>\n",
       "      <th>2</th>\n",
       "      <td>Mass</td>\n",
       "      <td>0.202061</td>\n",
       "      <td>0.032505</td>\n",
       "      <td>0.069072</td>\n",
       "      <td>0.102118</td>\n",
       "      <td>0.091829</td>\n",
       "      <td>0.084945</td>\n",
       "      <td>0.079726</td>\n",
       "      <td>0.093923</td>\n",
       "      <td>0.077390</td>\n",
       "      <td>0.062024</td>\n",
       "      <td>0.070806</td>\n",
       "      <td>0.031918</td>\n",
       "      <td>0.001684</td>\n",
       "    </tr>\n",
       "    <tr>\n",
       "      <th>3</th>\n",
       "      <td>Mass</td>\n",
       "      <td>0.054419</td>\n",
       "      <td>0.032680</td>\n",
       "      <td>0.070300</td>\n",
       "      <td>0.090703</td>\n",
       "      <td>0.079377</td>\n",
       "      <td>0.071861</td>\n",
       "      <td>0.082346</td>\n",
       "      <td>0.102184</td>\n",
       "      <td>0.125918</td>\n",
       "      <td>0.107511</td>\n",
       "      <td>0.100795</td>\n",
       "      <td>0.077494</td>\n",
       "      <td>0.004413</td>\n",
       "    </tr>\n",
       "    <tr>\n",
       "      <th>4</th>\n",
       "      <td>Mass</td>\n",
       "      <td>0.087930</td>\n",
       "      <td>0.015428</td>\n",
       "      <td>0.020774</td>\n",
       "      <td>0.047260</td>\n",
       "      <td>0.120593</td>\n",
       "      <td>0.126686</td>\n",
       "      <td>0.105385</td>\n",
       "      <td>0.129649</td>\n",
       "      <td>0.167704</td>\n",
       "      <td>0.098209</td>\n",
       "      <td>0.063197</td>\n",
       "      <td>0.016809</td>\n",
       "      <td>0.000377</td>\n",
       "    </tr>\n",
       "  </tbody>\n",
       "</table>\n",
       "</div>"
      ],
      "text/plain": [
       "  disease_class      0-20     20-40     40-60     60-80    80-100   100-120  \\\n",
       "0          Mass  0.139098  0.018038  0.043544  0.067974  0.074322  0.096088   \n",
       "1          Mass  0.073778  0.034536  0.064992  0.087893  0.094806  0.074899   \n",
       "2          Mass  0.202061  0.032505  0.069072  0.102118  0.091829  0.084945   \n",
       "3          Mass  0.054419  0.032680  0.070300  0.090703  0.079377  0.071861   \n",
       "4          Mass  0.087930  0.015428  0.020774  0.047260  0.120593  0.126686   \n",
       "\n",
       "    120-140   140-160   160-180   180-200   200-220   220-240   240-260  \n",
       "0  0.120270  0.128380  0.081369  0.070438  0.075747  0.077433  0.007298  \n",
       "1  0.076587  0.099896  0.104612  0.119841  0.143292  0.019182  0.005686  \n",
       "2  0.079726  0.093923  0.077390  0.062024  0.070806  0.031918  0.001684  \n",
       "3  0.082346  0.102184  0.125918  0.107511  0.100795  0.077494  0.004413  \n",
       "4  0.105385  0.129649  0.167704  0.098209  0.063197  0.016809  0.000377  "
      ]
     },
     "execution_count": 106,
     "metadata": {},
     "output_type": "execute_result"
    }
   ],
   "source": [
    "# create the dataframe\n",
    "pv_df = pd.DataFrame.from_dict(pv_df_dict)\n",
    "pv_df.head()"
   ]
  },
  {
   "cell_type": "code",
   "execution_count": 107,
   "metadata": {},
   "outputs": [
    {
     "name": "stdout",
     "output_type": "stream",
     "text": [
      "(15, 14)\n"
     ]
    },
    {
     "data": {
      "text/html": [
       "<div>\n",
       "<style scoped>\n",
       "    .dataframe tbody tr th:only-of-type {\n",
       "        vertical-align: middle;\n",
       "    }\n",
       "\n",
       "    .dataframe tbody tr th {\n",
       "        vertical-align: top;\n",
       "    }\n",
       "\n",
       "    .dataframe thead th {\n",
       "        text-align: right;\n",
       "    }\n",
       "</style>\n",
       "<table border=\"1\" class=\"dataframe\">\n",
       "  <thead>\n",
       "    <tr style=\"text-align: right;\">\n",
       "      <th></th>\n",
       "      <th>disease_class</th>\n",
       "      <th>0-20</th>\n",
       "      <th>20-40</th>\n",
       "      <th>40-60</th>\n",
       "      <th>60-80</th>\n",
       "      <th>80-100</th>\n",
       "      <th>100-120</th>\n",
       "      <th>120-140</th>\n",
       "      <th>140-160</th>\n",
       "      <th>160-180</th>\n",
       "      <th>180-200</th>\n",
       "      <th>200-220</th>\n",
       "      <th>220-240</th>\n",
       "      <th>240-260</th>\n",
       "    </tr>\n",
       "  </thead>\n",
       "  <tbody>\n",
       "    <tr>\n",
       "      <th>0</th>\n",
       "      <td>Atelectasis</td>\n",
       "      <td>0.061026</td>\n",
       "      <td>0.027394</td>\n",
       "      <td>0.046001</td>\n",
       "      <td>0.059602</td>\n",
       "      <td>0.074979</td>\n",
       "      <td>0.087385</td>\n",
       "      <td>0.112965</td>\n",
       "      <td>0.111311</td>\n",
       "      <td>0.118529</td>\n",
       "      <td>0.126841</td>\n",
       "      <td>0.101545</td>\n",
       "      <td>0.067974</td>\n",
       "      <td>0.004447</td>\n",
       "    </tr>\n",
       "    <tr>\n",
       "      <th>1</th>\n",
       "      <td>Cardiomegaly</td>\n",
       "      <td>0.064509</td>\n",
       "      <td>0.028296</td>\n",
       "      <td>0.034229</td>\n",
       "      <td>0.060423</td>\n",
       "      <td>0.098227</td>\n",
       "      <td>0.122131</td>\n",
       "      <td>0.138126</td>\n",
       "      <td>0.109141</td>\n",
       "      <td>0.080617</td>\n",
       "      <td>0.094322</td>\n",
       "      <td>0.100556</td>\n",
       "      <td>0.068182</td>\n",
       "      <td>0.001242</td>\n",
       "    </tr>\n",
       "    <tr>\n",
       "      <th>2</th>\n",
       "      <td>Consolidation</td>\n",
       "      <td>0.104076</td>\n",
       "      <td>0.039112</td>\n",
       "      <td>0.047843</td>\n",
       "      <td>0.069725</td>\n",
       "      <td>0.092425</td>\n",
       "      <td>0.104172</td>\n",
       "      <td>0.111962</td>\n",
       "      <td>0.114990</td>\n",
       "      <td>0.112507</td>\n",
       "      <td>0.104218</td>\n",
       "      <td>0.066793</td>\n",
       "      <td>0.031207</td>\n",
       "      <td>0.000971</td>\n",
       "    </tr>\n",
       "    <tr>\n",
       "      <th>3</th>\n",
       "      <td>Edema</td>\n",
       "      <td>0.097127</td>\n",
       "      <td>0.024746</td>\n",
       "      <td>0.039996</td>\n",
       "      <td>0.075451</td>\n",
       "      <td>0.119187</td>\n",
       "      <td>0.142847</td>\n",
       "      <td>0.150297</td>\n",
       "      <td>0.128188</td>\n",
       "      <td>0.094896</td>\n",
       "      <td>0.075885</td>\n",
       "      <td>0.043560</td>\n",
       "      <td>0.007323</td>\n",
       "      <td>0.000496</td>\n",
       "    </tr>\n",
       "    <tr>\n",
       "      <th>4</th>\n",
       "      <td>Effusion</td>\n",
       "      <td>0.090451</td>\n",
       "      <td>0.040388</td>\n",
       "      <td>0.053517</td>\n",
       "      <td>0.070165</td>\n",
       "      <td>0.087164</td>\n",
       "      <td>0.092917</td>\n",
       "      <td>0.104546</td>\n",
       "      <td>0.109274</td>\n",
       "      <td>0.106524</td>\n",
       "      <td>0.097322</td>\n",
       "      <td>0.086368</td>\n",
       "      <td>0.051568</td>\n",
       "      <td>0.009795</td>\n",
       "    </tr>\n",
       "  </tbody>\n",
       "</table>\n",
       "</div>"
      ],
      "text/plain": [
       "   disease_class      0-20     20-40     40-60     60-80    80-100   100-120  \\\n",
       "0    Atelectasis  0.061026  0.027394  0.046001  0.059602  0.074979  0.087385   \n",
       "1   Cardiomegaly  0.064509  0.028296  0.034229  0.060423  0.098227  0.122131   \n",
       "2  Consolidation  0.104076  0.039112  0.047843  0.069725  0.092425  0.104172   \n",
       "3          Edema  0.097127  0.024746  0.039996  0.075451  0.119187  0.142847   \n",
       "4       Effusion  0.090451  0.040388  0.053517  0.070165  0.087164  0.092917   \n",
       "\n",
       "    120-140   140-160   160-180   180-200   200-220   220-240   240-260  \n",
       "0  0.112965  0.111311  0.118529  0.126841  0.101545  0.067974  0.004447  \n",
       "1  0.138126  0.109141  0.080617  0.094322  0.100556  0.068182  0.001242  \n",
       "2  0.111962  0.114990  0.112507  0.104218  0.066793  0.031207  0.000971  \n",
       "3  0.150297  0.128188  0.094896  0.075885  0.043560  0.007323  0.000496  \n",
       "4  0.104546  0.109274  0.106524  0.097322  0.086368  0.051568  0.009795  "
      ]
     },
     "execution_count": 107,
     "metadata": {},
     "output_type": "execute_result"
    }
   ],
   "source": [
    "pv_df_mean = pv_df.groupby('disease_class', as_index=False).agg('mean')\n",
    "print(pv_df_mean.shape)\n",
    "pv_df_mean.head()"
   ]
  },
  {
   "cell_type": "code",
   "execution_count": 108,
   "metadata": {},
   "outputs": [
    {
     "name": "stdout",
     "output_type": "stream",
     "text": [
      "(15, 14)\n"
     ]
    },
    {
     "data": {
      "text/html": [
       "<div>\n",
       "<style scoped>\n",
       "    .dataframe tbody tr th:only-of-type {\n",
       "        vertical-align: middle;\n",
       "    }\n",
       "\n",
       "    .dataframe tbody tr th {\n",
       "        vertical-align: top;\n",
       "    }\n",
       "\n",
       "    .dataframe thead tr th {\n",
       "        text-align: left;\n",
       "    }\n",
       "\n",
       "    .dataframe thead tr:last-of-type th {\n",
       "        text-align: right;\n",
       "    }\n",
       "</style>\n",
       "<table border=\"1\" class=\"dataframe\">\n",
       "  <thead>\n",
       "    <tr>\n",
       "      <th></th>\n",
       "      <th>0-20</th>\n",
       "      <th>20-40</th>\n",
       "      <th>40-60</th>\n",
       "      <th>60-80</th>\n",
       "      <th>80-100</th>\n",
       "      <th>100-120</th>\n",
       "      <th>120-140</th>\n",
       "      <th>140-160</th>\n",
       "      <th>160-180</th>\n",
       "      <th>180-200</th>\n",
       "      <th>200-220</th>\n",
       "      <th>220-240</th>\n",
       "      <th>240-260</th>\n",
       "    </tr>\n",
       "    <tr>\n",
       "      <th></th>\n",
       "      <th>std</th>\n",
       "      <th>std</th>\n",
       "      <th>std</th>\n",
       "      <th>std</th>\n",
       "      <th>std</th>\n",
       "      <th>std</th>\n",
       "      <th>std</th>\n",
       "      <th>std</th>\n",
       "      <th>std</th>\n",
       "      <th>std</th>\n",
       "      <th>std</th>\n",
       "      <th>std</th>\n",
       "      <th>std</th>\n",
       "    </tr>\n",
       "    <tr>\n",
       "      <th>disease_class</th>\n",
       "      <th></th>\n",
       "      <th></th>\n",
       "      <th></th>\n",
       "      <th></th>\n",
       "      <th></th>\n",
       "      <th></th>\n",
       "      <th></th>\n",
       "      <th></th>\n",
       "      <th></th>\n",
       "      <th></th>\n",
       "      <th></th>\n",
       "      <th></th>\n",
       "      <th></th>\n",
       "    </tr>\n",
       "  </thead>\n",
       "  <tbody>\n",
       "    <tr>\n",
       "      <th>Atelectasis</th>\n",
       "      <td>0.048141</td>\n",
       "      <td>0.018371</td>\n",
       "      <td>0.032697</td>\n",
       "      <td>0.031712</td>\n",
       "      <td>0.031573</td>\n",
       "      <td>0.037155</td>\n",
       "      <td>0.060739</td>\n",
       "      <td>0.039640</td>\n",
       "      <td>0.050249</td>\n",
       "      <td>0.065245</td>\n",
       "      <td>0.057347</td>\n",
       "      <td>0.063455</td>\n",
       "      <td>0.009954</td>\n",
       "    </tr>\n",
       "    <tr>\n",
       "      <th>Cardiomegaly</th>\n",
       "      <td>0.052503</td>\n",
       "      <td>0.016207</td>\n",
       "      <td>0.021297</td>\n",
       "      <td>0.031160</td>\n",
       "      <td>0.044321</td>\n",
       "      <td>0.054242</td>\n",
       "      <td>0.083242</td>\n",
       "      <td>0.037522</td>\n",
       "      <td>0.044890</td>\n",
       "      <td>0.056880</td>\n",
       "      <td>0.078673</td>\n",
       "      <td>0.075759</td>\n",
       "      <td>0.001745</td>\n",
       "    </tr>\n",
       "    <tr>\n",
       "      <th>Consolidation</th>\n",
       "      <td>0.074360</td>\n",
       "      <td>0.017355</td>\n",
       "      <td>0.025067</td>\n",
       "      <td>0.034094</td>\n",
       "      <td>0.046651</td>\n",
       "      <td>0.042469</td>\n",
       "      <td>0.030304</td>\n",
       "      <td>0.046271</td>\n",
       "      <td>0.041521</td>\n",
       "      <td>0.046694</td>\n",
       "      <td>0.060169</td>\n",
       "      <td>0.043448</td>\n",
       "      <td>0.001387</td>\n",
       "    </tr>\n",
       "    <tr>\n",
       "      <th>Edema</th>\n",
       "      <td>0.088511</td>\n",
       "      <td>0.013859</td>\n",
       "      <td>0.018074</td>\n",
       "      <td>0.036489</td>\n",
       "      <td>0.052622</td>\n",
       "      <td>0.036869</td>\n",
       "      <td>0.045580</td>\n",
       "      <td>0.053121</td>\n",
       "      <td>0.041824</td>\n",
       "      <td>0.040973</td>\n",
       "      <td>0.036718</td>\n",
       "      <td>0.014563</td>\n",
       "      <td>0.000497</td>\n",
       "    </tr>\n",
       "    <tr>\n",
       "      <th>Effusion</th>\n",
       "      <td>0.055940</td>\n",
       "      <td>0.023418</td>\n",
       "      <td>0.028010</td>\n",
       "      <td>0.029406</td>\n",
       "      <td>0.042927</td>\n",
       "      <td>0.041444</td>\n",
       "      <td>0.052271</td>\n",
       "      <td>0.042623</td>\n",
       "      <td>0.051862</td>\n",
       "      <td>0.049262</td>\n",
       "      <td>0.059891</td>\n",
       "      <td>0.076722</td>\n",
       "      <td>0.024128</td>\n",
       "    </tr>\n",
       "  </tbody>\n",
       "</table>\n",
       "</div>"
      ],
      "text/plain": [
       "                   0-20     20-40     40-60     60-80    80-100   100-120  \\\n",
       "                    std       std       std       std       std       std   \n",
       "disease_class                                                               \n",
       "Atelectasis    0.048141  0.018371  0.032697  0.031712  0.031573  0.037155   \n",
       "Cardiomegaly   0.052503  0.016207  0.021297  0.031160  0.044321  0.054242   \n",
       "Consolidation  0.074360  0.017355  0.025067  0.034094  0.046651  0.042469   \n",
       "Edema          0.088511  0.013859  0.018074  0.036489  0.052622  0.036869   \n",
       "Effusion       0.055940  0.023418  0.028010  0.029406  0.042927  0.041444   \n",
       "\n",
       "                120-140   140-160   160-180   180-200   200-220   220-240  \\\n",
       "                    std       std       std       std       std       std   \n",
       "disease_class                                                               \n",
       "Atelectasis    0.060739  0.039640  0.050249  0.065245  0.057347  0.063455   \n",
       "Cardiomegaly   0.083242  0.037522  0.044890  0.056880  0.078673  0.075759   \n",
       "Consolidation  0.030304  0.046271  0.041521  0.046694  0.060169  0.043448   \n",
       "Edema          0.045580  0.053121  0.041824  0.040973  0.036718  0.014563   \n",
       "Effusion       0.052271  0.042623  0.051862  0.049262  0.059891  0.076722   \n",
       "\n",
       "                240-260  \n",
       "                    std  \n",
       "disease_class            \n",
       "Atelectasis    0.009954  \n",
       "Cardiomegaly   0.001745  \n",
       "Consolidation  0.001387  \n",
       "Edema          0.000497  \n",
       "Effusion       0.024128  "
      ]
     },
     "execution_count": 108,
     "metadata": {},
     "output_type": "execute_result"
    }
   ],
   "source": [
    "pv_df_std = pv_df.groupby('disease_class', as_index=False).agg(['std'])\n",
    "print(pv_df_mean.shape)\n",
    "pv_df_std.head()"
   ]
  },
  {
   "cell_type": "code",
   "execution_count": 109,
   "metadata": {},
   "outputs": [
    {
     "data": {
      "image/png": "[encoded data removed]",
      "text/plain": [
       "<Figure size 1296x1296 with 1 Axes>"
      ]
     },
     "metadata": {},
     "output_type": "display_data"
    }
   ],
   "source": [
    "plt.figure(figsize=(18, 18))\n",
    "x = list(range(10, 270, 20))\n",
    "for i in range(pv_df_mean.shape[0]):\n",
    "    row_data = pv_df_mean.iloc[i].values\n",
    "    disease = row_data[0]\n",
    "    pv_means = row_data[1:]\n",
    "    if disease in ['No Finding', 'Pneumonia']:\n",
    "        plt.plot(x, pv_means, label=disease, linewidth=10)\n",
    "    else:\n",
    "        plt.plot(x, pv_means, label=disease, linewidth=2)\n",
    "    plt.legend()\n",
    "    \n",
    "plt.title(\"Pixel value distribution sampled from {} images\".format(n_sample))\n",
    "plt.xlabel(\"Raw pixel value\")\n",
    "plt.ylabel(\"Probability\")\n",
    "plt.show()"
   ]
  },
  {
   "cell_type": "markdown",
   "metadata": {},
   "source": [
    "## Conclusion\n",
    "\n",
    "My findings are:\n",
    "\n",
    "1. There are some suspicious data with age larger than 100 years-old. Those data will be removed from future training.\n",
    "\n",
    "2. The data is not balanced. Only ~3% of the patients have neumonia in the dataset.\n",
    "\n",
    "3. The gender ratio of the dataset is roughly M:F = 8:7\n",
    "\n",
    "4. The age distribution is bell-like. Most of the images are taken from ages 30-70.\n",
    "\n",
    "5. We have 2:3 AP:PA X-rays.\n",
    "\n",
    "6. Infiltration, edema, effusion, atelectasis, and consolidation are common comorbid diseases of pneumonia.\n",
    "\n",
    "7. From the pixel-level analysis, images with diseases have higher counts of low-value pixels (raw values 0-20). `No Finding` data seem to have more pixels with value 150-200 than `pneumonia` data."
   ]
  },
  {
   "cell_type": "markdown",
   "metadata": {},
   "source": [
    "Due to the observations made above, during the training I'll:\n",
    "\n",
    "1. Remove suspicious data\n",
    "2. Make the training dataset balanced by equal portions of positive and negative data.\n",
    "3. Make the validation dataset 1 negative data : 4 positive data.\n",
    "3. Study the biases and the fairness of the model on gender, age, view position, and any comorbid diseases after training."
   ]
  },
  {
   "cell_type": "code",
   "execution_count": null,
   "metadata": {},
   "outputs": [],
   "source": []
  }
 ],
 "metadata": {
  "kernelspec": {
   "display_name": "Python 3 (ipykernel)",
   "language": "python",
   "name": "python3"
  },
  "language_info": {
   "codemirror_mode": {
    "name": "ipython",
    "version": 3
   },
   "file_extension": ".py",
   "mimetype": "text/x-python",
   "name": "python",
   "nbconvert_exporter": "python",
   "pygments_lexer": "ipython3",
   "version": "3.7.6"
  }
 },
 "nbformat": 4,
 "nbformat_minor": 2
}
