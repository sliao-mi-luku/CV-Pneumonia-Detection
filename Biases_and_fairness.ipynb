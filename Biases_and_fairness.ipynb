{
 "cells": [
  {
   "cell_type": "markdown",
   "metadata": {},
   "source": [
    "# Pneumonia Detection From Chest X-Ray"
   ]
  },
  {
   "cell_type": "markdown",
   "metadata": {},
   "source": [
    "## Model Biases and Fairness\n",
    "\n",
    "This notebook assesses the demographic (gender, age, with/without comorbid diseases, and X-ray view position) biases and fairness of the model."
   ]
  },
  {
   "cell_type": "markdown",
   "metadata": {},
   "source": [
    "### Import libraries"
   ]
  },
  {
   "cell_type": "code",
   "execution_count": 1,
   "metadata": {
    "scrolled": false
   },
   "outputs": [
    {
     "name": "stderr",
     "output_type": "stream",
     "text": [
      "Using TensorFlow backend.\n"
     ]
    },
    {
     "name": "stdout",
     "output_type": "stream",
     "text": [
      "Defaulting to user installation because normal site-packages is not writeable\n",
      "Requirement already satisfied: aequitas in /opt/conda/lib/python3.7/site-packages (0.38.0)\n",
      "Requirement already satisfied: matplotlib>=3.0.3 in /opt/conda/lib/python3.7/site-packages (from aequitas) (3.2.0)\n",
      "Requirement already satisfied: markdown2==2.3.5 in /opt/conda/lib/python3.7/site-packages (from aequitas) (2.3.5)\n",
      "Requirement already satisfied: tabulate==0.8.2 in /opt/conda/lib/python3.7/site-packages (from aequitas) (0.8.2)\n",
      "Requirement already satisfied: seaborn>=0.9.0 in /opt/conda/lib/python3.7/site-packages (from aequitas) (0.10.0)\n",
      "Requirement already satisfied: Flask-Bootstrap==3.3.7.1 in /opt/conda/lib/python3.7/site-packages (from aequitas) (3.3.7.1)\n",
      "Requirement already satisfied: xhtml2pdf==0.2.2 in /opt/conda/lib/python3.7/site-packages (from aequitas) (0.2.2)\n",
      "Requirement already satisfied: pyyaml>=5.1 in /opt/conda/lib/python3.7/site-packages (from aequitas) (5.3)\n",
      "Requirement already satisfied: ohio>=0.2.0 in /opt/conda/lib/python3.7/site-packages (from aequitas) (0.5.0)\n",
      "Requirement already satisfied: SQLAlchemy>=1.1.1 in /opt/conda/lib/python3.7/site-packages (from aequitas) (1.3.13)\n",
      "Requirement already satisfied: Flask==0.12.2 in /opt/conda/lib/python3.7/site-packages (from aequitas) (0.12.2)\n",
      "Requirement already satisfied: pandas>=0.24.1 in /opt/conda/lib/python3.7/site-packages (from aequitas) (1.0.1)\n",
      "Requirement already satisfied: pyparsing!=2.0.4,!=2.1.2,!=2.1.6,>=2.0.1 in /opt/conda/lib/python3.7/site-packages (from matplotlib>=3.0.3->aequitas) (2.4.6)\n",
      "Requirement already satisfied: cycler>=0.10 in /opt/conda/lib/python3.7/site-packages (from matplotlib>=3.0.3->aequitas) (0.10.0)\n",
      "Requirement already satisfied: numpy>=1.11 in /opt/conda/lib/python3.7/site-packages (from matplotlib>=3.0.3->aequitas) (1.18.1)\n",
      "Requirement already satisfied: kiwisolver>=1.0.1 in /opt/conda/lib/python3.7/site-packages (from matplotlib>=3.0.3->aequitas) (1.1.0)\n",
      "Requirement already satisfied: python-dateutil>=2.1 in /opt/conda/lib/python3.7/site-packages (from matplotlib>=3.0.3->aequitas) (2.8.1)\n",
      "Requirement already satisfied: scipy>=1.0.1 in /opt/conda/lib/python3.7/site-packages (from seaborn>=0.9.0->aequitas) (1.4.1)\n",
      "Requirement already satisfied: dominate in /opt/conda/lib/python3.7/site-packages (from Flask-Bootstrap==3.3.7.1->aequitas) (2.4.0)\n",
      "Requirement already satisfied: visitor in /opt/conda/lib/python3.7/site-packages (from Flask-Bootstrap==3.3.7.1->aequitas) (0.1.3)\n",
      "Requirement already satisfied: six in /opt/conda/lib/python3.7/site-packages (from xhtml2pdf==0.2.2->aequitas) (1.14.0)\n",
      "Requirement already satisfied: reportlab>=3.0 in /opt/conda/lib/python3.7/site-packages (from xhtml2pdf==0.2.2->aequitas) (3.5.34)\n",
      "Requirement already satisfied: pyPdf2 in /opt/conda/lib/python3.7/site-packages (from xhtml2pdf==0.2.2->aequitas) (1.26.0)\n",
      "Requirement already satisfied: html5lib>=1.0 in /opt/conda/lib/python3.7/site-packages (from xhtml2pdf==0.2.2->aequitas) (1.0.1)\n",
      "Requirement already satisfied: httplib2 in /opt/conda/lib/python3.7/site-packages (from xhtml2pdf==0.2.2->aequitas) (0.12.0)\n",
      "Requirement already satisfied: Pillow in /opt/conda/lib/python3.7/site-packages (from xhtml2pdf==0.2.2->aequitas) (7.0.0)\n",
      "Requirement already satisfied: Werkzeug>=0.7 in /opt/conda/lib/python3.7/site-packages (from Flask==0.12.2->aequitas) (1.0.0)\n",
      "Requirement already satisfied: click>=2.0 in /opt/conda/lib/python3.7/site-packages (from Flask==0.12.2->aequitas) (7.0)\n",
      "Requirement already satisfied: Jinja2>=2.4 in /opt/conda/lib/python3.7/site-packages (from Flask==0.12.2->aequitas) (2.11.1)\n",
      "Requirement already satisfied: itsdangerous>=0.21 in /opt/conda/lib/python3.7/site-packages (from Flask==0.12.2->aequitas) (1.1.0)\n",
      "Requirement already satisfied: pytz>=2017.2 in /opt/conda/lib/python3.7/site-packages (from pandas>=0.24.1->aequitas) (2019.3)\n",
      "Requirement already satisfied: setuptools in /opt/conda/lib/python3.7/site-packages (from kiwisolver>=1.0.1->matplotlib>=3.0.3->aequitas) (45.2.0.post20200209)\n",
      "Requirement already satisfied: webencodings in /opt/conda/lib/python3.7/site-packages (from html5lib>=1.0->xhtml2pdf==0.2.2->aequitas) (0.5.1)\n",
      "Requirement already satisfied: MarkupSafe>=0.23 in /opt/conda/lib/python3.7/site-packages (from Jinja2>=2.4->Flask==0.12.2->aequitas) (1.1.1)\n"
     ]
    }
   ],
   "source": [
    "import numpy as np # linear algebra\n",
    "import pandas as pd # data processing, CSV file I/O (e.g. pd.read_csv)\n",
    "import os\n",
    "from glob import glob\n",
    "%matplotlib inline\n",
    "import matplotlib.pyplot as plt\n",
    "\n",
    "##Import any other stats/DL/ML packages you may need here. E.g. Keras, scikit-learn, etc.\n",
    "from PIL import Image\n",
    "from sklearn.model_selection import train_test_split\n",
    "from sklearn.metrics import roc_curve, precision_recall_curve\n",
    "\n",
    "import keras\n",
    "\n",
    "from keras.preprocessing.image import ImageDataGenerator\n",
    "from keras.optimizers import Adam\n",
    "from keras.callbacks import ModelCheckpoint, EarlyStopping\n",
    "from keras.metrics import BinaryAccuracy, Precision, Recall\n",
    "\n",
    "from keras import backend as K\n",
    "from keras.models import Model\n",
    "from keras.layers import *\n",
    "from keras.applications.vgg16 import VGG16\n",
    "\n",
    "\n",
    "!pip install aequitas\n",
    "from aequitas.plotting import Plot\n",
    "from aequitas.group import Group\n",
    "from aequitas.bias import Bias\n",
    "from aequitas.fairness import Fairness"
   ]
  },
  {
   "cell_type": "markdown",
   "metadata": {},
   "source": [
    "### Load data"
   ]
  },
  {
   "cell_type": "code",
   "execution_count": 2,
   "metadata": {
    "scrolled": true
   },
   "outputs": [
    {
     "name": "stdout",
     "output_type": "stream",
     "text": [
      "Scans found: 112120 , Total Headers 112120\n"
     ]
    },
    {
     "data": {
      "text/html": [
       "<div>\n",
       "<style scoped>\n",
       "    .dataframe tbody tr th:only-of-type {\n",
       "        vertical-align: middle;\n",
       "    }\n",
       "\n",
       "    .dataframe tbody tr th {\n",
       "        vertical-align: top;\n",
       "    }\n",
       "\n",
       "    .dataframe thead th {\n",
       "        text-align: right;\n",
       "    }\n",
       "</style>\n",
       "<table border=\"1\" class=\"dataframe\">\n",
       "  <thead>\n",
       "    <tr style=\"text-align: right;\">\n",
       "      <th></th>\n",
       "      <th>Image Index</th>\n",
       "      <th>Finding Labels</th>\n",
       "      <th>Follow-up #</th>\n",
       "      <th>Patient ID</th>\n",
       "      <th>Patient Age</th>\n",
       "      <th>Patient Gender</th>\n",
       "      <th>View Position</th>\n",
       "      <th>OriginalImage[Width</th>\n",
       "      <th>Height]</th>\n",
       "      <th>OriginalImagePixelSpacing[x</th>\n",
       "      <th>y]</th>\n",
       "      <th>Unnamed: 11</th>\n",
       "      <th>path</th>\n",
       "    </tr>\n",
       "  </thead>\n",
       "  <tbody>\n",
       "    <tr>\n",
       "      <th>0</th>\n",
       "      <td>00000001_000.png</td>\n",
       "      <td>Cardiomegaly</td>\n",
       "      <td>0</td>\n",
       "      <td>1</td>\n",
       "      <td>58</td>\n",
       "      <td>M</td>\n",
       "      <td>PA</td>\n",
       "      <td>2682</td>\n",
       "      <td>2749</td>\n",
       "      <td>0.143</td>\n",
       "      <td>0.143</td>\n",
       "      <td>NaN</td>\n",
       "      <td>/data/images_001/images/00000001_000.png</td>\n",
       "    </tr>\n",
       "    <tr>\n",
       "      <th>1</th>\n",
       "      <td>00000001_001.png</td>\n",
       "      <td>Cardiomegaly|Emphysema</td>\n",
       "      <td>1</td>\n",
       "      <td>1</td>\n",
       "      <td>58</td>\n",
       "      <td>M</td>\n",
       "      <td>PA</td>\n",
       "      <td>2894</td>\n",
       "      <td>2729</td>\n",
       "      <td>0.143</td>\n",
       "      <td>0.143</td>\n",
       "      <td>NaN</td>\n",
       "      <td>/data/images_001/images/00000001_001.png</td>\n",
       "    </tr>\n",
       "    <tr>\n",
       "      <th>2</th>\n",
       "      <td>00000001_002.png</td>\n",
       "      <td>Cardiomegaly|Effusion</td>\n",
       "      <td>2</td>\n",
       "      <td>1</td>\n",
       "      <td>58</td>\n",
       "      <td>M</td>\n",
       "      <td>PA</td>\n",
       "      <td>2500</td>\n",
       "      <td>2048</td>\n",
       "      <td>0.168</td>\n",
       "      <td>0.168</td>\n",
       "      <td>NaN</td>\n",
       "      <td>/data/images_001/images/00000001_002.png</td>\n",
       "    </tr>\n",
       "    <tr>\n",
       "      <th>3</th>\n",
       "      <td>00000002_000.png</td>\n",
       "      <td>No Finding</td>\n",
       "      <td>0</td>\n",
       "      <td>2</td>\n",
       "      <td>81</td>\n",
       "      <td>M</td>\n",
       "      <td>PA</td>\n",
       "      <td>2500</td>\n",
       "      <td>2048</td>\n",
       "      <td>0.171</td>\n",
       "      <td>0.171</td>\n",
       "      <td>NaN</td>\n",
       "      <td>/data/images_001/images/00000002_000.png</td>\n",
       "    </tr>\n",
       "    <tr>\n",
       "      <th>4</th>\n",
       "      <td>00000003_000.png</td>\n",
       "      <td>Hernia</td>\n",
       "      <td>0</td>\n",
       "      <td>3</td>\n",
       "      <td>81</td>\n",
       "      <td>F</td>\n",
       "      <td>PA</td>\n",
       "      <td>2582</td>\n",
       "      <td>2991</td>\n",
       "      <td>0.143</td>\n",
       "      <td>0.143</td>\n",
       "      <td>NaN</td>\n",
       "      <td>/data/images_001/images/00000003_000.png</td>\n",
       "    </tr>\n",
       "  </tbody>\n",
       "</table>\n",
       "</div>"
      ],
      "text/plain": [
       "        Image Index          Finding Labels  Follow-up #  Patient ID  \\\n",
       "0  00000001_000.png            Cardiomegaly            0           1   \n",
       "1  00000001_001.png  Cardiomegaly|Emphysema            1           1   \n",
       "2  00000001_002.png   Cardiomegaly|Effusion            2           1   \n",
       "3  00000002_000.png              No Finding            0           2   \n",
       "4  00000003_000.png                  Hernia            0           3   \n",
       "\n",
       "   Patient Age Patient Gender View Position  OriginalImage[Width  Height]  \\\n",
       "0           58              M            PA                 2682     2749   \n",
       "1           58              M            PA                 2894     2729   \n",
       "2           58              M            PA                 2500     2048   \n",
       "3           81              M            PA                 2500     2048   \n",
       "4           81              F            PA                 2582     2991   \n",
       "\n",
       "   OriginalImagePixelSpacing[x     y]  Unnamed: 11  \\\n",
       "0                        0.143  0.143          NaN   \n",
       "1                        0.143  0.143          NaN   \n",
       "2                        0.168  0.168          NaN   \n",
       "3                        0.171  0.171          NaN   \n",
       "4                        0.143  0.143          NaN   \n",
       "\n",
       "                                       path  \n",
       "0  /data/images_001/images/00000001_000.png  \n",
       "1  /data/images_001/images/00000001_001.png  \n",
       "2  /data/images_001/images/00000001_002.png  \n",
       "3  /data/images_001/images/00000002_000.png  \n",
       "4  /data/images_001/images/00000003_000.png  "
      ]
     },
     "execution_count": 2,
     "metadata": {},
     "output_type": "execute_result"
    }
   ],
   "source": [
    "df = pd.read_csv('/data/Data_Entry_2017.csv')\n",
    "all_image_paths = {os.path.basename(x): x for x in \n",
    "                   glob(os.path.join('/data','images*', '*', '*.png'))}\n",
    "print('Scans found:', len(all_image_paths), ', Total Headers', df.shape[0])\n",
    "df['path'] = df['Image Index'].map(all_image_paths.get)\n",
    "df.head()"
   ]
  },
  {
   "cell_type": "markdown",
   "metadata": {},
   "source": [
    "### Data cleaning\n",
    "\n",
    "Remove patients with age > 100"
   ]
  },
  {
   "cell_type": "code",
   "execution_count": 3,
   "metadata": {
    "scrolled": true
   },
   "outputs": [
    {
     "name": "stdout",
     "output_type": "stream",
     "text": [
      "(112104, 13)\n"
     ]
    }
   ],
   "source": [
    "df = df[df['Patient Age'] <= 100]\n",
    "print(df.shape)"
   ]
  },
  {
   "cell_type": "code",
   "execution_count": 4,
   "metadata": {
    "scrolled": true
   },
   "outputs": [
    {
     "data": {
      "text/plain": [
       "Index(['Image Index', 'Finding Labels', 'Follow-up #', 'Patient ID',\n",
       "       'Patient Age', 'Patient Gender', 'View Position', 'OriginalImage[Width',\n",
       "       'Height]', 'OriginalImagePixelSpacing[x', 'y]', 'Unnamed: 11', 'path'],\n",
       "      dtype='object')"
      ]
     },
     "execution_count": 4,
     "metadata": {},
     "output_type": "execute_result"
    }
   ],
   "source": [
    "df.columns"
   ]
  },
  {
   "cell_type": "markdown",
   "metadata": {},
   "source": [
    "### Drop columns\n",
    "\n",
    "We will drop columns that we don't need for the analysis"
   ]
  },
  {
   "cell_type": "code",
   "execution_count": 5,
   "metadata": {
    "scrolled": true
   },
   "outputs": [
    {
     "data": {
      "text/html": [
       "<div>\n",
       "<style scoped>\n",
       "    .dataframe tbody tr th:only-of-type {\n",
       "        vertical-align: middle;\n",
       "    }\n",
       "\n",
       "    .dataframe tbody tr th {\n",
       "        vertical-align: top;\n",
       "    }\n",
       "\n",
       "    .dataframe thead th {\n",
       "        text-align: right;\n",
       "    }\n",
       "</style>\n",
       "<table border=\"1\" class=\"dataframe\">\n",
       "  <thead>\n",
       "    <tr style=\"text-align: right;\">\n",
       "      <th></th>\n",
       "      <th>Finding Labels</th>\n",
       "      <th>Follow-up #</th>\n",
       "      <th>Patient ID</th>\n",
       "      <th>Patient Age</th>\n",
       "      <th>Patient Gender</th>\n",
       "      <th>View Position</th>\n",
       "      <th>path</th>\n",
       "    </tr>\n",
       "  </thead>\n",
       "  <tbody>\n",
       "    <tr>\n",
       "      <th>0</th>\n",
       "      <td>Cardiomegaly</td>\n",
       "      <td>0</td>\n",
       "      <td>1</td>\n",
       "      <td>58</td>\n",
       "      <td>M</td>\n",
       "      <td>PA</td>\n",
       "      <td>/data/images_001/images/00000001_000.png</td>\n",
       "    </tr>\n",
       "    <tr>\n",
       "      <th>1</th>\n",
       "      <td>Cardiomegaly|Emphysema</td>\n",
       "      <td>1</td>\n",
       "      <td>1</td>\n",
       "      <td>58</td>\n",
       "      <td>M</td>\n",
       "      <td>PA</td>\n",
       "      <td>/data/images_001/images/00000001_001.png</td>\n",
       "    </tr>\n",
       "    <tr>\n",
       "      <th>2</th>\n",
       "      <td>Cardiomegaly|Effusion</td>\n",
       "      <td>2</td>\n",
       "      <td>1</td>\n",
       "      <td>58</td>\n",
       "      <td>M</td>\n",
       "      <td>PA</td>\n",
       "      <td>/data/images_001/images/00000001_002.png</td>\n",
       "    </tr>\n",
       "    <tr>\n",
       "      <th>3</th>\n",
       "      <td>No Finding</td>\n",
       "      <td>0</td>\n",
       "      <td>2</td>\n",
       "      <td>81</td>\n",
       "      <td>M</td>\n",
       "      <td>PA</td>\n",
       "      <td>/data/images_001/images/00000002_000.png</td>\n",
       "    </tr>\n",
       "    <tr>\n",
       "      <th>4</th>\n",
       "      <td>Hernia</td>\n",
       "      <td>0</td>\n",
       "      <td>3</td>\n",
       "      <td>81</td>\n",
       "      <td>F</td>\n",
       "      <td>PA</td>\n",
       "      <td>/data/images_001/images/00000003_000.png</td>\n",
       "    </tr>\n",
       "  </tbody>\n",
       "</table>\n",
       "</div>"
      ],
      "text/plain": [
       "           Finding Labels  Follow-up #  Patient ID  Patient Age  \\\n",
       "0            Cardiomegaly            0           1           58   \n",
       "1  Cardiomegaly|Emphysema            1           1           58   \n",
       "2   Cardiomegaly|Effusion            2           1           58   \n",
       "3              No Finding            0           2           81   \n",
       "4                  Hernia            0           3           81   \n",
       "\n",
       "  Patient Gender View Position                                      path  \n",
       "0              M            PA  /data/images_001/images/00000001_000.png  \n",
       "1              M            PA  /data/images_001/images/00000001_001.png  \n",
       "2              M            PA  /data/images_001/images/00000001_002.png  \n",
       "3              M            PA  /data/images_001/images/00000002_000.png  \n",
       "4              F            PA  /data/images_001/images/00000003_000.png  "
      ]
     },
     "execution_count": 5,
     "metadata": {},
     "output_type": "execute_result"
    }
   ],
   "source": [
    "df = df.drop(columns=['Image Index', 'OriginalImage[Width', 'Height]', 'OriginalImagePixelSpacing[x', 'y]', 'Unnamed: 11'])\n",
    "df.head()"
   ]
  },
  {
   "cell_type": "markdown",
   "metadata": {},
   "source": [
    "### Add a new Column `pneumonia_class`"
   ]
  },
  {
   "cell_type": "code",
   "execution_count": 6,
   "metadata": {
    "scrolled": true
   },
   "outputs": [
    {
     "name": "stdout",
     "output_type": "stream",
     "text": [
      "Number of images with pneumonia: 1430\n",
      "Number of images without pneumonia: 110674\n"
     ]
    },
    {
     "data": {
      "text/html": [
       "<div>\n",
       "<style scoped>\n",
       "    .dataframe tbody tr th:only-of-type {\n",
       "        vertical-align: middle;\n",
       "    }\n",
       "\n",
       "    .dataframe tbody tr th {\n",
       "        vertical-align: top;\n",
       "    }\n",
       "\n",
       "    .dataframe thead th {\n",
       "        text-align: right;\n",
       "    }\n",
       "</style>\n",
       "<table border=\"1\" class=\"dataframe\">\n",
       "  <thead>\n",
       "    <tr style=\"text-align: right;\">\n",
       "      <th></th>\n",
       "      <th>Finding Labels</th>\n",
       "      <th>Follow-up #</th>\n",
       "      <th>Patient ID</th>\n",
       "      <th>Patient Age</th>\n",
       "      <th>Patient Gender</th>\n",
       "      <th>View Position</th>\n",
       "      <th>path</th>\n",
       "      <th>pneumonia_class</th>\n",
       "    </tr>\n",
       "  </thead>\n",
       "  <tbody>\n",
       "    <tr>\n",
       "      <th>0</th>\n",
       "      <td>Cardiomegaly</td>\n",
       "      <td>0</td>\n",
       "      <td>1</td>\n",
       "      <td>58</td>\n",
       "      <td>M</td>\n",
       "      <td>PA</td>\n",
       "      <td>/data/images_001/images/00000001_000.png</td>\n",
       "      <td>Negative</td>\n",
       "    </tr>\n",
       "    <tr>\n",
       "      <th>1</th>\n",
       "      <td>Cardiomegaly|Emphysema</td>\n",
       "      <td>1</td>\n",
       "      <td>1</td>\n",
       "      <td>58</td>\n",
       "      <td>M</td>\n",
       "      <td>PA</td>\n",
       "      <td>/data/images_001/images/00000001_001.png</td>\n",
       "      <td>Negative</td>\n",
       "    </tr>\n",
       "    <tr>\n",
       "      <th>2</th>\n",
       "      <td>Cardiomegaly|Effusion</td>\n",
       "      <td>2</td>\n",
       "      <td>1</td>\n",
       "      <td>58</td>\n",
       "      <td>M</td>\n",
       "      <td>PA</td>\n",
       "      <td>/data/images_001/images/00000001_002.png</td>\n",
       "      <td>Negative</td>\n",
       "    </tr>\n",
       "    <tr>\n",
       "      <th>3</th>\n",
       "      <td>No Finding</td>\n",
       "      <td>0</td>\n",
       "      <td>2</td>\n",
       "      <td>81</td>\n",
       "      <td>M</td>\n",
       "      <td>PA</td>\n",
       "      <td>/data/images_001/images/00000002_000.png</td>\n",
       "      <td>Negative</td>\n",
       "    </tr>\n",
       "    <tr>\n",
       "      <th>4</th>\n",
       "      <td>Hernia</td>\n",
       "      <td>0</td>\n",
       "      <td>3</td>\n",
       "      <td>81</td>\n",
       "      <td>F</td>\n",
       "      <td>PA</td>\n",
       "      <td>/data/images_001/images/00000003_000.png</td>\n",
       "      <td>Negative</td>\n",
       "    </tr>\n",
       "  </tbody>\n",
       "</table>\n",
       "</div>"
      ],
      "text/plain": [
       "           Finding Labels  Follow-up #  Patient ID  Patient Age  \\\n",
       "0            Cardiomegaly            0           1           58   \n",
       "1  Cardiomegaly|Emphysema            1           1           58   \n",
       "2   Cardiomegaly|Effusion            2           1           58   \n",
       "3              No Finding            0           2           81   \n",
       "4                  Hernia            0           3           81   \n",
       "\n",
       "  Patient Gender View Position                                      path  \\\n",
       "0              M            PA  /data/images_001/images/00000001_000.png   \n",
       "1              M            PA  /data/images_001/images/00000001_001.png   \n",
       "2              M            PA  /data/images_001/images/00000001_002.png   \n",
       "3              M            PA  /data/images_001/images/00000002_000.png   \n",
       "4              F            PA  /data/images_001/images/00000003_000.png   \n",
       "\n",
       "  pneumonia_class  \n",
       "0        Negative  \n",
       "1        Negative  \n",
       "2        Negative  \n",
       "3        Negative  \n",
       "4        Negative  "
      ]
     },
     "execution_count": 6,
     "metadata": {},
     "output_type": "execute_result"
    }
   ],
   "source": [
    "df['pneumonia_class'] = df['Finding Labels'].str.contains(\"Pneumonia\")\n",
    "\n",
    "# convert True/False into Positive/Negative\n",
    "df['pneumonia_class'] = df['pneumonia_class'].replace({True: \"Positive\", False: \"Negative\"})\n",
    "\n",
    "# number of image that has/doesn't have pneumonia\n",
    "print(\"Number of images with pneumonia: {}\".format(sum(df['pneumonia_class'] == \"Positive\")))\n",
    "print(\"Number of images without pneumonia: {}\".format(sum(df['pneumonia_class'] == \"Negative\")))\n",
    "\n",
    "# check df\n",
    "df.head(5)"
   ]
  },
  {
   "cell_type": "markdown",
   "metadata": {},
   "source": [
    "### Add a new column `Comorbid`\n",
    "\n",
    "`Comorbid` is **with_comorbid** if the patient has `Infiltration`, `Edema`, `Effusion`, `Atelectasis`, or `Consolidation`.\n",
    "\n",
    "`Comorbid` is **no_comorbid** if the patient doesn't have the diseases mentioned above.\n",
    "\n",
    "These 5 diseases are selected because they are the most common diseases that accompany pneumonia (see EDA notebook).\n",
    "\n",
    "Also, please note that the definition of the `Comorbid` column also holds for patients who do not have pneumonia."
   ]
  },
  {
   "cell_type": "code",
   "execution_count": 7,
   "metadata": {
    "scrolled": false
   },
   "outputs": [
    {
     "name": "stdout",
     "output_type": "stream",
     "text": [
      "Number of images with comorbid: 38298\n",
      "Number of images without comorbid: 73806\n"
     ]
    },
    {
     "data": {
      "text/html": [
       "<div>\n",
       "<style scoped>\n",
       "    .dataframe tbody tr th:only-of-type {\n",
       "        vertical-align: middle;\n",
       "    }\n",
       "\n",
       "    .dataframe tbody tr th {\n",
       "        vertical-align: top;\n",
       "    }\n",
       "\n",
       "    .dataframe thead th {\n",
       "        text-align: right;\n",
       "    }\n",
       "</style>\n",
       "<table border=\"1\" class=\"dataframe\">\n",
       "  <thead>\n",
       "    <tr style=\"text-align: right;\">\n",
       "      <th></th>\n",
       "      <th>Finding Labels</th>\n",
       "      <th>Follow-up #</th>\n",
       "      <th>Patient ID</th>\n",
       "      <th>Patient Age</th>\n",
       "      <th>Patient Gender</th>\n",
       "      <th>View Position</th>\n",
       "      <th>path</th>\n",
       "      <th>pneumonia_class</th>\n",
       "      <th>Comorbid</th>\n",
       "    </tr>\n",
       "  </thead>\n",
       "  <tbody>\n",
       "    <tr>\n",
       "      <th>0</th>\n",
       "      <td>Cardiomegaly</td>\n",
       "      <td>0</td>\n",
       "      <td>1</td>\n",
       "      <td>58</td>\n",
       "      <td>M</td>\n",
       "      <td>PA</td>\n",
       "      <td>/data/images_001/images/00000001_000.png</td>\n",
       "      <td>Negative</td>\n",
       "      <td>no_comorbid</td>\n",
       "    </tr>\n",
       "    <tr>\n",
       "      <th>1</th>\n",
       "      <td>Cardiomegaly|Emphysema</td>\n",
       "      <td>1</td>\n",
       "      <td>1</td>\n",
       "      <td>58</td>\n",
       "      <td>M</td>\n",
       "      <td>PA</td>\n",
       "      <td>/data/images_001/images/00000001_001.png</td>\n",
       "      <td>Negative</td>\n",
       "      <td>no_comorbid</td>\n",
       "    </tr>\n",
       "    <tr>\n",
       "      <th>2</th>\n",
       "      <td>Cardiomegaly|Effusion</td>\n",
       "      <td>2</td>\n",
       "      <td>1</td>\n",
       "      <td>58</td>\n",
       "      <td>M</td>\n",
       "      <td>PA</td>\n",
       "      <td>/data/images_001/images/00000001_002.png</td>\n",
       "      <td>Negative</td>\n",
       "      <td>with_comorbid</td>\n",
       "    </tr>\n",
       "    <tr>\n",
       "      <th>3</th>\n",
       "      <td>No Finding</td>\n",
       "      <td>0</td>\n",
       "      <td>2</td>\n",
       "      <td>81</td>\n",
       "      <td>M</td>\n",
       "      <td>PA</td>\n",
       "      <td>/data/images_001/images/00000002_000.png</td>\n",
       "      <td>Negative</td>\n",
       "      <td>no_comorbid</td>\n",
       "    </tr>\n",
       "    <tr>\n",
       "      <th>4</th>\n",
       "      <td>Hernia</td>\n",
       "      <td>0</td>\n",
       "      <td>3</td>\n",
       "      <td>81</td>\n",
       "      <td>F</td>\n",
       "      <td>PA</td>\n",
       "      <td>/data/images_001/images/00000003_000.png</td>\n",
       "      <td>Negative</td>\n",
       "      <td>no_comorbid</td>\n",
       "    </tr>\n",
       "  </tbody>\n",
       "</table>\n",
       "</div>"
      ],
      "text/plain": [
       "           Finding Labels  Follow-up #  Patient ID  Patient Age  \\\n",
       "0            Cardiomegaly            0           1           58   \n",
       "1  Cardiomegaly|Emphysema            1           1           58   \n",
       "2   Cardiomegaly|Effusion            2           1           58   \n",
       "3              No Finding            0           2           81   \n",
       "4                  Hernia            0           3           81   \n",
       "\n",
       "  Patient Gender View Position                                      path  \\\n",
       "0              M            PA  /data/images_001/images/00000001_000.png   \n",
       "1              M            PA  /data/images_001/images/00000001_001.png   \n",
       "2              M            PA  /data/images_001/images/00000001_002.png   \n",
       "3              M            PA  /data/images_001/images/00000002_000.png   \n",
       "4              F            PA  /data/images_001/images/00000003_000.png   \n",
       "\n",
       "  pneumonia_class       Comorbid  \n",
       "0        Negative    no_comorbid  \n",
       "1        Negative    no_comorbid  \n",
       "2        Negative  with_comorbid  \n",
       "3        Negative    no_comorbid  \n",
       "4        Negative    no_comorbid  "
      ]
     },
     "execution_count": 7,
     "metadata": {},
     "output_type": "execute_result"
    }
   ],
   "source": [
    "# with_comorbid is true if the patients have \n",
    "df['Comorbid'] = df['Finding Labels'].str.contains(\"Infiltration|Edema|Effusion|Atelectasis|Consolidation\")\n",
    "\n",
    "# convert True/False into Positive/Negative\n",
    "df['Comorbid'] = df['Comorbid'].replace({True: \"with_comorbid\", False: \"no_comorbid\"})\n",
    "\n",
    "# number of image that has/doesn't have comorbid\n",
    "print(\"Number of images with comorbid: {}\".format(sum(df['Comorbid'] == \"with_comorbid\")))\n",
    "print(\"Number of images without comorbid: {}\".format(sum(df['Comorbid'] == \"no_comorbid\")))\n",
    "\n",
    "# check df\n",
    "df.head()"
   ]
  },
  {
   "cell_type": "markdown",
   "metadata": {},
   "source": [
    "### Grouping patient ages\n",
    "\n",
    "To be consistent with what we did in EDA, we'll group the age of the patients into 0-10, 10-20, ..., 90-100."
   ]
  },
  {
   "cell_type": "code",
   "execution_count": 8,
   "metadata": {
    "scrolled": true
   },
   "outputs": [
    {
     "name": "stdout",
     "output_type": "stream",
     "text": [
      "bin_names: ['0-10', '10-20', '20-30', '30-40', '40-50', '50-60', '60-70', '70-80', '80-90', '90-100']\n",
      "age_mins: [ 0 10 20 30 40 50 60 70 80 90]\n",
      "age_maxs: [ 10  20  30  40  50  60  70  80  90 100]\n",
      "age_dict: {0: '0-10', 1: '10-20', 2: '20-30', 3: '30-40', 4: '40-50', 5: '50-60', 6: '60-70', 7: '70-80', 8: '80-90', 9: '90-100'}\n"
     ]
    }
   ],
   "source": [
    "# age ranges of each bin\n",
    "age_bins = list(range(0, 110, 10))\n",
    "age_mins = np.array(age_bins[:-1])\n",
    "age_maxs = np.array(age_bins[1:])\n",
    "\n",
    "bin_names = []\n",
    "for bin_min, bin_max in zip(age_bins[:-1], age_bins[1:]):\n",
    "    bmin = str(bin_min)\n",
    "    bmax = str(bin_max)\n",
    "    bin_names.append(bmin + \"-\" + bmax)\n",
    "    \n",
    "print(\"bin_names: {}\".format(bin_names))\n",
    "print(\"age_mins: {}\".format(age_mins))\n",
    "print(\"age_maxs: {}\".format(age_maxs))\n",
    "\n",
    "\n",
    "# dict to map bin index to the range of age\n",
    "age_dict = {}\n",
    "for i, v in enumerate(bin_names):\n",
    "    age_dict[i] = v\n",
    "print(\"age_dict: {}\".format(age_dict))"
   ]
  },
  {
   "cell_type": "code",
   "execution_count": 9,
   "metadata": {
    "scrolled": true
   },
   "outputs": [],
   "source": [
    "# group age into bins\n",
    "df['Age'] = np.digitize(df['Patient Age'].values, bins=age_bins, right=False)-1\n",
    "df['Age'] = df['Age'].map(age_dict)"
   ]
  },
  {
   "cell_type": "code",
   "execution_count": 10,
   "metadata": {
    "scrolled": false
   },
   "outputs": [
    {
     "data": {
      "text/html": [
       "<div>\n",
       "<style scoped>\n",
       "    .dataframe tbody tr th:only-of-type {\n",
       "        vertical-align: middle;\n",
       "    }\n",
       "\n",
       "    .dataframe tbody tr th {\n",
       "        vertical-align: top;\n",
       "    }\n",
       "\n",
       "    .dataframe thead th {\n",
       "        text-align: right;\n",
       "    }\n",
       "</style>\n",
       "<table border=\"1\" class=\"dataframe\">\n",
       "  <thead>\n",
       "    <tr style=\"text-align: right;\">\n",
       "      <th></th>\n",
       "      <th>Finding Labels</th>\n",
       "      <th>Follow-up #</th>\n",
       "      <th>Patient ID</th>\n",
       "      <th>Patient Age</th>\n",
       "      <th>Patient Gender</th>\n",
       "      <th>View Position</th>\n",
       "      <th>path</th>\n",
       "      <th>pneumonia_class</th>\n",
       "      <th>Comorbid</th>\n",
       "      <th>Age</th>\n",
       "    </tr>\n",
       "  </thead>\n",
       "  <tbody>\n",
       "    <tr>\n",
       "      <th>64422</th>\n",
       "      <td>Effusion|Pneumothorax</td>\n",
       "      <td>26</td>\n",
       "      <td>15895</td>\n",
       "      <td>32</td>\n",
       "      <td>M</td>\n",
       "      <td>PA</td>\n",
       "      <td>/data/images_007/images/00015895_026.png</td>\n",
       "      <td>Negative</td>\n",
       "      <td>with_comorbid</td>\n",
       "      <td>30-40</td>\n",
       "    </tr>\n",
       "    <tr>\n",
       "      <th>78187</th>\n",
       "      <td>Infiltration</td>\n",
       "      <td>97</td>\n",
       "      <td>19176</td>\n",
       "      <td>66</td>\n",
       "      <td>F</td>\n",
       "      <td>AP</td>\n",
       "      <td>/data/images_009/images/00019176_097.png</td>\n",
       "      <td>Negative</td>\n",
       "      <td>with_comorbid</td>\n",
       "      <td>60-70</td>\n",
       "    </tr>\n",
       "    <tr>\n",
       "      <th>80958</th>\n",
       "      <td>Effusion|Mass</td>\n",
       "      <td>3</td>\n",
       "      <td>19894</td>\n",
       "      <td>61</td>\n",
       "      <td>M</td>\n",
       "      <td>PA</td>\n",
       "      <td>/data/images_009/images/00019894_003.png</td>\n",
       "      <td>Negative</td>\n",
       "      <td>with_comorbid</td>\n",
       "      <td>60-70</td>\n",
       "    </tr>\n",
       "    <tr>\n",
       "      <th>40755</th>\n",
       "      <td>Effusion</td>\n",
       "      <td>1</td>\n",
       "      <td>10574</td>\n",
       "      <td>53</td>\n",
       "      <td>M</td>\n",
       "      <td>AP</td>\n",
       "      <td>/data/images_005/images/00010574_001.png</td>\n",
       "      <td>Negative</td>\n",
       "      <td>with_comorbid</td>\n",
       "      <td>50-60</td>\n",
       "    </tr>\n",
       "    <tr>\n",
       "      <th>54048</th>\n",
       "      <td>Cardiomegaly|Consolidation|Effusion</td>\n",
       "      <td>59</td>\n",
       "      <td>13615</td>\n",
       "      <td>11</td>\n",
       "      <td>F</td>\n",
       "      <td>AP</td>\n",
       "      <td>/data/images_006/images/00013615_059.png</td>\n",
       "      <td>Negative</td>\n",
       "      <td>with_comorbid</td>\n",
       "      <td>10-20</td>\n",
       "    </tr>\n",
       "  </tbody>\n",
       "</table>\n",
       "</div>"
      ],
      "text/plain": [
       "                            Finding Labels  Follow-up #  Patient ID  \\\n",
       "64422                Effusion|Pneumothorax           26       15895   \n",
       "78187                         Infiltration           97       19176   \n",
       "80958                        Effusion|Mass            3       19894   \n",
       "40755                             Effusion            1       10574   \n",
       "54048  Cardiomegaly|Consolidation|Effusion           59       13615   \n",
       "\n",
       "       Patient Age Patient Gender View Position  \\\n",
       "64422           32              M            PA   \n",
       "78187           66              F            AP   \n",
       "80958           61              M            PA   \n",
       "40755           53              M            AP   \n",
       "54048           11              F            AP   \n",
       "\n",
       "                                           path pneumonia_class  \\\n",
       "64422  /data/images_007/images/00015895_026.png        Negative   \n",
       "78187  /data/images_009/images/00019176_097.png        Negative   \n",
       "80958  /data/images_009/images/00019894_003.png        Negative   \n",
       "40755  /data/images_005/images/00010574_001.png        Negative   \n",
       "54048  /data/images_006/images/00013615_059.png        Negative   \n",
       "\n",
       "            Comorbid    Age  \n",
       "64422  with_comorbid  30-40  \n",
       "78187  with_comorbid  60-70  \n",
       "80958  with_comorbid  60-70  \n",
       "40755  with_comorbid  50-60  \n",
       "54048  with_comorbid  10-20  "
      ]
     },
     "execution_count": 10,
     "metadata": {},
     "output_type": "execute_result"
    }
   ],
   "source": [
    "df.sample(5)"
   ]
  },
  {
   "cell_type": "markdown",
   "metadata": {},
   "source": [
    "### Data split\n",
    "\n",
    "We use the same function and random seed to split the data into the training/validation dataset when we trained the model."
   ]
  },
  {
   "cell_type": "code",
   "execution_count": 11,
   "metadata": {
    "scrolled": true
   },
   "outputs": [],
   "source": [
    "def create_splits(df, test_size=0.33, random_state=11):\n",
    "    \"\"\"\n",
    "    Split data into training and testing dataset\n",
    "    Args:\n",
    "        df: DataFrame\n",
    "        test_size: ratio of the test dataset in the range [0, 1] (default=0.33)\n",
    "        random_state: seed for reproducible shuffling (default=11) \n",
    "    \"\"\"\n",
    "\n",
    "    np.random.seed(random_state)\n",
    "    \n",
    "    # all patient ids\n",
    "    all_patients = df['Patient ID'].unique()\n",
    "    \n",
    "    # patients with pneumonia iamge(s)\n",
    "    pos_patients = df[df['pneumonia_class']==\"Positive\"]['Patient ID'].unique()\n",
    "    # shuffle\n",
    "    np.random.shuffle(pos_patients)\n",
    "    # number of patients with pneumonia-positive image\n",
    "    n_pos = len(pos_patients)\n",
    "    \n",
    "    # number of patients in train\n",
    "    n_pos_train = int(n_pos*(1-test_size))\n",
    "    n_pos_val = int(n_pos - n_pos_train)\n",
    "        \n",
    "    # split into train and testing\n",
    "    train_ids = pos_patients[:n_pos_train]\n",
    "    val_ids = pos_patients[n_pos_train:]\n",
    "    \n",
    "    # add pneumonia-positive images into the training and validation dataset\n",
    "    train_data = df[(df['Patient ID'].isin(train_ids)) & (df['pneumonia_class']==\"Positive\")]\n",
    "    val_data = df[(df['Patient ID'].isin(val_ids)) & (df['pneumonia_class']==\"Positive\")]\n",
    "    \n",
    "    # number of images in training/validation datasets\n",
    "    n_train_data = train_data.shape[0]\n",
    "    n_val_data = val_data.shape[0]\n",
    "    \n",
    "    # all patients who don't have pneumonia-positive images\n",
    "    neg_patients = np.setdiff1d(all_patients, pos_patients)\n",
    "    \n",
    "    # shuffle neg_patients\n",
    "    np.random.shuffle(neg_patients)\n",
    "    \n",
    "    # random sample n_train_data patients\n",
    "    # and select the image they took on their first visit into training dataset\n",
    "    neg_patients_train = neg_patients[:n_train_data]\n",
    "    for pid in neg_patients_train:\n",
    "        train_data = train_data.append(df[(df['Patient ID']==pid) & (df['Follow-up #']==0)])\n",
    "    \n",
    "    # random sample 5*n_val_data patients\n",
    "    # and select the image they took on their first visit into validation dataset\n",
    "    neg_patients_val = neg_patients[n_train_data: n_train_data + 5*n_val_data]\n",
    "    for pid in neg_patients_val:\n",
    "        val_data = val_data.append(df[(df['Patient ID']==pid) & (df['Follow-up #']==0)])\n",
    "    \n",
    "    return train_data, val_data"
   ]
  },
  {
   "cell_type": "code",
   "execution_count": 12,
   "metadata": {
    "scrolled": true
   },
   "outputs": [
    {
     "name": "stdout",
     "output_type": "stream",
     "text": [
      "Training data: positive ratio = 0.500\n",
      "Testing data: positive ratio = 0.167\n"
     ]
    }
   ],
   "source": [
    "train_data, val_data = create_splits(df)\n",
    "print(\"Training data: positive ratio = {:.3f}\".format(sum(train_data['pneumonia_class']==\"Positive\")/train_data.shape[0]))\n",
    "print(\"Testing data: positive ratio = {:.3f}\".format(sum(val_data['pneumonia_class']==\"Positive\")/val_data.shape[0]))"
   ]
  },
  {
   "cell_type": "code",
   "execution_count": 13,
   "metadata": {
    "scrolled": false
   },
   "outputs": [
    {
     "data": {
      "text/html": [
       "<div>\n",
       "<style scoped>\n",
       "    .dataframe tbody tr th:only-of-type {\n",
       "        vertical-align: middle;\n",
       "    }\n",
       "\n",
       "    .dataframe tbody tr th {\n",
       "        vertical-align: top;\n",
       "    }\n",
       "\n",
       "    .dataframe thead th {\n",
       "        text-align: right;\n",
       "    }\n",
       "</style>\n",
       "<table border=\"1\" class=\"dataframe\">\n",
       "  <thead>\n",
       "    <tr style=\"text-align: right;\">\n",
       "      <th></th>\n",
       "      <th>Finding Labels</th>\n",
       "      <th>Follow-up #</th>\n",
       "      <th>Patient ID</th>\n",
       "      <th>Patient Age</th>\n",
       "      <th>Patient Gender</th>\n",
       "      <th>View Position</th>\n",
       "      <th>path</th>\n",
       "      <th>pneumonia_class</th>\n",
       "      <th>Comorbid</th>\n",
       "      <th>Age</th>\n",
       "    </tr>\n",
       "  </thead>\n",
       "  <tbody>\n",
       "    <tr>\n",
       "      <th>48</th>\n",
       "      <td>Effusion|Pneumonia|Pneumothorax</td>\n",
       "      <td>10</td>\n",
       "      <td>13</td>\n",
       "      <td>60</td>\n",
       "      <td>M</td>\n",
       "      <td>AP</td>\n",
       "      <td>/data/images_001/images/00000013_010.png</td>\n",
       "      <td>Positive</td>\n",
       "      <td>with_comorbid</td>\n",
       "      <td>60-70</td>\n",
       "    </tr>\n",
       "    <tr>\n",
       "      <th>126</th>\n",
       "      <td>Atelectasis|Consolidation|Edema|Pneumonia</td>\n",
       "      <td>12</td>\n",
       "      <td>32</td>\n",
       "      <td>55</td>\n",
       "      <td>F</td>\n",
       "      <td>AP</td>\n",
       "      <td>/data/images_001/images/00000032_012.png</td>\n",
       "      <td>Positive</td>\n",
       "      <td>with_comorbid</td>\n",
       "      <td>50-60</td>\n",
       "    </tr>\n",
       "    <tr>\n",
       "      <th>614</th>\n",
       "      <td>Atelectasis|Infiltration|Pneumonia</td>\n",
       "      <td>2</td>\n",
       "      <td>150</td>\n",
       "      <td>55</td>\n",
       "      <td>F</td>\n",
       "      <td>AP</td>\n",
       "      <td>/data/images_001/images/00000150_002.png</td>\n",
       "      <td>Positive</td>\n",
       "      <td>with_comorbid</td>\n",
       "      <td>50-60</td>\n",
       "    </tr>\n",
       "    <tr>\n",
       "      <th>1073</th>\n",
       "      <td>Pneumonia</td>\n",
       "      <td>2</td>\n",
       "      <td>261</td>\n",
       "      <td>40</td>\n",
       "      <td>F</td>\n",
       "      <td>AP</td>\n",
       "      <td>/data/images_001/images/00000261_002.png</td>\n",
       "      <td>Positive</td>\n",
       "      <td>no_comorbid</td>\n",
       "      <td>40-50</td>\n",
       "    </tr>\n",
       "    <tr>\n",
       "      <th>1078</th>\n",
       "      <td>Infiltration|Pneumonia</td>\n",
       "      <td>7</td>\n",
       "      <td>261</td>\n",
       "      <td>41</td>\n",
       "      <td>F</td>\n",
       "      <td>PA</td>\n",
       "      <td>/data/images_001/images/00000261_007.png</td>\n",
       "      <td>Positive</td>\n",
       "      <td>with_comorbid</td>\n",
       "      <td>40-50</td>\n",
       "    </tr>\n",
       "  </tbody>\n",
       "</table>\n",
       "</div>"
      ],
      "text/plain": [
       "                                 Finding Labels  Follow-up #  Patient ID  \\\n",
       "48              Effusion|Pneumonia|Pneumothorax           10          13   \n",
       "126   Atelectasis|Consolidation|Edema|Pneumonia           12          32   \n",
       "614          Atelectasis|Infiltration|Pneumonia            2         150   \n",
       "1073                                  Pneumonia            2         261   \n",
       "1078                     Infiltration|Pneumonia            7         261   \n",
       "\n",
       "      Patient Age Patient Gender View Position  \\\n",
       "48             60              M            AP   \n",
       "126            55              F            AP   \n",
       "614            55              F            AP   \n",
       "1073           40              F            AP   \n",
       "1078           41              F            PA   \n",
       "\n",
       "                                          path pneumonia_class       Comorbid  \\\n",
       "48    /data/images_001/images/00000013_010.png        Positive  with_comorbid   \n",
       "126   /data/images_001/images/00000032_012.png        Positive  with_comorbid   \n",
       "614   /data/images_001/images/00000150_002.png        Positive  with_comorbid   \n",
       "1073  /data/images_001/images/00000261_002.png        Positive    no_comorbid   \n",
       "1078  /data/images_001/images/00000261_007.png        Positive  with_comorbid   \n",
       "\n",
       "        Age  \n",
       "48    60-70  \n",
       "126   50-60  \n",
       "614   50-60  \n",
       "1073  40-50  \n",
       "1078  40-50  "
      ]
     },
     "execution_count": 13,
     "metadata": {},
     "output_type": "execute_result"
    }
   ],
   "source": [
    "val_data.head()"
   ]
  },
  {
   "cell_type": "markdown",
   "metadata": {},
   "source": [
    "### Image augmentations\n",
    "\n",
    "The cell below implements the augmentation method of data"
   ]
  },
  {
   "cell_type": "code",
   "execution_count": 14,
   "metadata": {
    "scrolled": true
   },
   "outputs": [],
   "source": [
    "def my_image_augmentation(train):\n",
    "    \"\"\"\n",
    "    Create ImageDataGenerator with data augmentation for the training and test dataset\n",
    "    Args:\n",
    "        train: (bool) indicating whether or not the generator is for training\n",
    "    Output:\n",
    "        data_gen: data generator\n",
    "    \"\"\"\n",
    "    if train:\n",
    "        data_gen = ImageDataGenerator(width_shift_range=[-0.1, 0.1],\n",
    "                                      height_shift_range=[-0.1, 0.1],\n",
    "                                      rotation_range=10,\n",
    "                                      shear_range=10,\n",
    "                                      zoom_range=0.1,\n",
    "                                      featurewise_center=True,\n",
    "                                      featurewise_std_normalization=True)\n",
    "    else:\n",
    "        data_gen = ImageDataGenerator(featurewise_center=True,\n",
    "                                      featurewise_std_normalization=True)\n",
    "    \n",
    "    \n",
    "    data_gen.mean = np.array([127.5, 127.5, 127.5], dtype=np.float32).reshape((1,1,3)) # ordering: [R, G, B]\n",
    "    data_gen.std = np.array([127.5, 127.5, 127.5], dtype=np.float32).reshape((1,1,3)) # ordering: [R, G, B]\n",
    "        \n",
    "    return data_gen\n",
    "\n",
    "\n",
    "def make_train_gen(data_gen, df):\n",
    "    \"\"\"\n",
    "    Implementation of the flow_from_dataframe of the traing data generator\n",
    "    Args:\n",
    "        data_gen - the training data generator\n",
    "        df - the dataframe of the training data with paths to the images\n",
    "    Outputs:\n",
    "        train_gen - the training data generator\n",
    "    \"\"\"\n",
    "    train_gen = data_gen.flow_from_dataframe(dataframe=df, \n",
    "                                             directory=None, \n",
    "                                             x_col='path',\n",
    "                                             y_col='pneumonia_class',\n",
    "                                             class_mode='binary',\n",
    "                                             target_size=(224, 224), \n",
    "                                             batch_size=64,\n",
    "                                             shuffle=True)\n",
    "    return train_gen\n",
    "\n",
    "\n",
    "def make_val_gen(data_gen, df):\n",
    "    \"\"\"\n",
    "    Implementation of the flow_from_dataframe of the validation data generator\n",
    "    Args:\n",
    "        data_gen - the validation data generator\n",
    "        df - the dataframe of the validation data with paths to the images\n",
    "    Outputs:\n",
    "        val_gen - the validation data generator\n",
    "    \"\"\"\n",
    "    val_gen = data_gen.flow_from_dataframe(dataframe=df, \n",
    "                                           directory=None, \n",
    "                                           x_col='path',\n",
    "                                           y_col='pneumonia_class',\n",
    "                                           class_mode='binary',\n",
    "                                           target_size=(224, 224), \n",
    "                                           batch_size=64,\n",
    "                                           shuffle=False)\n",
    "    return val_gen"
   ]
  },
  {
   "cell_type": "markdown",
   "metadata": {},
   "source": [
    "### Create model and load weights"
   ]
  },
  {
   "cell_type": "markdown",
   "metadata": {},
   "source": [
    "The cells below re-create the VGG-based model we used in training."
   ]
  },
  {
   "cell_type": "code",
   "execution_count": 15,
   "metadata": {
    "scrolled": true
   },
   "outputs": [],
   "source": [
    "def build_my_model():\n",
    "    \"\"\"\n",
    "    Build the model from Keras for image classification (using pre-trained VGG)\n",
    "    \"\"\"\n",
    "    # create the model\n",
    "    model = keras.Sequential(name='model')\n",
    "    \n",
    "    # load pretrained VGG16 (include_top=True)\n",
    "    vgg16 = VGG16(include_top=True, weights='imagenet')\n",
    "    \n",
    "    # add all layers except for the last (dense) layer of vgg into model\n",
    "    for vgg_layer in vgg16.layers[:-1]:\n",
    "        model.add(vgg_layer)\n",
    "        \n",
    "    # (d=4096)\n",
    "    # add a dropout layer and a final layer for binary classification\n",
    "    model.add(Dropout(0.1))\n",
    "    model.add(Dense(1, activation='sigmoid'))\n",
    "    \n",
    "    # freeze all layers\n",
    "    for layer in model.layers:\n",
    "        layer.trainable = False\n",
    "    \n",
    "    # optimizer\n",
    "    opt = keras.optimizers.Adam(learning_rate=5e-5)\n",
    "    \n",
    "    # metrics\n",
    "    metrics = [BinaryAccuracy(name='acc')]\n",
    "    \n",
    "    # compile\n",
    "    model.compile(loss='binary_crossentropy', optimizer=opt, metrics=metrics)\n",
    "    \n",
    "    return model"
   ]
  },
  {
   "cell_type": "code",
   "execution_count": 16,
   "metadata": {
    "scrolled": false
   },
   "outputs": [
    {
     "name": "stdout",
     "output_type": "stream",
     "text": [
      "Downloading data from https://github.com/fchollet/deep-learning-models/releases/download/v0.1/vgg16_weights_tf_dim_ordering_tf_kernels.h5\n",
      "553467904/553467096 [==============================] - 6s 0us/step\n",
      "Model: \"model\"\n",
      "_________________________________________________________________\n",
      "Layer (type)                 Output Shape              Param #   \n",
      "=================================================================\n",
      "block1_conv1 (Conv2D)        (None, 224, 224, 64)      1792      \n",
      "_________________________________________________________________\n",
      "block1_conv2 (Conv2D)        (None, 224, 224, 64)      36928     \n",
      "_________________________________________________________________\n",
      "block1_pool (MaxPooling2D)   (None, 112, 112, 64)      0         \n",
      "_________________________________________________________________\n",
      "block2_conv1 (Conv2D)        (None, 112, 112, 128)     73856     \n",
      "_________________________________________________________________\n",
      "block2_conv2 (Conv2D)        (None, 112, 112, 128)     147584    \n",
      "_________________________________________________________________\n",
      "block2_pool (MaxPooling2D)   (None, 56, 56, 128)       0         \n",
      "_________________________________________________________________\n",
      "block3_conv1 (Conv2D)        (None, 56, 56, 256)       295168    \n",
      "_________________________________________________________________\n",
      "block3_conv2 (Conv2D)        (None, 56, 56, 256)       590080    \n",
      "_________________________________________________________________\n",
      "block3_conv3 (Conv2D)        (None, 56, 56, 256)       590080    \n",
      "_________________________________________________________________\n",
      "block3_pool (MaxPooling2D)   (None, 28, 28, 256)       0         \n",
      "_________________________________________________________________\n",
      "block4_conv1 (Conv2D)        (None, 28, 28, 512)       1180160   \n",
      "_________________________________________________________________\n",
      "block4_conv2 (Conv2D)        (None, 28, 28, 512)       2359808   \n",
      "_________________________________________________________________\n",
      "block4_conv3 (Conv2D)        (None, 28, 28, 512)       2359808   \n",
      "_________________________________________________________________\n",
      "block4_pool (MaxPooling2D)   (None, 14, 14, 512)       0         \n",
      "_________________________________________________________________\n",
      "block5_conv1 (Conv2D)        (None, 14, 14, 512)       2359808   \n",
      "_________________________________________________________________\n",
      "block5_conv2 (Conv2D)        (None, 14, 14, 512)       2359808   \n",
      "_________________________________________________________________\n",
      "block5_conv3 (Conv2D)        (None, 14, 14, 512)       2359808   \n",
      "_________________________________________________________________\n",
      "block5_pool (MaxPooling2D)   (None, 7, 7, 512)         0         \n",
      "_________________________________________________________________\n",
      "flatten (Flatten)            (None, 25088)             0         \n",
      "_________________________________________________________________\n",
      "fc1 (Dense)                  (None, 4096)              102764544 \n",
      "_________________________________________________________________\n",
      "fc2 (Dense)                  (None, 4096)              16781312  \n",
      "_________________________________________________________________\n",
      "dropout_1 (Dropout)          (None, 4096)              0         \n",
      "_________________________________________________________________\n",
      "dense_1 (Dense)              (None, 1)                 4097      \n",
      "=================================================================\n",
      "Total params: 134,264,641\n",
      "Trainable params: 0\n",
      "Non-trainable params: 134,264,641\n",
      "_________________________________________________________________\n"
     ]
    }
   ],
   "source": [
    "# create model\n",
    "model = build_my_model()\n",
    "# load weights\n",
    "model.load_weights('./xray_class_my_model.best.hdf5')\n",
    "# print model summary\n",
    "model.summary()"
   ]
  },
  {
   "cell_type": "markdown",
   "metadata": {},
   "source": [
    "### Model prediction on the validation dataset\n",
    "\n",
    "We use the trained model to predict on the validation dataset. After outputing a score, we use threshold value **0.2768** to classify the results into `with pneumonia` and `no pneumonia`. The threshold value was selected by the methods described in the notebook `Build and train model`."
   ]
  },
  {
   "cell_type": "code",
   "execution_count": 17,
   "metadata": {
    "scrolled": true
   },
   "outputs": [
    {
     "name": "stdout",
     "output_type": "stream",
     "text": [
      "Found 2850 validated image filenames belonging to 2 classes.\n",
      "[1 1 1 ... 0 0 0]\n",
      "45/45 [==============================] - 61s 1s/step\n",
      "[0.8348358  0.95136917 0.6688905  ... 0.08948319 0.9534876  0.28704643]\n"
     ]
    }
   ],
   "source": [
    "# create validation data generator\n",
    "val_gen = make_val_gen(my_image_augmentation(train=False), val_data)\n",
    "\n",
    "# reset generator\n",
    "val_gen.reset()\n",
    "\n",
    "# actual labels\n",
    "y_true = np.array(val_gen.classes)\n",
    "print(y_true)\n",
    "\n",
    "# predict on validation data\n",
    "pred_Y = model.predict_generator(val_gen, steps=int(np.ceil(val_gen.n/val_gen.batch_size)), verbose=1)\n",
    "y_score = np.squeeze(pred_Y)\n",
    "print(y_score)"
   ]
  },
  {
   "cell_type": "markdown",
   "metadata": {},
   "source": [
    "### Using Aequitas for biases and fairness analysis\n",
    "\n",
    "The procedures below follow the [Aequitas tutorial](https://dssg.github.io/aequitas/examples/compas_demo.html)."
   ]
  },
  {
   "cell_type": "code",
   "execution_count": 18,
   "metadata": {
    "scrolled": true
   },
   "outputs": [
    {
     "data": {
      "text/html": [
       "<div>\n",
       "<style scoped>\n",
       "    .dataframe tbody tr th:only-of-type {\n",
       "        vertical-align: middle;\n",
       "    }\n",
       "\n",
       "    .dataframe tbody tr th {\n",
       "        vertical-align: top;\n",
       "    }\n",
       "\n",
       "    .dataframe thead th {\n",
       "        text-align: right;\n",
       "    }\n",
       "</style>\n",
       "<table border=\"1\" class=\"dataframe\">\n",
       "  <thead>\n",
       "    <tr style=\"text-align: right;\">\n",
       "      <th></th>\n",
       "      <th>Patient Gender</th>\n",
       "      <th>View Position</th>\n",
       "      <th>pneumonia_class</th>\n",
       "      <th>Comorbid</th>\n",
       "      <th>Age</th>\n",
       "    </tr>\n",
       "  </thead>\n",
       "  <tbody>\n",
       "    <tr>\n",
       "      <th>48</th>\n",
       "      <td>M</td>\n",
       "      <td>AP</td>\n",
       "      <td>Positive</td>\n",
       "      <td>with_comorbid</td>\n",
       "      <td>60-70</td>\n",
       "    </tr>\n",
       "    <tr>\n",
       "      <th>126</th>\n",
       "      <td>F</td>\n",
       "      <td>AP</td>\n",
       "      <td>Positive</td>\n",
       "      <td>with_comorbid</td>\n",
       "      <td>50-60</td>\n",
       "    </tr>\n",
       "    <tr>\n",
       "      <th>614</th>\n",
       "      <td>F</td>\n",
       "      <td>AP</td>\n",
       "      <td>Positive</td>\n",
       "      <td>with_comorbid</td>\n",
       "      <td>50-60</td>\n",
       "    </tr>\n",
       "    <tr>\n",
       "      <th>1073</th>\n",
       "      <td>F</td>\n",
       "      <td>AP</td>\n",
       "      <td>Positive</td>\n",
       "      <td>no_comorbid</td>\n",
       "      <td>40-50</td>\n",
       "    </tr>\n",
       "    <tr>\n",
       "      <th>1078</th>\n",
       "      <td>F</td>\n",
       "      <td>PA</td>\n",
       "      <td>Positive</td>\n",
       "      <td>with_comorbid</td>\n",
       "      <td>40-50</td>\n",
       "    </tr>\n",
       "  </tbody>\n",
       "</table>\n",
       "</div>"
      ],
      "text/plain": [
       "     Patient Gender View Position pneumonia_class       Comorbid    Age\n",
       "48                M            AP        Positive  with_comorbid  60-70\n",
       "126               F            AP        Positive  with_comorbid  50-60\n",
       "614               F            AP        Positive  with_comorbid  50-60\n",
       "1073              F            AP        Positive    no_comorbid  40-50\n",
       "1078              F            PA        Positive  with_comorbid  40-50"
      ]
     },
     "execution_count": 18,
     "metadata": {},
     "output_type": "execute_result"
    }
   ],
   "source": [
    "# use a dataframe copy\n",
    "val_df = val_data.copy()\n",
    "val_df = val_df.drop(columns=['Patient Age', 'Finding Labels', 'Follow-up #', 'Patient ID', 'path'])\n",
    "val_df.head()"
   ]
  },
  {
   "cell_type": "code",
   "execution_count": 19,
   "metadata": {
    "scrolled": true
   },
   "outputs": [
    {
     "data": {
      "text/html": [
       "<div>\n",
       "<style scoped>\n",
       "    .dataframe tbody tr th:only-of-type {\n",
       "        vertical-align: middle;\n",
       "    }\n",
       "\n",
       "    .dataframe tbody tr th {\n",
       "        vertical-align: top;\n",
       "    }\n",
       "\n",
       "    .dataframe thead th {\n",
       "        text-align: right;\n",
       "    }\n",
       "</style>\n",
       "<table border=\"1\" class=\"dataframe\">\n",
       "  <thead>\n",
       "    <tr style=\"text-align: right;\">\n",
       "      <th></th>\n",
       "      <th>Patient Gender</th>\n",
       "      <th>View Position</th>\n",
       "      <th>label_value</th>\n",
       "      <th>Comorbid</th>\n",
       "      <th>Age</th>\n",
       "      <th>score</th>\n",
       "    </tr>\n",
       "  </thead>\n",
       "  <tbody>\n",
       "    <tr>\n",
       "      <th>48</th>\n",
       "      <td>M</td>\n",
       "      <td>AP</td>\n",
       "      <td>1</td>\n",
       "      <td>with_comorbid</td>\n",
       "      <td>60-70</td>\n",
       "      <td>1</td>\n",
       "    </tr>\n",
       "    <tr>\n",
       "      <th>126</th>\n",
       "      <td>F</td>\n",
       "      <td>AP</td>\n",
       "      <td>1</td>\n",
       "      <td>with_comorbid</td>\n",
       "      <td>50-60</td>\n",
       "      <td>1</td>\n",
       "    </tr>\n",
       "    <tr>\n",
       "      <th>614</th>\n",
       "      <td>F</td>\n",
       "      <td>AP</td>\n",
       "      <td>1</td>\n",
       "      <td>with_comorbid</td>\n",
       "      <td>50-60</td>\n",
       "      <td>1</td>\n",
       "    </tr>\n",
       "    <tr>\n",
       "      <th>1073</th>\n",
       "      <td>F</td>\n",
       "      <td>AP</td>\n",
       "      <td>1</td>\n",
       "      <td>no_comorbid</td>\n",
       "      <td>40-50</td>\n",
       "      <td>1</td>\n",
       "    </tr>\n",
       "    <tr>\n",
       "      <th>1078</th>\n",
       "      <td>F</td>\n",
       "      <td>PA</td>\n",
       "      <td>1</td>\n",
       "      <td>with_comorbid</td>\n",
       "      <td>40-50</td>\n",
       "      <td>1</td>\n",
       "    </tr>\n",
       "  </tbody>\n",
       "</table>\n",
       "</div>"
      ],
      "text/plain": [
       "     Patient Gender View Position  label_value       Comorbid    Age  score\n",
       "48                M            AP            1  with_comorbid  60-70      1\n",
       "126               F            AP            1  with_comorbid  50-60      1\n",
       "614               F            AP            1  with_comorbid  50-60      1\n",
       "1073              F            AP            1    no_comorbid  40-50      1\n",
       "1078              F            PA            1  with_comorbid  40-50      1"
      ]
     },
     "execution_count": 19,
     "metadata": {},
     "output_type": "execute_result"
    }
   ],
   "source": [
    "# the threshold value for binary classification\n",
    "THRESHOLD = 0.2768\n",
    "\n",
    "# create a `score` column\n",
    "val_df['score'] = np.array(y_score) > THRESHOLD\n",
    "val_df['score'] = val_df['score'].replace({True: 1, False: 0})\n",
    "\n",
    "# rename column `pneumonia_class` to `label_value`\n",
    "val_df = val_df.rename(columns={\"pneumonia_class\": \"label_value\"})\n",
    "val_df['label_value'] = val_df['label_value'].replace({\"Positive\": 1, \"Negative\": 0})\n",
    "\n",
    "val_df.head()"
   ]
  },
  {
   "cell_type": "code",
   "execution_count": 20,
   "metadata": {
    "scrolled": true
   },
   "outputs": [
    {
     "name": "stdout",
     "output_type": "stream",
     "text": [
      "model_id, score_thresholds 1 {'rank_abs': [477]}\n"
     ]
    }
   ],
   "source": [
    "# calculate absolute group metrics\n",
    "g = Group()\n",
    "xtab, _ = g.get_crosstabs(val_df)"
   ]
  },
  {
   "cell_type": "markdown",
   "metadata": {},
   "source": [
    "### Biases analysis"
   ]
  },
  {
   "cell_type": "code",
   "execution_count": 21,
   "metadata": {
    "scrolled": true
   },
   "outputs": [
    {
     "name": "stdout",
     "output_type": "stream",
     "text": [
      "get_disparity_predefined_group()\n"
     ]
    },
    {
     "name": "stderr",
     "output_type": "stream",
     "text": [
      "/opt/conda/lib/python3.7/site-packages/aequitas/bias.py:368: FutureWarning: The pandas.np module is deprecated and will be removed from pandas in a future version. Import numpy directly instead\n",
      "  df = df.replace(pd.np.inf, fill_divbyzero)\n"
     ]
    }
   ],
   "source": [
    "b = Bias()\n",
    "bdf = b.get_disparity_predefined_groups(xtab,\n",
    "                                        original_df=val_df, \n",
    "                                        ref_groups_dict={'View Position': 'AP',\n",
    "                                                         'Patient Gender': 'M',\n",
    "                                                         'Age': '40-50',\n",
    "                                                         \"Comorbid\": \"no_comorbid\"}, \n",
    "                                        alpha=0.05, \n",
    "                                        check_significance=False)"
   ]
  },
  {
   "cell_type": "code",
   "execution_count": 22,
   "metadata": {
    "scrolled": false
   },
   "outputs": [
    {
     "data": {
      "image/png": "[encoded data removed]",
      "text/plain": [
       "<Figure size 360x288 with 2 Axes>"
      ]
     },
     "metadata": {
      "needs_background": "light"
     },
     "output_type": "display_data"
    },
    {
     "data": {
      "image/png": "[encoded data removed]",
      "text/plain": [
       "<Figure size 360x288 with 2 Axes>"
      ]
     },
     "metadata": {
      "needs_background": "light"
     },
     "output_type": "display_data"
    }
   ],
   "source": [
    "aqp = Plot()\n",
    "# Gender\n",
    "aqp.plot_disparity(bdf, group_metric='fpr_disparity', attribute_name='Patient Gender')\n",
    "aqp.plot_disparity(bdf, group_metric='fnr_disparity', attribute_name='Patient Gender')"
   ]
  },
  {
   "cell_type": "code",
   "execution_count": 23,
   "metadata": {
    "scrolled": false
   },
   "outputs": [
    {
     "data": {
      "image/png": "[encoded data removed]",
      "text/plain": [
       "<Figure size 360x288 with 2 Axes>"
      ]
     },
     "metadata": {
      "needs_background": "light"
     },
     "output_type": "display_data"
    },
    {
     "data": {
      "image/png": "[encoded data removed]",
      "text/plain": [
       "<Figure size 360x288 with 2 Axes>"
      ]
     },
     "metadata": {
      "needs_background": "light"
     },
     "output_type": "display_data"
    }
   ],
   "source": [
    "# Age\n",
    "aqp.plot_disparity(bdf, group_metric='fpr_disparity', attribute_name='Age')\n",
    "aqp.plot_disparity(bdf, group_metric='fnr_disparity', attribute_name='Age')"
   ]
  },
  {
   "cell_type": "code",
   "execution_count": 24,
   "metadata": {},
   "outputs": [
    {
     "data": {
      "image/png": "[encoded data removed]",
      "text/plain": [
       "<Figure size 360x288 with 2 Axes>"
      ]
     },
     "metadata": {
      "needs_background": "light"
     },
     "output_type": "display_data"
    },
    {
     "data": {
      "image/png": "[encoded data removed]",
      "text/plain": [
       "<Figure size 360x288 with 2 Axes>"
      ]
     },
     "metadata": {
      "needs_background": "light"
     },
     "output_type": "display_data"
    }
   ],
   "source": [
    "# View Position\n",
    "aqp.plot_disparity(bdf, group_metric='fpr_disparity', attribute_name='View Position')\n",
    "aqp.plot_disparity(bdf, group_metric='fnr_disparity', attribute_name='View Position')"
   ]
  },
  {
   "cell_type": "code",
   "execution_count": 25,
   "metadata": {},
   "outputs": [
    {
     "data": {
      "image/png": "[encoded data removed]",
      "text/plain": [
       "<Figure size 360x288 with 2 Axes>"
      ]
     },
     "metadata": {
      "needs_background": "light"
     },
     "output_type": "display_data"
    },
    {
     "data": {
      "image/png": "[encoded data removed]",
      "text/plain": [
       "<Figure size 360x288 with 2 Axes>"
      ]
     },
     "metadata": {
      "needs_background": "light"
     },
     "output_type": "display_data"
    }
   ],
   "source": [
    "# View Position\n",
    "aqp.plot_disparity(bdf, group_metric='fpr_disparity', attribute_name='Comorbid')\n",
    "aqp.plot_disparity(bdf, group_metric='fnr_disparity', attribute_name='Comorbid')"
   ]
  },
  {
   "cell_type": "markdown",
   "metadata": {},
   "source": [
    "### Fairness analysis"
   ]
  },
  {
   "cell_type": "code",
   "execution_count": 26,
   "metadata": {
    "scrolled": true
   },
   "outputs": [
    {
     "name": "stderr",
     "output_type": "stream",
     "text": [
      "/opt/conda/lib/python3.7/site-packages/aequitas/fairness.py:32: FutureWarning: The pandas.np module is deprecated and will be removed from pandas in a future version. Import numpy directly instead\n",
      "  self.fair_eval = lambda tau: lambda x: pd.np.nan if pd.np.isnan(x) else \\\n",
      "/opt/conda/lib/python3.7/site-packages/aequitas/fairness.py:45: FutureWarning: The pandas.np module is deprecated and will be removed from pandas in a future version. Import numpy directly instead\n",
      "  self.high_level_pair_eval = lambda col1, col2: lambda x: pd.np.nan if (pd.np.isnan(x[col1]) and pd.np.isnan(x[col2])) \\\n"
     ]
    }
   ],
   "source": [
    "f = Fairness()\n",
    "fdf = f.get_group_value_fairness(bdf)"
   ]
  },
  {
   "cell_type": "code",
   "execution_count": 27,
   "metadata": {},
   "outputs": [
    {
     "data": {
      "image/png": "[encoded data removed]",
      "text/plain": [
       "<Figure size 720x360 with 1 Axes>"
      ]
     },
     "metadata": {
      "needs_background": "light"
     },
     "output_type": "display_data"
    }
   ],
   "source": [
    "# false positive rate\n",
    "fpr_fairness = aqp.plot_fairness_group(fdf, group_metric='fpr', title=True)"
   ]
  },
  {
   "cell_type": "code",
   "execution_count": 28,
   "metadata": {},
   "outputs": [
    {
     "data": {
      "image/png": "[encoded data removed]",
      "text/plain": [
       "<Figure size 720x360 with 1 Axes>"
      ]
     },
     "metadata": {
      "needs_background": "light"
     },
     "output_type": "display_data"
    }
   ],
   "source": [
    "# false negative rate\n",
    "fnr_fairness = aqp.plot_fairness_group(fdf, group_metric='fnr', title=True)"
   ]
  },
  {
   "cell_type": "code",
   "execution_count": null,
   "metadata": {},
   "outputs": [],
   "source": []
  }
 ],
 "metadata": {
  "kernelspec": {
   "display_name": "Python 3 (ipykernel)",
   "language": "python",
   "name": "python3"
  },
  "language_info": {
   "codemirror_mode": {
    "name": "ipython",
    "version": 3
   },
   "file_extension": ".py",
   "mimetype": "text/x-python",
   "name": "python",
   "nbconvert_exporter": "python",
   "pygments_lexer": "ipython3",
   "version": "3.7.6"
  }
 },
 "nbformat": 4,
 "nbformat_minor": 4
}
